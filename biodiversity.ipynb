{
 "cells": [
  {
   "cell_type": "markdown",
   "metadata": {},
   "source": [
    "# Biodiversity Project\n",
    "\n",
    "This project is part of the Codecademy course \"Data Scientist: Natural Language Processing Career Path\".\n",
    "\n",
    "For this project, data from National Parks Service about endangered species in different parks will be interpreted in order to check any patterns to endangered species.\n",
    "\n",
    "### Goals\n",
    "\n",
    "The aim of the project is to investigate any patterns or themes to the types of species that become endangered and then assess the likeliness of becoming extinct.\n",
    "\n",
    "### Resources\n",
    "\n",
    "Data from National Parks Service:\n",
    "\n",
    "- observations.csv\n",
    "\n",
    "- species_info.csv\n",
    "\n",
    "For classification status:\n",
    "\n",
    "- nps.gov\n",
    "\n",
    "- fisheries.noaa.gov\n",
    "\n",
    "- wikipedia.org\n",
    "\n",
    "- maine.gov\n",
    "\n",
    "Other:\n",
    "\n",
    "- wikipedia.org\n",
    "\n",
    "### Analysis\n",
    "\n",
    "\n",
    "Some analysis of the data will intend to answer the following questions:\n",
    "\n",
    "- What is the distribution of `conservation_status` for animals?\n",
    "- Are certain types of species more likely to be endangered?\n",
    "- Are the differences between species and their conservation status significant?\n",
    "- Which species were spotted the most at each park?\n",
    "\n"
   ]
  },
  {
   "cell_type": "markdown",
   "metadata": {},
   "source": [
    "## 1. Importing Python Libraries\n",
    "\n",
    "This project will be using Seaborn and Matplotlib libraries to plot data. Also, this project will be using Pandas and Numpy for data manipulation.\n"
   ]
  },
  {
   "cell_type": "code",
   "execution_count": 230,
   "metadata": {},
   "outputs": [],
   "source": [
    "import numpy as np\n",
    "import pandas as pd\n",
    "import seaborn as sns\n",
    "import matplotlib.pyplot as plt"
   ]
  },
  {
   "cell_type": "markdown",
   "metadata": {},
   "source": [
    "## 2. Loading the data\n"
   ]
  },
  {
   "cell_type": "code",
   "execution_count": 231,
   "metadata": {},
   "outputs": [],
   "source": [
    "species = pd.read_csv(\"species_info.csv\")\n",
    "observations = pd.read_csv(\"observations.csv\")"
   ]
  },
  {
   "cell_type": "markdown",
   "metadata": {},
   "source": [
    "## 3. Distribution of the conservation status \n",
    "\n",
    "Conservation status values are in the `species` dataset.\n",
    "\n",
    "### 3.1 Inspecting the `species` dataset\n",
    "\n",
    "In the `species` dataset there are four columns: `category`,`scientific_name`,`common_names`, and `conservation_status`.\n",
    "\n",
    "The first five entries of the `conservation_status` columns have no data."
   ]
  },
  {
   "cell_type": "code",
   "execution_count": 232,
   "metadata": {},
   "outputs": [
    {
     "name": "stdout",
     "output_type": "stream",
     "text": [
      "Index(['category', 'scientific_name', 'common_names', 'conservation_status'], dtype='object')\n",
      "  category                scientific_name  \\\n",
      "0   Mammal  Clethrionomys gapperi gapperi   \n",
      "1   Mammal                      Bos bison   \n",
      "2   Mammal                     Bos taurus   \n",
      "3   Mammal                     Ovis aries   \n",
      "4   Mammal                 Cervus elaphus   \n",
      "5   Mammal         Odocoileus virginianus   \n",
      "6   Mammal                     Sus scrofa   \n",
      "7   Mammal                  Canis latrans   \n",
      "8   Mammal                    Canis lupus   \n",
      "9   Mammal                    Canis rufus   \n",
      "\n",
      "                                        common_names conservation_status  \n",
      "0                           Gapper's Red-Backed Vole                 NaN  \n",
      "1                              American Bison, Bison                 NaN  \n",
      "2  Aurochs, Aurochs, Domestic Cattle (Feral), Dom...                 NaN  \n",
      "3  Domestic Sheep, Mouflon, Red Sheep, Sheep (Feral)                 NaN  \n",
      "4                                      Wapiti Or Elk                 NaN  \n",
      "5                                  White-Tailed Deer                 NaN  \n",
      "6                                Feral Hog, Wild Pig                 NaN  \n",
      "7                                             Coyote  Species of Concern  \n",
      "8                                          Gray Wolf          Endangered  \n",
      "9                                           Red Wolf          Endangered  \n"
     ]
    }
   ],
   "source": [
    "print(species.columns)\n",
    "print(species.head(10))\n"
   ]
  },
  {
   "cell_type": "markdown",
   "metadata": {},
   "source": [
    "As seen below, most entries in the conservation status columns (about 97%) have missing data."
   ]
  },
  {
   "cell_type": "code",
   "execution_count": 233,
   "metadata": {},
   "outputs": [
    {
     "name": "stdout",
     "output_type": "stream",
     "text": [
      "<class 'pandas.core.frame.DataFrame'>\n",
      "RangeIndex: 5824 entries, 0 to 5823\n",
      "Data columns (total 4 columns):\n",
      " #   Column               Non-Null Count  Dtype \n",
      "---  ------               --------------  ----- \n",
      " 0   category             5824 non-null   object\n",
      " 1   scientific_name      5824 non-null   object\n",
      " 2   common_names         5824 non-null   object\n",
      " 3   conservation_status  191 non-null    object\n",
      "dtypes: object(4)\n",
      "memory usage: 182.1+ KB\n",
      "None\n"
     ]
    }
   ],
   "source": [
    "print(species.info())"
   ]
  },
  {
   "cell_type": "code",
   "execution_count": 234,
   "metadata": {},
   "outputs": [
    {
     "data": {
      "text/html": [
       "<div>\n",
       "<style scoped>\n",
       "    .dataframe tbody tr th:only-of-type {\n",
       "        vertical-align: middle;\n",
       "    }\n",
       "\n",
       "    .dataframe tbody tr th {\n",
       "        vertical-align: top;\n",
       "    }\n",
       "\n",
       "    .dataframe thead th {\n",
       "        text-align: right;\n",
       "    }\n",
       "</style>\n",
       "<table border=\"1\" class=\"dataframe\">\n",
       "  <thead>\n",
       "    <tr style=\"text-align: right;\">\n",
       "      <th></th>\n",
       "      <th>category</th>\n",
       "      <th>scientific_name</th>\n",
       "      <th>common_names</th>\n",
       "      <th>conservation_status</th>\n",
       "    </tr>\n",
       "  </thead>\n",
       "  <tbody>\n",
       "    <tr>\n",
       "      <th>count</th>\n",
       "      <td>5824</td>\n",
       "      <td>5824</td>\n",
       "      <td>5824</td>\n",
       "      <td>191</td>\n",
       "    </tr>\n",
       "    <tr>\n",
       "      <th>unique</th>\n",
       "      <td>7</td>\n",
       "      <td>5541</td>\n",
       "      <td>5504</td>\n",
       "      <td>4</td>\n",
       "    </tr>\n",
       "    <tr>\n",
       "      <th>top</th>\n",
       "      <td>Vascular Plant</td>\n",
       "      <td>Castor canadensis</td>\n",
       "      <td>Brachythecium Moss</td>\n",
       "      <td>Species of Concern</td>\n",
       "    </tr>\n",
       "    <tr>\n",
       "      <th>freq</th>\n",
       "      <td>4470</td>\n",
       "      <td>3</td>\n",
       "      <td>7</td>\n",
       "      <td>161</td>\n",
       "    </tr>\n",
       "  </tbody>\n",
       "</table>\n",
       "</div>"
      ],
      "text/plain": [
       "              category    scientific_name        common_names  \\\n",
       "count             5824               5824                5824   \n",
       "unique               7               5541                5504   \n",
       "top     Vascular Plant  Castor canadensis  Brachythecium Moss   \n",
       "freq              4470                  3                   7   \n",
       "\n",
       "       conservation_status  \n",
       "count                  191  \n",
       "unique                   4  \n",
       "top     Species of Concern  \n",
       "freq                   161  "
      ]
     },
     "execution_count": 234,
     "metadata": {},
     "output_type": "execute_result"
    }
   ],
   "source": [
    "species.describe(include='all')"
   ]
  },
  {
   "cell_type": "markdown",
   "metadata": {},
   "source": [
    "### 3.1.1 Handling missing data\n",
    "\n",
    "Since there are 191 non-null values in the `conservation_status` column, it is crucial to tackle missing data. Despite the fact that there are 5824 rows, most of them have missing data for the conservation_status column."
   ]
  },
  {
   "cell_type": "code",
   "execution_count": 235,
   "metadata": {},
   "outputs": [
    {
     "data": {
      "text/plain": [
       "True     5633\n",
       "False     191\n",
       "Name: conservation_status, dtype: int64"
      ]
     },
     "execution_count": 235,
     "metadata": {},
     "output_type": "execute_result"
    }
   ],
   "source": [
    "species.conservation_status.isna().value_counts()"
   ]
  },
  {
   "cell_type": "code",
   "execution_count": 236,
   "metadata": {},
   "outputs": [
    {
     "data": {
      "text/plain": [
       "Species of Concern    161\n",
       "Endangered             16\n",
       "Threatened             10\n",
       "In Recovery             4\n",
       "Name: conservation_status, dtype: int64"
      ]
     },
     "execution_count": 236,
     "metadata": {},
     "output_type": "execute_result"
    }
   ],
   "source": [
    "species.conservation_status.value_counts()"
   ]
  },
  {
   "cell_type": "code",
   "execution_count": 237,
   "metadata": {},
   "outputs": [
    {
     "name": "stdout",
     "output_type": "stream",
     "text": [
      "179\n"
     ]
    },
    {
     "data": {
      "text/plain": [
       "array(['Canis latrans', 'Canis lupus', 'Canis rufus', 'Eptesicus fuscus',\n",
       "       'Lasionycteris noctivagans', 'Myotis austroriparius',\n",
       "       'Myotis grisescens', 'Myotis keenii', 'Myotis leibii',\n",
       "       'Myotis lucifugus', 'Myotis septentrionalis', 'Myotis sodalis',\n",
       "       'Glaucomys sabrinus coloratus', 'Accipiter cooperii',\n",
       "       'Accipiter striatus', 'Aquila chrysaetos', 'Buteo lineatus',\n",
       "       'Circus cyaneus', 'Elanoides forficatus',\n",
       "       'Haliaeetus leucocephalus', 'Cathartes aura', 'Pandion haliaetus',\n",
       "       'Aythya affinis', 'Chlidonias niger', 'Larus atricilla',\n",
       "       'Coccyzus erythropthalmus', 'Falco columbarius',\n",
       "       'Falco peregrinus', 'Gavia immer', 'Grus americana',\n",
       "       'Rallus elegans', 'Guiraca caerulea', 'Piranga rubra',\n",
       "       'Certhia americana', 'Aimophila aestivalis',\n",
       "       'Ammodramus savannarum', 'Melospiza lincolnii',\n",
       "       'Loxia curvirostra', 'Progne subis', 'Riparia riparia',\n",
       "       'Tachycineta bicolor', 'Lanius ludovicianus', 'Icteria virens',\n",
       "       'Vermivora bachmanii', 'Vermivora ruficapilla', 'Wilsonia pusilla',\n",
       "       'Thryomanes bewickii altus', 'Contopus cooperi',\n",
       "       'Empidonax traillii', 'Ardea herodias', 'Botaurus lentiginosus',\n",
       "       'Nycticorax nycticorax', 'Pelecanus erythrorhynchos',\n",
       "       'Dryocopus pileatus', 'Picoides borealis', 'Picoides pubescens',\n",
       "       'Sphyrapicus varius', 'Asio flammeus', 'Asio otus',\n",
       "       'Phalacrocorax auritus', 'Pituophis melanoleucus melanoleucus',\n",
       "       'Regina septemvittata',\n",
       "       'Cryptobranchus alleganiensis alleganiensis',\n",
       "       'Desmognathus wrighti', 'Erimonax monachus', 'Hemitremia flammea',\n",
       "       'Etheostoma percnurum', 'Percina burtoni', 'Percina squamata',\n",
       "       'Noturus baileyi', 'Noturus flavipinnis', 'Tofieldia glabra',\n",
       "       'Zizia trifoliata', 'Isotria medeoloides',\n",
       "       'Parthenium integrifolium', 'Rugelia nudicaulis',\n",
       "       'Cardamine clematitis', 'Silene ovata', 'Parnassia grandifolia',\n",
       "       'Shortia galacifolia', 'Monotropa uniflora', 'Monotropsis odorata',\n",
       "       'Vaccinium hirsutum', 'Lysimachia fraseri', 'Juglans cinerea',\n",
       "       'Lilium grayi', 'Trillium pusillum var. pusillum',\n",
       "       'Euphorbia purpurea', 'Abies fraseri',\n",
       "       'Carex communis var. amplisquama', 'Calamagrostis cainii',\n",
       "       'Dichanthelium acuminatum var. acuminatum', 'Glyceria nubigena',\n",
       "       'Poa paludigena', 'Delphinium exaltatum', 'Geum radiatum',\n",
       "       'Spiraea virginiana', 'Buckleya distichophylla',\n",
       "       'Saxifraga caroliniana', 'Plagiomnium carolinianum',\n",
       "       'Leptohymenium sharpii', 'Bazzania nudicaulis',\n",
       "       'Lophocolea appalachiana', 'Tortula ammonsiana', 'Ovis canadensis',\n",
       "       'Taxidea taxus', 'Ursus arctos horribilis', 'Antrozous pallidus',\n",
       "       'Euderma maculatum', 'Myotis californicus', 'Myotis evotis',\n",
       "       'Myotis thysanodes', 'Myotis volans', 'Myotis yumanensis',\n",
       "       'Sorex preblei', 'Buteo lagopus', 'Cygnus buccinator',\n",
       "       'Chaetura vauxi', 'Selasphorus rufus', 'Stellula calliope',\n",
       "       'Sterna hirundo', 'Bartramia longicauda', 'Limosa fedoa',\n",
       "       'Patagioenas fasciata', 'Falco mexicanus',\n",
       "       'Falco peregrinus anatum', 'Coturnicops noveboracensis',\n",
       "       'Calcarius mccownii', 'Gymnorhinus cyanocephalus',\n",
       "       'Pipilo chlorurus', 'Spizella breweri', 'Oreoscoptes montanus',\n",
       "       'Phainopepla nitens', 'Sialia mexicana', 'Plegadis chihi',\n",
       "       'Sphyrapicus thyroideus', 'Aechmophorus occidentalis',\n",
       "       'Sceloporus graciosus graciosus', 'Rana luteiventris',\n",
       "       'Chasmistes liorus', 'Oncorhynchus mykiss', 'Cottus bairdii',\n",
       "       'Najas flexilis', 'Sium suave', 'Iris missouriensis',\n",
       "       'Abronia ammophila', 'Castilleja sulphurea', 'Mimulus patulus',\n",
       "       'Achnatherum contractum', 'Ovis canadensis sierrae',\n",
       "       'Bassariscus astutus', 'Lasiurus blossevillii',\n",
       "       'Lepus americanus tahoensis', 'Sylvilagus bachmani',\n",
       "       'Aplodontia rufa californica', 'Elanus leucurus',\n",
       "       'Gymnogyps californianus', 'Cypseloides niger', 'Pica nuttalli',\n",
       "       'Pyrocephalus rubinus', 'Pelecanus occidentalis',\n",
       "       'Diadophis punctatus', 'Lampropeltis getula californiae',\n",
       "       'Anaxyrus canorus', 'Rana draytonii', 'Rana sierrae',\n",
       "       'Hydromantes platycephalus', 'Oncorhynchus clarkii henshawi',\n",
       "       'Lomatium congdonii', 'Allium tribracteatum',\n",
       "       'Eriophyllum nubigenum', 'Plagiobothrys torreyi var. diffusus',\n",
       "       'Trifolium bolanderi', 'Mimulus filicaulis',\n",
       "       'Callitriche marginata', 'Camissonia sierrae ssp. alticola',\n",
       "       'Epilobium oreganum', 'Botrychium ascendens', 'Romneya coulteri'],\n",
       "      dtype=object)"
      ]
     },
     "execution_count": 237,
     "metadata": {},
     "output_type": "execute_result"
    }
   ],
   "source": [
    "# getting to know species that have a value for the conservation_status column\n",
    "species_conservation = species[species.conservation_status.notna()]\n",
    "species_conservation = species_conservation.rename(columns={'scientific_name': 'scientific', 'common_names': 'nicknames',\\\n",
    "                                     'conservation_status': 'status'})\n",
    "print(species_conservation.scientific.nunique())\n",
    "species_conservation.scientific.unique()\n"
   ]
  },
  {
   "cell_type": "code",
   "execution_count": 238,
   "metadata": {},
   "outputs": [
    {
     "data": {
      "text/plain": [
       "False    5633\n",
       "dtype: int64"
      ]
     },
     "execution_count": 238,
     "metadata": {},
     "output_type": "execute_result"
    }
   ],
   "source": [
    "# getting to know species that have no value for the conservation_status column\n",
    "species_nan = species[species.conservation_status.isna()]\n",
    "species_nan = species_nan.rename(columns={'scientific_name': 'scientific', 'common_names': 'nicknames',\\\n",
    "                                     'conservation_status': 'status'})\n",
    "species_nan.head()\n",
    "species_nan.duplicated().value_counts()"
   ]
  },
  {
   "cell_type": "markdown",
   "metadata": {},
   "source": [
    "#### Some analysis\n",
    "\n",
    "Provided that the number of missing data is too high, listwise deletion is not an option in that it would reduce the sample size too much. Although, that will be required to assess the distribution of conservation status for animals.\n",
    "\n",
    "On the other hand, in spite of the `conservation_status` value is missing, information in other columns (category, scientific name, and common names) might be important to analyse the `observation` dataset."
   ]
  },
  {
   "cell_type": "markdown",
   "metadata": {},
   "source": [
    "### 3.1.2 Handling duplicated data\n",
    "\n",
    "Since each species has its own unique scientific name, the expected unique number should be the same of the number of rows (5824). However, there are 5541 unique values in the `scientific name`  column, which reveals the existence of duplicated entries. \n",
    "\n"
   ]
  },
  {
   "cell_type": "markdown",
   "metadata": {},
   "source": [
    "### 3.1.2.1 Inspecting `scientific_name` duplicated data"
   ]
  },
  {
   "cell_type": "code",
   "execution_count": 239,
   "metadata": {},
   "outputs": [
    {
     "name": "stdout",
     "output_type": "stream",
     "text": [
      "Is there duplicated rows? False\n"
     ]
    },
    {
     "data": {
      "text/html": [
       "<div>\n",
       "<style scoped>\n",
       "    .dataframe tbody tr th:only-of-type {\n",
       "        vertical-align: middle;\n",
       "    }\n",
       "\n",
       "    .dataframe tbody tr th {\n",
       "        vertical-align: top;\n",
       "    }\n",
       "\n",
       "    .dataframe thead th {\n",
       "        text-align: right;\n",
       "    }\n",
       "</style>\n",
       "<table border=\"1\" class=\"dataframe\">\n",
       "  <thead>\n",
       "    <tr style=\"text-align: right;\">\n",
       "      <th></th>\n",
       "      <th>category</th>\n",
       "      <th>scientific</th>\n",
       "      <th>nicknames</th>\n",
       "      <th>status</th>\n",
       "    </tr>\n",
       "  </thead>\n",
       "  <tbody>\n",
       "    <tr>\n",
       "      <th>count</th>\n",
       "      <td>557</td>\n",
       "      <td>557</td>\n",
       "      <td>557</td>\n",
       "      <td>23</td>\n",
       "    </tr>\n",
       "    <tr>\n",
       "      <th>unique</th>\n",
       "      <td>6</td>\n",
       "      <td>274</td>\n",
       "      <td>554</td>\n",
       "      <td>4</td>\n",
       "    </tr>\n",
       "    <tr>\n",
       "      <th>top</th>\n",
       "      <td>Vascular Plant</td>\n",
       "      <td>Myotis lucifugus</td>\n",
       "      <td>Gray Wolf, Wolf</td>\n",
       "      <td>Species of Concern</td>\n",
       "    </tr>\n",
       "    <tr>\n",
       "      <th>freq</th>\n",
       "      <td>414</td>\n",
       "      <td>3</td>\n",
       "      <td>2</td>\n",
       "      <td>19</td>\n",
       "    </tr>\n",
       "  </tbody>\n",
       "</table>\n",
       "</div>"
      ],
      "text/plain": [
       "              category        scientific        nicknames              status\n",
       "count              557               557              557                  23\n",
       "unique               6               274              554                   4\n",
       "top     Vascular Plant  Myotis lucifugus  Gray Wolf, Wolf  Species of Concern\n",
       "freq               414                 3                2                  19"
      ]
     },
     "execution_count": 239,
     "metadata": {},
     "output_type": "execute_result"
    }
   ],
   "source": [
    "species1 = species.rename(columns={'scientific_name': 'scientific',  \n",
    "                        'common_names': 'nicknames', 'conservation_status':'status'})\n",
    "\n",
    "# checking duplicated rows\n",
    "print(\"Is there duplicated rows?\", species1.duplicated().unique()[0])\n",
    "\n",
    "#checking duplicated values in the scientific column\n",
    "\n",
    "species_dup_scientific = species1[species1.duplicated(subset=['scientific'], keep=False)].\\\n",
    "                     sort_values(by='scientific')\n",
    "\n",
    "species_dup_scientific.describe(include='all')"
   ]
  },
  {
   "cell_type": "code",
   "execution_count": 240,
   "metadata": {},
   "outputs": [
    {
     "data": {
      "text/html": [
       "<div>\n",
       "<style scoped>\n",
       "    .dataframe tbody tr th:only-of-type {\n",
       "        vertical-align: middle;\n",
       "    }\n",
       "\n",
       "    .dataframe tbody tr th {\n",
       "        vertical-align: top;\n",
       "    }\n",
       "\n",
       "    .dataframe thead th {\n",
       "        text-align: right;\n",
       "    }\n",
       "</style>\n",
       "<table border=\"1\" class=\"dataframe\">\n",
       "  <thead>\n",
       "    <tr style=\"text-align: right;\">\n",
       "      <th></th>\n",
       "      <th>category</th>\n",
       "      <th>scientific</th>\n",
       "      <th>nicknames</th>\n",
       "      <th>status</th>\n",
       "    </tr>\n",
       "  </thead>\n",
       "  <tbody>\n",
       "    <tr>\n",
       "      <th>5553</th>\n",
       "      <td>Vascular Plant</td>\n",
       "      <td>Agrostis capillaris</td>\n",
       "      <td>Colonial Bent, Colonial Bentgrass</td>\n",
       "      <td>NaN</td>\n",
       "    </tr>\n",
       "    <tr>\n",
       "      <th>2132</th>\n",
       "      <td>Vascular Plant</td>\n",
       "      <td>Agrostis capillaris</td>\n",
       "      <td>Rhode Island Bent</td>\n",
       "      <td>NaN</td>\n",
       "    </tr>\n",
       "    <tr>\n",
       "      <th>2134</th>\n",
       "      <td>Vascular Plant</td>\n",
       "      <td>Agrostis gigantea</td>\n",
       "      <td>Redtop</td>\n",
       "      <td>NaN</td>\n",
       "    </tr>\n",
       "    <tr>\n",
       "      <th>5554</th>\n",
       "      <td>Vascular Plant</td>\n",
       "      <td>Agrostis gigantea</td>\n",
       "      <td>Black Bent, Redtop, Water Bentgrass</td>\n",
       "      <td>NaN</td>\n",
       "    </tr>\n",
       "    <tr>\n",
       "      <th>4178</th>\n",
       "      <td>Vascular Plant</td>\n",
       "      <td>Agrostis mertensii</td>\n",
       "      <td>Arctic Bentgrass, Northern Bentgrass</td>\n",
       "      <td>NaN</td>\n",
       "    </tr>\n",
       "    <tr>\n",
       "      <th>...</th>\n",
       "      <td>...</td>\n",
       "      <td>...</td>\n",
       "      <td>...</td>\n",
       "      <td>...</td>\n",
       "    </tr>\n",
       "    <tr>\n",
       "      <th>5643</th>\n",
       "      <td>Vascular Plant</td>\n",
       "      <td>Vulpia myuros</td>\n",
       "      <td>Foxtail Fescue, Rattail Fescue, Rat-Tail Fescu...</td>\n",
       "      <td>NaN</td>\n",
       "    </tr>\n",
       "    <tr>\n",
       "      <th>2331</th>\n",
       "      <td>Vascular Plant</td>\n",
       "      <td>Vulpia octoflora</td>\n",
       "      <td>Annual Fescue</td>\n",
       "      <td>NaN</td>\n",
       "    </tr>\n",
       "    <tr>\n",
       "      <th>4290</th>\n",
       "      <td>Vascular Plant</td>\n",
       "      <td>Vulpia octoflora</td>\n",
       "      <td>Eight-Flower Six-Weeks Grass, Pullout Grass, S...</td>\n",
       "      <td>NaN</td>\n",
       "    </tr>\n",
       "    <tr>\n",
       "      <th>3347</th>\n",
       "      <td>Vascular Plant</td>\n",
       "      <td>Zizia aptera</td>\n",
       "      <td>Heartleaf Alexanders, Heart-Leaf Alexanders, M...</td>\n",
       "      <td>NaN</td>\n",
       "    </tr>\n",
       "    <tr>\n",
       "      <th>632</th>\n",
       "      <td>Vascular Plant</td>\n",
       "      <td>Zizia aptera</td>\n",
       "      <td>Golden Alexanders</td>\n",
       "      <td>NaN</td>\n",
       "    </tr>\n",
       "  </tbody>\n",
       "</table>\n",
       "<p>557 rows × 4 columns</p>\n",
       "</div>"
      ],
      "text/plain": [
       "            category           scientific  \\\n",
       "5553  Vascular Plant  Agrostis capillaris   \n",
       "2132  Vascular Plant  Agrostis capillaris   \n",
       "2134  Vascular Plant    Agrostis gigantea   \n",
       "5554  Vascular Plant    Agrostis gigantea   \n",
       "4178  Vascular Plant   Agrostis mertensii   \n",
       "...              ...                  ...   \n",
       "5643  Vascular Plant        Vulpia myuros   \n",
       "2331  Vascular Plant     Vulpia octoflora   \n",
       "4290  Vascular Plant     Vulpia octoflora   \n",
       "3347  Vascular Plant         Zizia aptera   \n",
       "632   Vascular Plant         Zizia aptera   \n",
       "\n",
       "                                              nicknames status  \n",
       "5553                  Colonial Bent, Colonial Bentgrass    NaN  \n",
       "2132                                  Rhode Island Bent    NaN  \n",
       "2134                                             Redtop    NaN  \n",
       "5554                Black Bent, Redtop, Water Bentgrass    NaN  \n",
       "4178               Arctic Bentgrass, Northern Bentgrass    NaN  \n",
       "...                                                 ...    ...  \n",
       "5643  Foxtail Fescue, Rattail Fescue, Rat-Tail Fescu...    NaN  \n",
       "2331                                      Annual Fescue    NaN  \n",
       "4290  Eight-Flower Six-Weeks Grass, Pullout Grass, S...    NaN  \n",
       "3347  Heartleaf Alexanders, Heart-Leaf Alexanders, M...    NaN  \n",
       "632                                   Golden Alexanders    NaN  \n",
       "\n",
       "[557 rows x 4 columns]"
      ]
     },
     "execution_count": 240,
     "metadata": {},
     "output_type": "execute_result"
    }
   ],
   "source": [
    "# duplicated values in the scientific_name column\n",
    "species_dup_scientific[species_dup_scientific.duplicated(subset=['scientific'], keep=False)].\\\n",
    "   sort_values(by='scientific')"
   ]
  },
  {
   "cell_type": "code",
   "execution_count": 241,
   "metadata": {},
   "outputs": [
    {
     "data": {
      "text/html": [
       "<div>\n",
       "<style scoped>\n",
       "    .dataframe tbody tr th:only-of-type {\n",
       "        vertical-align: middle;\n",
       "    }\n",
       "\n",
       "    .dataframe tbody tr th {\n",
       "        vertical-align: top;\n",
       "    }\n",
       "\n",
       "    .dataframe thead th {\n",
       "        text-align: right;\n",
       "    }\n",
       "</style>\n",
       "<table border=\"1\" class=\"dataframe\">\n",
       "  <thead>\n",
       "    <tr style=\"text-align: right;\">\n",
       "      <th></th>\n",
       "      <th>category</th>\n",
       "      <th>scientific</th>\n",
       "      <th>nicknames</th>\n",
       "      <th>status</th>\n",
       "    </tr>\n",
       "  </thead>\n",
       "  <tbody>\n",
       "    <tr>\n",
       "      <th>3020</th>\n",
       "      <td>Mammal</td>\n",
       "      <td>Canis lupus</td>\n",
       "      <td>Gray Wolf, Wolf</td>\n",
       "      <td>In Recovery</td>\n",
       "    </tr>\n",
       "    <tr>\n",
       "      <th>4448</th>\n",
       "      <td>Mammal</td>\n",
       "      <td>Canis lupus</td>\n",
       "      <td>Gray Wolf, Wolf</td>\n",
       "      <td>Endangered</td>\n",
       "    </tr>\n",
       "    <tr>\n",
       "      <th>3283</th>\n",
       "      <td>Fish</td>\n",
       "      <td>Oncorhynchus mykiss</td>\n",
       "      <td>Rainbow Trout</td>\n",
       "      <td>Threatened</td>\n",
       "    </tr>\n",
       "    <tr>\n",
       "      <th>560</th>\n",
       "      <td>Fish</td>\n",
       "      <td>Oncorhynchus mykiss</td>\n",
       "      <td>Rainbow Trout</td>\n",
       "      <td>NaN</td>\n",
       "    </tr>\n",
       "  </tbody>\n",
       "</table>\n",
       "</div>"
      ],
      "text/plain": [
       "     category           scientific        nicknames       status\n",
       "3020   Mammal          Canis lupus  Gray Wolf, Wolf  In Recovery\n",
       "4448   Mammal          Canis lupus  Gray Wolf, Wolf   Endangered\n",
       "3283     Fish  Oncorhynchus mykiss    Rainbow Trout   Threatened\n",
       "560      Fish  Oncorhynchus mykiss    Rainbow Trout          NaN"
      ]
     },
     "execution_count": 241,
     "metadata": {},
     "output_type": "execute_result"
    }
   ],
   "source": [
    "# duplicated values in the scientific_name AND common_names columns\n",
    "species_dup_scientific[species_dup_scientific.duplicated(subset=['scientific', 'nicknames'], keep=False)]"
   ]
  },
  {
   "cell_type": "code",
   "execution_count": 242,
   "metadata": {},
   "outputs": [
    {
     "data": {
      "text/html": [
       "<div>\n",
       "<style scoped>\n",
       "    .dataframe tbody tr th:only-of-type {\n",
       "        vertical-align: middle;\n",
       "    }\n",
       "\n",
       "    .dataframe tbody tr th {\n",
       "        vertical-align: top;\n",
       "    }\n",
       "\n",
       "    .dataframe thead th {\n",
       "        text-align: right;\n",
       "    }\n",
       "</style>\n",
       "<table border=\"1\" class=\"dataframe\">\n",
       "  <thead>\n",
       "    <tr style=\"text-align: right;\">\n",
       "      <th></th>\n",
       "      <th>category</th>\n",
       "      <th>scientific</th>\n",
       "      <th>nicknames</th>\n",
       "      <th>status</th>\n",
       "    </tr>\n",
       "  </thead>\n",
       "  <tbody>\n",
       "    <tr>\n",
       "      <th>3020</th>\n",
       "      <td>Mammal</td>\n",
       "      <td>Canis lupus</td>\n",
       "      <td>Gray Wolf, Wolf</td>\n",
       "      <td>In Recovery</td>\n",
       "    </tr>\n",
       "    <tr>\n",
       "      <th>4448</th>\n",
       "      <td>Mammal</td>\n",
       "      <td>Canis lupus</td>\n",
       "      <td>Gray Wolf, Wolf</td>\n",
       "      <td>Endangered</td>\n",
       "    </tr>\n",
       "    <tr>\n",
       "      <th>3283</th>\n",
       "      <td>Fish</td>\n",
       "      <td>Oncorhynchus mykiss</td>\n",
       "      <td>Rainbow Trout</td>\n",
       "      <td>Threatened</td>\n",
       "    </tr>\n",
       "    <tr>\n",
       "      <th>560</th>\n",
       "      <td>Fish</td>\n",
       "      <td>Oncorhynchus mykiss</td>\n",
       "      <td>Rainbow Trout</td>\n",
       "      <td>NaN</td>\n",
       "    </tr>\n",
       "    <tr>\n",
       "      <th>1096</th>\n",
       "      <td>Vascular Plant</td>\n",
       "      <td>Silene latifolia ssp. alba</td>\n",
       "      <td>Bladder Campion</td>\n",
       "      <td>NaN</td>\n",
       "    </tr>\n",
       "    <tr>\n",
       "      <th>1102</th>\n",
       "      <td>Vascular Plant</td>\n",
       "      <td>Silene vulgaris</td>\n",
       "      <td>Bladder Campion</td>\n",
       "      <td>NaN</td>\n",
       "    </tr>\n",
       "  </tbody>\n",
       "</table>\n",
       "</div>"
      ],
      "text/plain": [
       "            category                  scientific        nicknames       status\n",
       "3020          Mammal                 Canis lupus  Gray Wolf, Wolf  In Recovery\n",
       "4448          Mammal                 Canis lupus  Gray Wolf, Wolf   Endangered\n",
       "3283            Fish         Oncorhynchus mykiss    Rainbow Trout   Threatened\n",
       "560             Fish         Oncorhynchus mykiss    Rainbow Trout          NaN\n",
       "1096  Vascular Plant  Silene latifolia ssp. alba  Bladder Campion          NaN\n",
       "1102  Vascular Plant             Silene vulgaris  Bladder Campion          NaN"
      ]
     },
     "execution_count": 242,
     "metadata": {},
     "output_type": "execute_result"
    }
   ],
   "source": [
    "species_dup_scientific[species_dup_scientific.duplicated(subset=['nicknames'], keep=False)]"
   ]
  },
  {
   "cell_type": "code",
   "execution_count": 243,
   "metadata": {},
   "outputs": [
    {
     "data": {
      "text/html": [
       "<div>\n",
       "<style scoped>\n",
       "    .dataframe tbody tr th:only-of-type {\n",
       "        vertical-align: middle;\n",
       "    }\n",
       "\n",
       "    .dataframe tbody tr th {\n",
       "        vertical-align: top;\n",
       "    }\n",
       "\n",
       "    .dataframe thead th {\n",
       "        text-align: right;\n",
       "    }\n",
       "</style>\n",
       "<table border=\"1\" class=\"dataframe\">\n",
       "  <thead>\n",
       "    <tr style=\"text-align: right;\">\n",
       "      <th></th>\n",
       "      <th>category</th>\n",
       "      <th>scientific</th>\n",
       "      <th>nicknames</th>\n",
       "      <th>status</th>\n",
       "    </tr>\n",
       "  </thead>\n",
       "  <tbody>\n",
       "    <tr>\n",
       "      <th>4988</th>\n",
       "      <td>Vascular Plant</td>\n",
       "      <td>Silene latifolia ssp. alba</td>\n",
       "      <td>Bladder Campion, Bladder-Campion, Evening Lych...</td>\n",
       "      <td>NaN</td>\n",
       "    </tr>\n",
       "    <tr>\n",
       "      <th>1096</th>\n",
       "      <td>Vascular Plant</td>\n",
       "      <td>Silene latifolia ssp. alba</td>\n",
       "      <td>Bladder Campion</td>\n",
       "      <td>NaN</td>\n",
       "    </tr>\n",
       "    <tr>\n",
       "      <th>3717</th>\n",
       "      <td>Vascular Plant</td>\n",
       "      <td>Silene vulgaris</td>\n",
       "      <td>Bladder Campion, Bladder Silene, Cowbell, Maid...</td>\n",
       "      <td>NaN</td>\n",
       "    </tr>\n",
       "    <tr>\n",
       "      <th>1102</th>\n",
       "      <td>Vascular Plant</td>\n",
       "      <td>Silene vulgaris</td>\n",
       "      <td>Bladder Campion</td>\n",
       "      <td>NaN</td>\n",
       "    </tr>\n",
       "  </tbody>\n",
       "</table>\n",
       "</div>"
      ],
      "text/plain": [
       "            category                  scientific  \\\n",
       "4988  Vascular Plant  Silene latifolia ssp. alba   \n",
       "1096  Vascular Plant  Silene latifolia ssp. alba   \n",
       "3717  Vascular Plant             Silene vulgaris   \n",
       "1102  Vascular Plant             Silene vulgaris   \n",
       "\n",
       "                                              nicknames status  \n",
       "4988  Bladder Campion, Bladder-Campion, Evening Lych...    NaN  \n",
       "1096                                    Bladder Campion    NaN  \n",
       "3717  Bladder Campion, Bladder Silene, Cowbell, Maid...    NaN  \n",
       "1102                                    Bladder Campion    NaN  "
      ]
     },
     "execution_count": 243,
     "metadata": {},
     "output_type": "execute_result"
    }
   ],
   "source": [
    "species_dup_scientific[(species_dup_scientific.scientific == 'Silene vulgaris') |  \\\n",
    "                       (species_dup_scientific.nicknames == 'Bladder Campion') | \\\n",
    "                      (species_dup_scientific.scientific == 'Silene latifolia ssp. alba')]"
   ]
  },
  {
   "cell_type": "markdown",
   "metadata": {},
   "source": [
    "#### Some findings\n",
    "Unexpectadly, among 557 rows with duplicated values in the scientific_name column, there are 274 unique values. \n",
    "It turns out that most of duplicated rows for the same `scientific_name` was due to the `common_names` values recorded. For these `scientific_nam` duplicated values, there are at least two different records for the `common_name` column. For example, there are two entries for the `scientific_name` value 'Agrostis capillaris':\n",
    "- the first entry has 'Colonial Bent, Colonial Bentgrass' for the `common_name` column;\n",
    "- the second entry has 'Rhode Island Bent' for the `common_name` column.\n",
    "\n",
    "On the other hand, where there are duplicated values in the `scientific_name` column AND `common_names` column, there are different entries in the `conservation_status` column. In the 'Canis lupus' value case, there are two different values for `conservation_status` value ('In recovery' and 'Endangered').\n",
    "\n",
    "There is a single case of `common_names` value 'Bladder Campion' which has two different entries in the `scientific_name` value: 'Silene latifolia ssp. alba' and 'Silene vulgaris'. Each one has two different entries in the `common_names` column."
   ]
  },
  {
   "cell_type": "markdown",
   "metadata": {},
   "source": [
    "### 3.1.2.2 Inspecting `common_names` duplicated data\n",
    "\n",
    "Common names refer to the usual name of species. Conversely to scientific name, a common name often applies to multiple species."
   ]
  },
  {
   "cell_type": "code",
   "execution_count": 244,
   "metadata": {},
   "outputs": [
    {
     "data": {
      "text/html": [
       "<div>\n",
       "<style scoped>\n",
       "    .dataframe tbody tr th:only-of-type {\n",
       "        vertical-align: middle;\n",
       "    }\n",
       "\n",
       "    .dataframe tbody tr th {\n",
       "        vertical-align: top;\n",
       "    }\n",
       "\n",
       "    .dataframe thead th {\n",
       "        text-align: right;\n",
       "    }\n",
       "</style>\n",
       "<table border=\"1\" class=\"dataframe\">\n",
       "  <thead>\n",
       "    <tr style=\"text-align: right;\">\n",
       "      <th></th>\n",
       "      <th>category</th>\n",
       "      <th>scientific</th>\n",
       "      <th>nicknames</th>\n",
       "      <th>status</th>\n",
       "    </tr>\n",
       "  </thead>\n",
       "  <tbody>\n",
       "    <tr>\n",
       "      <th>count</th>\n",
       "      <td>568</td>\n",
       "      <td>568</td>\n",
       "      <td>568</td>\n",
       "      <td>12</td>\n",
       "    </tr>\n",
       "    <tr>\n",
       "      <th>unique</th>\n",
       "      <td>5</td>\n",
       "      <td>566</td>\n",
       "      <td>248</td>\n",
       "      <td>4</td>\n",
       "    </tr>\n",
       "    <tr>\n",
       "      <th>top</th>\n",
       "      <td>Vascular Plant</td>\n",
       "      <td>Oncorhynchus mykiss</td>\n",
       "      <td>Brachythecium Moss</td>\n",
       "      <td>Species of Concern</td>\n",
       "    </tr>\n",
       "    <tr>\n",
       "      <th>freq</th>\n",
       "      <td>330</td>\n",
       "      <td>2</td>\n",
       "      <td>7</td>\n",
       "      <td>9</td>\n",
       "    </tr>\n",
       "  </tbody>\n",
       "</table>\n",
       "</div>"
      ],
      "text/plain": [
       "              category           scientific           nicknames  \\\n",
       "count              568                  568                 568   \n",
       "unique               5                  566                 248   \n",
       "top     Vascular Plant  Oncorhynchus mykiss  Brachythecium Moss   \n",
       "freq               330                    2                   7   \n",
       "\n",
       "                    status  \n",
       "count                   12  \n",
       "unique                   4  \n",
       "top     Species of Concern  \n",
       "freq                     9  "
      ]
     },
     "execution_count": 244,
     "metadata": {},
     "output_type": "execute_result"
    }
   ],
   "source": [
    "#checking duplicated values in the common_names column\n",
    "\n",
    "species_dup_nicknames = species1[species1.duplicated(subset=['nicknames'], keep=False)].\\\n",
    "                     sort_values(by='nicknames')\n",
    "\n",
    "species_dup_nicknames.describe(include='all')\n"
   ]
  },
  {
   "cell_type": "code",
   "execution_count": 245,
   "metadata": {},
   "outputs": [
    {
     "data": {
      "text/html": [
       "<div>\n",
       "<style scoped>\n",
       "    .dataframe tbody tr th:only-of-type {\n",
       "        vertical-align: middle;\n",
       "    }\n",
       "\n",
       "    .dataframe tbody tr th {\n",
       "        vertical-align: top;\n",
       "    }\n",
       "\n",
       "    .dataframe thead th {\n",
       "        text-align: right;\n",
       "    }\n",
       "</style>\n",
       "<table border=\"1\" class=\"dataframe\">\n",
       "  <thead>\n",
       "    <tr style=\"text-align: right;\">\n",
       "      <th></th>\n",
       "      <th>category</th>\n",
       "      <th>scientific</th>\n",
       "      <th>nicknames</th>\n",
       "      <th>status</th>\n",
       "    </tr>\n",
       "  </thead>\n",
       "  <tbody>\n",
       "    <tr>\n",
       "      <th>3020</th>\n",
       "      <td>Mammal</td>\n",
       "      <td>Canis lupus</td>\n",
       "      <td>Gray Wolf, Wolf</td>\n",
       "      <td>In Recovery</td>\n",
       "    </tr>\n",
       "    <tr>\n",
       "      <th>4448</th>\n",
       "      <td>Mammal</td>\n",
       "      <td>Canis lupus</td>\n",
       "      <td>Gray Wolf, Wolf</td>\n",
       "      <td>Endangered</td>\n",
       "    </tr>\n",
       "    <tr>\n",
       "      <th>3283</th>\n",
       "      <td>Fish</td>\n",
       "      <td>Oncorhynchus mykiss</td>\n",
       "      <td>Rainbow Trout</td>\n",
       "      <td>Threatened</td>\n",
       "    </tr>\n",
       "    <tr>\n",
       "      <th>560</th>\n",
       "      <td>Fish</td>\n",
       "      <td>Oncorhynchus mykiss</td>\n",
       "      <td>Rainbow Trout</td>\n",
       "      <td>NaN</td>\n",
       "    </tr>\n",
       "  </tbody>\n",
       "</table>\n",
       "</div>"
      ],
      "text/plain": [
       "     category           scientific        nicknames       status\n",
       "3020   Mammal          Canis lupus  Gray Wolf, Wolf  In Recovery\n",
       "4448   Mammal          Canis lupus  Gray Wolf, Wolf   Endangered\n",
       "3283     Fish  Oncorhynchus mykiss    Rainbow Trout   Threatened\n",
       "560      Fish  Oncorhynchus mykiss    Rainbow Trout          NaN"
      ]
     },
     "execution_count": 245,
     "metadata": {},
     "output_type": "execute_result"
    }
   ],
   "source": [
    "# Getting to know duplicate data in the scientific_name column AND nicknames column\n",
    "\n",
    "species_dup_nicknames[species_dup_nicknames.duplicated(subset=['scientific'], keep=False)]"
   ]
  },
  {
   "cell_type": "code",
   "execution_count": 246,
   "metadata": {},
   "outputs": [
    {
     "data": {
      "text/html": [
       "<div>\n",
       "<style scoped>\n",
       "    .dataframe tbody tr th:only-of-type {\n",
       "        vertical-align: middle;\n",
       "    }\n",
       "\n",
       "    .dataframe tbody tr th {\n",
       "        vertical-align: top;\n",
       "    }\n",
       "\n",
       "    .dataframe thead th {\n",
       "        text-align: right;\n",
       "    }\n",
       "</style>\n",
       "<table border=\"1\" class=\"dataframe\">\n",
       "  <thead>\n",
       "    <tr style=\"text-align: right;\">\n",
       "      <th></th>\n",
       "      <th>category</th>\n",
       "      <th>scientific</th>\n",
       "      <th>nicknames</th>\n",
       "      <th>status</th>\n",
       "    </tr>\n",
       "  </thead>\n",
       "  <tbody>\n",
       "    <tr>\n",
       "      <th>2730</th>\n",
       "      <td>Nonvascular Plant</td>\n",
       "      <td>Dichodontium pellucidum</td>\n",
       "      <td>A Moss</td>\n",
       "      <td>NaN</td>\n",
       "    </tr>\n",
       "    <tr>\n",
       "      <th>2822</th>\n",
       "      <td>Nonvascular Plant</td>\n",
       "      <td>Cirriphyllum piliferum</td>\n",
       "      <td>A Moss</td>\n",
       "      <td>NaN</td>\n",
       "    </tr>\n",
       "    <tr>\n",
       "      <th>2022</th>\n",
       "      <td>Vascular Plant</td>\n",
       "      <td>Carex normalis</td>\n",
       "      <td>A Sedge, Sedge</td>\n",
       "      <td>NaN</td>\n",
       "    </tr>\n",
       "    <tr>\n",
       "      <th>1971</th>\n",
       "      <td>Vascular Plant</td>\n",
       "      <td>Carex bromoides</td>\n",
       "      <td>A Sedge, Sedge</td>\n",
       "      <td>NaN</td>\n",
       "    </tr>\n",
       "    <tr>\n",
       "      <th>1960</th>\n",
       "      <td>Vascular Plant</td>\n",
       "      <td>Carex annectens</td>\n",
       "      <td>A Sedge, Sedge</td>\n",
       "      <td>NaN</td>\n",
       "    </tr>\n",
       "    <tr>\n",
       "      <th>...</th>\n",
       "      <td>...</td>\n",
       "      <td>...</td>\n",
       "      <td>...</td>\n",
       "      <td>...</td>\n",
       "    </tr>\n",
       "    <tr>\n",
       "      <th>250</th>\n",
       "      <td>Bird</td>\n",
       "      <td>Dendroica coronata</td>\n",
       "      <td>Yellow-Rumped Warbler</td>\n",
       "      <td>NaN</td>\n",
       "    </tr>\n",
       "    <tr>\n",
       "      <th>252</th>\n",
       "      <td>Bird</td>\n",
       "      <td>Dendroica dominica</td>\n",
       "      <td>Yellow-Throated Warbler</td>\n",
       "      <td>NaN</td>\n",
       "    </tr>\n",
       "    <tr>\n",
       "      <th>3206</th>\n",
       "      <td>Bird</td>\n",
       "      <td>Setophaga dominica</td>\n",
       "      <td>Yellow-Throated Warbler</td>\n",
       "      <td>NaN</td>\n",
       "    </tr>\n",
       "    <tr>\n",
       "      <th>2957</th>\n",
       "      <td>Nonvascular Plant</td>\n",
       "      <td>Zygodon viridissimus var. rupestris</td>\n",
       "      <td>Zygodon Moss</td>\n",
       "      <td>NaN</td>\n",
       "    </tr>\n",
       "    <tr>\n",
       "      <th>2956</th>\n",
       "      <td>Nonvascular Plant</td>\n",
       "      <td>Zygodon viridissimus</td>\n",
       "      <td>Zygodon Moss</td>\n",
       "      <td>NaN</td>\n",
       "    </tr>\n",
       "  </tbody>\n",
       "</table>\n",
       "<p>568 rows × 4 columns</p>\n",
       "</div>"
      ],
      "text/plain": [
       "               category                           scientific  \\\n",
       "2730  Nonvascular Plant              Dichodontium pellucidum   \n",
       "2822  Nonvascular Plant               Cirriphyllum piliferum   \n",
       "2022     Vascular Plant                       Carex normalis   \n",
       "1971     Vascular Plant                      Carex bromoides   \n",
       "1960     Vascular Plant                      Carex annectens   \n",
       "...                 ...                                  ...   \n",
       "250                Bird                   Dendroica coronata   \n",
       "252                Bird                   Dendroica dominica   \n",
       "3206               Bird                   Setophaga dominica   \n",
       "2957  Nonvascular Plant  Zygodon viridissimus var. rupestris   \n",
       "2956  Nonvascular Plant                 Zygodon viridissimus   \n",
       "\n",
       "                    nicknames status  \n",
       "2730                   A Moss    NaN  \n",
       "2822                   A Moss    NaN  \n",
       "2022           A Sedge, Sedge    NaN  \n",
       "1971           A Sedge, Sedge    NaN  \n",
       "1960           A Sedge, Sedge    NaN  \n",
       "...                       ...    ...  \n",
       "250     Yellow-Rumped Warbler    NaN  \n",
       "252   Yellow-Throated Warbler    NaN  \n",
       "3206  Yellow-Throated Warbler    NaN  \n",
       "2957             Zygodon Moss    NaN  \n",
       "2956             Zygodon Moss    NaN  \n",
       "\n",
       "[568 rows x 4 columns]"
      ]
     },
     "execution_count": 246,
     "metadata": {},
     "output_type": "execute_result"
    }
   ],
   "source": [
    "# Getting to know duplicated data in the common_names column\n",
    "species_dup_nicknames"
   ]
  },
  {
   "cell_type": "code",
   "execution_count": 247,
   "metadata": {},
   "outputs": [
    {
     "data": {
      "text/html": [
       "<div>\n",
       "<style scoped>\n",
       "    .dataframe tbody tr th:only-of-type {\n",
       "        vertical-align: middle;\n",
       "    }\n",
       "\n",
       "    .dataframe tbody tr th {\n",
       "        vertical-align: top;\n",
       "    }\n",
       "\n",
       "    .dataframe thead th {\n",
       "        text-align: right;\n",
       "    }\n",
       "</style>\n",
       "<table border=\"1\" class=\"dataframe\">\n",
       "  <thead>\n",
       "    <tr style=\"text-align: right;\">\n",
       "      <th></th>\n",
       "      <th>category</th>\n",
       "      <th>scientific</th>\n",
       "      <th>nicknames</th>\n",
       "      <th>status</th>\n",
       "    </tr>\n",
       "  </thead>\n",
       "  <tbody>\n",
       "    <tr>\n",
       "      <th>2817</th>\n",
       "      <td>Nonvascular Plant</td>\n",
       "      <td>Brachythecium rutabulum</td>\n",
       "      <td>Brachythecium Moss</td>\n",
       "      <td>NaN</td>\n",
       "    </tr>\n",
       "    <tr>\n",
       "      <th>2814</th>\n",
       "      <td>Nonvascular Plant</td>\n",
       "      <td>Brachythecium oxycladon</td>\n",
       "      <td>Brachythecium Moss</td>\n",
       "      <td>NaN</td>\n",
       "    </tr>\n",
       "    <tr>\n",
       "      <th>2813</th>\n",
       "      <td>Nonvascular Plant</td>\n",
       "      <td>Brachythecium oedipodium</td>\n",
       "      <td>Brachythecium Moss</td>\n",
       "      <td>NaN</td>\n",
       "    </tr>\n",
       "    <tr>\n",
       "      <th>2812</th>\n",
       "      <td>Nonvascular Plant</td>\n",
       "      <td>Brachythecium digastrum</td>\n",
       "      <td>Brachythecium Moss</td>\n",
       "      <td>NaN</td>\n",
       "    </tr>\n",
       "    <tr>\n",
       "      <th>2816</th>\n",
       "      <td>Nonvascular Plant</td>\n",
       "      <td>Brachythecium rivulare</td>\n",
       "      <td>Brachythecium Moss</td>\n",
       "      <td>NaN</td>\n",
       "    </tr>\n",
       "    <tr>\n",
       "      <th>2818</th>\n",
       "      <td>Nonvascular Plant</td>\n",
       "      <td>Brachythecium salebrosum</td>\n",
       "      <td>Brachythecium Moss</td>\n",
       "      <td>NaN</td>\n",
       "    </tr>\n",
       "    <tr>\n",
       "      <th>2815</th>\n",
       "      <td>Nonvascular Plant</td>\n",
       "      <td>Brachythecium plumosum</td>\n",
       "      <td>Brachythecium Moss</td>\n",
       "      <td>NaN</td>\n",
       "    </tr>\n",
       "  </tbody>\n",
       "</table>\n",
       "</div>"
      ],
      "text/plain": [
       "               category                scientific           nicknames status\n",
       "2817  Nonvascular Plant   Brachythecium rutabulum  Brachythecium Moss    NaN\n",
       "2814  Nonvascular Plant   Brachythecium oxycladon  Brachythecium Moss    NaN\n",
       "2813  Nonvascular Plant  Brachythecium oedipodium  Brachythecium Moss    NaN\n",
       "2812  Nonvascular Plant   Brachythecium digastrum  Brachythecium Moss    NaN\n",
       "2816  Nonvascular Plant    Brachythecium rivulare  Brachythecium Moss    NaN\n",
       "2818  Nonvascular Plant  Brachythecium salebrosum  Brachythecium Moss    NaN\n",
       "2815  Nonvascular Plant    Brachythecium plumosum  Brachythecium Moss    NaN"
      ]
     },
     "execution_count": 247,
     "metadata": {},
     "output_type": "execute_result"
    }
   ],
   "source": [
    "species_dup_nicknames[species_dup_nicknames['nicknames'] == 'Brachythecium Moss']"
   ]
  },
  {
   "cell_type": "code",
   "execution_count": 248,
   "metadata": {
    "scrolled": true
   },
   "outputs": [
    {
     "data": {
      "text/html": [
       "<div>\n",
       "<style scoped>\n",
       "    .dataframe tbody tr th:only-of-type {\n",
       "        vertical-align: middle;\n",
       "    }\n",
       "\n",
       "    .dataframe tbody tr th {\n",
       "        vertical-align: top;\n",
       "    }\n",
       "\n",
       "    .dataframe thead th {\n",
       "        text-align: right;\n",
       "    }\n",
       "</style>\n",
       "<table border=\"1\" class=\"dataframe\">\n",
       "  <thead>\n",
       "    <tr style=\"text-align: right;\">\n",
       "      <th></th>\n",
       "      <th>nicknames</th>\n",
       "      <th>counts</th>\n",
       "      <th>scientific</th>\n",
       "      <th>status</th>\n",
       "    </tr>\n",
       "  </thead>\n",
       "  <tbody>\n",
       "    <tr>\n",
       "      <th>count</th>\n",
       "      <td>41</td>\n",
       "      <td>41.000000</td>\n",
       "      <td>41.000000</td>\n",
       "      <td>41.000000</td>\n",
       "    </tr>\n",
       "    <tr>\n",
       "      <th>unique</th>\n",
       "      <td>41</td>\n",
       "      <td>NaN</td>\n",
       "      <td>NaN</td>\n",
       "      <td>NaN</td>\n",
       "    </tr>\n",
       "    <tr>\n",
       "      <th>top</th>\n",
       "      <td>Dicranum Moss</td>\n",
       "      <td>NaN</td>\n",
       "      <td>NaN</td>\n",
       "      <td>NaN</td>\n",
       "    </tr>\n",
       "    <tr>\n",
       "      <th>freq</th>\n",
       "      <td>1</td>\n",
       "      <td>NaN</td>\n",
       "      <td>NaN</td>\n",
       "      <td>NaN</td>\n",
       "    </tr>\n",
       "    <tr>\n",
       "      <th>mean</th>\n",
       "      <td>NaN</td>\n",
       "      <td>3.756098</td>\n",
       "      <td>3.756098</td>\n",
       "      <td>0.024390</td>\n",
       "    </tr>\n",
       "    <tr>\n",
       "      <th>std</th>\n",
       "      <td>NaN</td>\n",
       "      <td>1.157162</td>\n",
       "      <td>1.157162</td>\n",
       "      <td>0.156174</td>\n",
       "    </tr>\n",
       "    <tr>\n",
       "      <th>min</th>\n",
       "      <td>NaN</td>\n",
       "      <td>3.000000</td>\n",
       "      <td>3.000000</td>\n",
       "      <td>0.000000</td>\n",
       "    </tr>\n",
       "    <tr>\n",
       "      <th>25%</th>\n",
       "      <td>NaN</td>\n",
       "      <td>3.000000</td>\n",
       "      <td>3.000000</td>\n",
       "      <td>0.000000</td>\n",
       "    </tr>\n",
       "    <tr>\n",
       "      <th>50%</th>\n",
       "      <td>NaN</td>\n",
       "      <td>3.000000</td>\n",
       "      <td>3.000000</td>\n",
       "      <td>0.000000</td>\n",
       "    </tr>\n",
       "    <tr>\n",
       "      <th>75%</th>\n",
       "      <td>NaN</td>\n",
       "      <td>4.000000</td>\n",
       "      <td>4.000000</td>\n",
       "      <td>0.000000</td>\n",
       "    </tr>\n",
       "    <tr>\n",
       "      <th>max</th>\n",
       "      <td>NaN</td>\n",
       "      <td>7.000000</td>\n",
       "      <td>7.000000</td>\n",
       "      <td>1.000000</td>\n",
       "    </tr>\n",
       "  </tbody>\n",
       "</table>\n",
       "</div>"
      ],
      "text/plain": [
       "            nicknames     counts  scientific     status\n",
       "count              41  41.000000   41.000000  41.000000\n",
       "unique             41        NaN         NaN        NaN\n",
       "top     Dicranum Moss        NaN         NaN        NaN\n",
       "freq                1        NaN         NaN        NaN\n",
       "mean              NaN   3.756098    3.756098   0.024390\n",
       "std               NaN   1.157162    1.157162   0.156174\n",
       "min               NaN   3.000000    3.000000   0.000000\n",
       "25%               NaN   3.000000    3.000000   0.000000\n",
       "50%               NaN   3.000000    3.000000   0.000000\n",
       "75%               NaN   4.000000    4.000000   0.000000\n",
       "max               NaN   7.000000    7.000000   1.000000"
      ]
     },
     "execution_count": 248,
     "metadata": {},
     "output_type": "execute_result"
    }
   ],
   "source": [
    "# Getting to know duplicated data over than two entries in the common_names column\n",
    "spe_dup_nick_over2 = species_dup_nicknames[species_dup_nicknames.duplicated(subset=['nicknames'], keep = False)]\n",
    "spe_dup_nick_over2 = spe_dup_nick_over2.groupby('nicknames').count().reset_index().sort_values(by='category')\n",
    "spe_dup_nick_over2.rename(columns={'category': 'counts'}, inplace=True)\n",
    "spe_dup_nick_over2 = spe_dup_nick_over2[spe_dup_nick_over2.counts > 2].sort_values(by='counts', ascending=False)\n",
    "spe_dup_nick_over2.describe(include='all')\n"
   ]
  },
  {
   "cell_type": "markdown",
   "metadata": {},
   "source": [
    "##### Some findings\n",
    "\n",
    "There are 568 duplicated values in the `common_names` column, most of them due to the common name designates two different species. \n",
    "\n",
    "Among these, there are 41 `common_names` values given to more than two differente species, v.g, *'Brachythecium Moss'* common name was given to seven different species: 'Brachythecium rutabulum', 'Brachythecium oxycladon', 'Brachythecium oedipodium', 'Brachythecium digastrum', 'Brachythecium rivulare', 'Brachythecium salebrosum', and 'Brachythecium plumosum'.\n",
    "\n",
    "There are two cases of duplicated data in the `scientific_name`column AND `common_names` column, with different `conservation_status` values."
   ]
  },
  {
   "cell_type": "markdown",
   "metadata": {},
   "source": [
    "### 3.1.2.3 Removing duplicated data\n",
    "\n",
    "Detected duplicated data in the `scientific_name` column of `species` dataset, they must be removed in order to assess the conservation status distribution correctly."
   ]
  },
  {
   "cell_type": "code",
   "execution_count": 249,
   "metadata": {},
   "outputs": [
    {
     "name": "stderr",
     "output_type": "stream",
     "text": [
      "/var/folders/mx/k35msbs11w57tlt_knr5zxbc0000gn/T/ipykernel_1896/26595849.py:4: SettingWithCopyWarning: \n",
      "A value is trying to be set on a copy of a slice from a DataFrame.\n",
      "Try using .loc[row_indexer,col_indexer] = value instead\n",
      "\n",
      "See the caveats in the documentation: https://pandas.pydata.org/pandas-docs/stable/user_guide/indexing.html#returning-a-view-versus-a-copy\n",
      "  species1_nan['nicknames'] = species1_nan['nicknames'].apply(lambda x: 'Black-Crowned Night-Heron,' \\\n"
     ]
    },
    {
     "data": {
      "text/html": [
       "<div>\n",
       "<style scoped>\n",
       "    .dataframe tbody tr th:only-of-type {\n",
       "        vertical-align: middle;\n",
       "    }\n",
       "\n",
       "    .dataframe tbody tr th {\n",
       "        vertical-align: top;\n",
       "    }\n",
       "\n",
       "    .dataframe thead th {\n",
       "        text-align: right;\n",
       "    }\n",
       "</style>\n",
       "<table border=\"1\" class=\"dataframe\">\n",
       "  <thead>\n",
       "    <tr style=\"text-align: right;\">\n",
       "      <th></th>\n",
       "      <th>category</th>\n",
       "      <th>scientific</th>\n",
       "      <th>nicknames</th>\n",
       "      <th>status</th>\n",
       "    </tr>\n",
       "  </thead>\n",
       "  <tbody>\n",
       "    <tr>\n",
       "      <th>count</th>\n",
       "      <td>191</td>\n",
       "      <td>191</td>\n",
       "      <td>191</td>\n",
       "      <td>191</td>\n",
       "    </tr>\n",
       "    <tr>\n",
       "      <th>unique</th>\n",
       "      <td>7</td>\n",
       "      <td>179</td>\n",
       "      <td>190</td>\n",
       "      <td>4</td>\n",
       "    </tr>\n",
       "    <tr>\n",
       "      <th>top</th>\n",
       "      <td>Bird</td>\n",
       "      <td>Myotis lucifugus</td>\n",
       "      <td>Gray Wolf, Wolf</td>\n",
       "      <td>Species of Concern</td>\n",
       "    </tr>\n",
       "    <tr>\n",
       "      <th>freq</th>\n",
       "      <td>79</td>\n",
       "      <td>3</td>\n",
       "      <td>2</td>\n",
       "      <td>161</td>\n",
       "    </tr>\n",
       "  </tbody>\n",
       "</table>\n",
       "</div>"
      ],
      "text/plain": [
       "       category        scientific        nicknames              status\n",
       "count       191               191              191                 191\n",
       "unique        7               179              190                   4\n",
       "top        Bird  Myotis lucifugus  Gray Wolf, Wolf  Species of Concern\n",
       "freq         79                 3                2                 161"
      ]
     },
     "execution_count": 249,
     "metadata": {},
     "output_type": "execute_result"
    }
   ],
   "source": [
    "# removing rows with missing values in the 'conservation_status' column\n",
    "\n",
    "species1_nan = species1.dropna()\n",
    "species1_nan['nicknames'] = species1_nan['nicknames'].apply(lambda x: 'Black-Crowned Night-Heron,' \\\n",
    "                                                            if 'Black-Crowned Night-Heron' in x \\\n",
    "                                                           else x)\n",
    "species1_nan.describe(include='all')\n",
    "  \n",
    "    "
   ]
  },
  {
   "cell_type": "code",
   "execution_count": 262,
   "metadata": {},
   "outputs": [
    {
     "data": {
      "text/html": [
       "<div>\n",
       "<style scoped>\n",
       "    .dataframe tbody tr th:only-of-type {\n",
       "        vertical-align: middle;\n",
       "    }\n",
       "\n",
       "    .dataframe tbody tr th {\n",
       "        vertical-align: top;\n",
       "    }\n",
       "\n",
       "    .dataframe thead th {\n",
       "        text-align: right;\n",
       "    }\n",
       "</style>\n",
       "<table border=\"1\" class=\"dataframe\">\n",
       "  <thead>\n",
       "    <tr style=\"text-align: right;\">\n",
       "      <th></th>\n",
       "      <th>category</th>\n",
       "      <th>scientific</th>\n",
       "      <th>nicknames</th>\n",
       "      <th>status</th>\n",
       "    </tr>\n",
       "  </thead>\n",
       "  <tbody>\n",
       "    <tr>\n",
       "      <th>7</th>\n",
       "      <td>Mammal</td>\n",
       "      <td>Canis latrans</td>\n",
       "      <td>Coyote</td>\n",
       "      <td>Species of Concern</td>\n",
       "    </tr>\n",
       "    <tr>\n",
       "      <th>8</th>\n",
       "      <td>Mammal</td>\n",
       "      <td>Canis lupus</td>\n",
       "      <td>Gray Wolf</td>\n",
       "      <td>Endangered</td>\n",
       "    </tr>\n",
       "    <tr>\n",
       "      <th>9</th>\n",
       "      <td>Mammal</td>\n",
       "      <td>Canis rufus</td>\n",
       "      <td>Red Wolf</td>\n",
       "      <td>Endangered</td>\n",
       "    </tr>\n",
       "    <tr>\n",
       "      <th>29</th>\n",
       "      <td>Mammal</td>\n",
       "      <td>Eptesicus fuscus</td>\n",
       "      <td>Big Brown Bat</td>\n",
       "      <td>Species of Concern</td>\n",
       "    </tr>\n",
       "    <tr>\n",
       "      <th>30</th>\n",
       "      <td>Mammal</td>\n",
       "      <td>Lasionycteris noctivagans</td>\n",
       "      <td>Silver-Haired Bat</td>\n",
       "      <td>Species of Concern</td>\n",
       "    </tr>\n",
       "    <tr>\n",
       "      <th>...</th>\n",
       "      <td>...</td>\n",
       "      <td>...</td>\n",
       "      <td>...</td>\n",
       "      <td>...</td>\n",
       "    </tr>\n",
       "    <tr>\n",
       "      <th>5302</th>\n",
       "      <td>Vascular Plant</td>\n",
       "      <td>Callitriche marginata</td>\n",
       "      <td>Winged Water-Starwort</td>\n",
       "      <td>Species of Concern</td>\n",
       "    </tr>\n",
       "    <tr>\n",
       "      <th>5399</th>\n",
       "      <td>Vascular Plant</td>\n",
       "      <td>Camissonia sierrae ssp. alticola</td>\n",
       "      <td>Mono Hot Springs Evening Primrose, Mono Hot Sp...</td>\n",
       "      <td>Species of Concern</td>\n",
       "    </tr>\n",
       "    <tr>\n",
       "      <th>5426</th>\n",
       "      <td>Vascular Plant</td>\n",
       "      <td>Epilobium oreganum</td>\n",
       "      <td>Grants Pass Willowherb, Oregon Fireweed</td>\n",
       "      <td>Species of Concern</td>\n",
       "    </tr>\n",
       "    <tr>\n",
       "      <th>5436</th>\n",
       "      <td>Vascular Plant</td>\n",
       "      <td>Botrychium ascendens</td>\n",
       "      <td>Trianglelobe Moonwort, Upswept Moonwort</td>\n",
       "      <td>Species of Concern</td>\n",
       "    </tr>\n",
       "    <tr>\n",
       "      <th>5676</th>\n",
       "      <td>Vascular Plant</td>\n",
       "      <td>Romneya coulteri</td>\n",
       "      <td>Coulter's Matilija Poppy</td>\n",
       "      <td>Species of Concern</td>\n",
       "    </tr>\n",
       "  </tbody>\n",
       "</table>\n",
       "<p>179 rows × 4 columns</p>\n",
       "</div>"
      ],
      "text/plain": [
       "            category                        scientific  \\\n",
       "7             Mammal                     Canis latrans   \n",
       "8             Mammal                       Canis lupus   \n",
       "9             Mammal                       Canis rufus   \n",
       "29            Mammal                  Eptesicus fuscus   \n",
       "30            Mammal         Lasionycteris noctivagans   \n",
       "...              ...                               ...   \n",
       "5302  Vascular Plant             Callitriche marginata   \n",
       "5399  Vascular Plant  Camissonia sierrae ssp. alticola   \n",
       "5426  Vascular Plant                Epilobium oreganum   \n",
       "5436  Vascular Plant              Botrychium ascendens   \n",
       "5676  Vascular Plant                  Romneya coulteri   \n",
       "\n",
       "                                              nicknames              status  \n",
       "7                                                Coyote  Species of Concern  \n",
       "8                                             Gray Wolf          Endangered  \n",
       "9                                              Red Wolf          Endangered  \n",
       "29                                        Big Brown Bat  Species of Concern  \n",
       "30                                    Silver-Haired Bat  Species of Concern  \n",
       "...                                                 ...                 ...  \n",
       "5302                              Winged Water-Starwort  Species of Concern  \n",
       "5399  Mono Hot Springs Evening Primrose, Mono Hot Sp...  Species of Concern  \n",
       "5426            Grants Pass Willowherb, Oregon Fireweed  Species of Concern  \n",
       "5436            Trianglelobe Moonwort, Upswept Moonwort  Species of Concern  \n",
       "5676                           Coulter's Matilija Poppy  Species of Concern  \n",
       "\n",
       "[179 rows x 4 columns]"
      ]
     },
     "execution_count": 262,
     "metadata": {},
     "output_type": "execute_result"
    }
   ],
   "source": [
    "# split duplicated values\n",
    "species1_nan_no_dup = species1_nan.drop_duplicates(subset=['scientific'])\n",
    "species1_nan_no_dup"
   ]
  },
  {
   "cell_type": "code",
   "execution_count": 263,
   "metadata": {},
   "outputs": [
    {
     "data": {
      "text/html": [
       "<div>\n",
       "<style scoped>\n",
       "    .dataframe tbody tr th:only-of-type {\n",
       "        vertical-align: middle;\n",
       "    }\n",
       "\n",
       "    .dataframe tbody tr th {\n",
       "        vertical-align: top;\n",
       "    }\n",
       "\n",
       "    .dataframe thead th {\n",
       "        text-align: right;\n",
       "    }\n",
       "</style>\n",
       "<table border=\"1\" class=\"dataframe\">\n",
       "  <thead>\n",
       "    <tr style=\"text-align: right;\">\n",
       "      <th></th>\n",
       "      <th>category</th>\n",
       "      <th>scientific</th>\n",
       "      <th>nicknames</th>\n",
       "      <th>status</th>\n",
       "    </tr>\n",
       "  </thead>\n",
       "  <tbody>\n",
       "    <tr>\n",
       "      <th>8</th>\n",
       "      <td>Mammal</td>\n",
       "      <td>Canis lupus</td>\n",
       "      <td>Gray Wolf</td>\n",
       "      <td>Endangered</td>\n",
       "    </tr>\n",
       "    <tr>\n",
       "      <th>4448</th>\n",
       "      <td>Mammal</td>\n",
       "      <td>Canis lupus</td>\n",
       "      <td>Gray Wolf, Wolf</td>\n",
       "      <td>Endangered</td>\n",
       "    </tr>\n",
       "    <tr>\n",
       "      <th>3020</th>\n",
       "      <td>Mammal</td>\n",
       "      <td>Canis lupus</td>\n",
       "      <td>Gray Wolf, Wolf</td>\n",
       "      <td>In Recovery</td>\n",
       "    </tr>\n",
       "    <tr>\n",
       "      <th>3035</th>\n",
       "      <td>Mammal</td>\n",
       "      <td>Eptesicus fuscus</td>\n",
       "      <td>Big Brown Bat, Big Brown Bat</td>\n",
       "      <td>Species of Concern</td>\n",
       "    </tr>\n",
       "    <tr>\n",
       "      <th>29</th>\n",
       "      <td>Mammal</td>\n",
       "      <td>Eptesicus fuscus</td>\n",
       "      <td>Big Brown Bat</td>\n",
       "      <td>Species of Concern</td>\n",
       "    </tr>\n",
       "    <tr>\n",
       "      <th>172</th>\n",
       "      <td>Bird</td>\n",
       "      <td>Gavia immer</td>\n",
       "      <td>Common Loon</td>\n",
       "      <td>Species of Concern</td>\n",
       "    </tr>\n",
       "    <tr>\n",
       "      <th>3150</th>\n",
       "      <td>Bird</td>\n",
       "      <td>Gavia immer</td>\n",
       "      <td>Common Loon, Great Northern Diver, Great North...</td>\n",
       "      <td>Species of Concern</td>\n",
       "    </tr>\n",
       "    <tr>\n",
       "      <th>30</th>\n",
       "      <td>Mammal</td>\n",
       "      <td>Lasionycteris noctivagans</td>\n",
       "      <td>Silver-Haired Bat</td>\n",
       "      <td>Species of Concern</td>\n",
       "    </tr>\n",
       "    <tr>\n",
       "      <th>3037</th>\n",
       "      <td>Mammal</td>\n",
       "      <td>Lasionycteris noctivagans</td>\n",
       "      <td>Silver-Haired Bat, Silver-Haired Bat</td>\n",
       "      <td>Species of Concern</td>\n",
       "    </tr>\n",
       "    <tr>\n",
       "      <th>3039</th>\n",
       "      <td>Mammal</td>\n",
       "      <td>Myotis californicus</td>\n",
       "      <td>California Myotis, California Myotis, Californ...</td>\n",
       "      <td>Species of Concern</td>\n",
       "    </tr>\n",
       "    <tr>\n",
       "      <th>4465</th>\n",
       "      <td>Mammal</td>\n",
       "      <td>Myotis californicus</td>\n",
       "      <td>California Myotis</td>\n",
       "      <td>Species of Concern</td>\n",
       "    </tr>\n",
       "    <tr>\n",
       "      <th>4467</th>\n",
       "      <td>Mammal</td>\n",
       "      <td>Myotis lucifugus</td>\n",
       "      <td>Little Brown Myotis</td>\n",
       "      <td>Species of Concern</td>\n",
       "    </tr>\n",
       "    <tr>\n",
       "      <th>37</th>\n",
       "      <td>Mammal</td>\n",
       "      <td>Myotis lucifugus</td>\n",
       "      <td>Little Brown Bat, Little Brown Myotis</td>\n",
       "      <td>Species of Concern</td>\n",
       "    </tr>\n",
       "    <tr>\n",
       "      <th>3042</th>\n",
       "      <td>Mammal</td>\n",
       "      <td>Myotis lucifugus</td>\n",
       "      <td>Little Brown Bat, Little Brown Myotis, Little ...</td>\n",
       "      <td>Species of Concern</td>\n",
       "    </tr>\n",
       "    <tr>\n",
       "      <th>4564</th>\n",
       "      <td>Bird</td>\n",
       "      <td>Nycticorax nycticorax</td>\n",
       "      <td>Black-Crowned Night Heron</td>\n",
       "      <td>Species of Concern</td>\n",
       "    </tr>\n",
       "    <tr>\n",
       "      <th>337</th>\n",
       "      <td>Bird</td>\n",
       "      <td>Nycticorax nycticorax</td>\n",
       "      <td>Black-Crowned Night-Heron,</td>\n",
       "      <td>Species of Concern</td>\n",
       "    </tr>\n",
       "    <tr>\n",
       "      <th>3081</th>\n",
       "      <td>Bird</td>\n",
       "      <td>Pandion haliaetus</td>\n",
       "      <td>Osprey, Western Osprey</td>\n",
       "      <td>Species of Concern</td>\n",
       "    </tr>\n",
       "    <tr>\n",
       "      <th>104</th>\n",
       "      <td>Bird</td>\n",
       "      <td>Pandion haliaetus</td>\n",
       "      <td>Osprey</td>\n",
       "      <td>Species of Concern</td>\n",
       "    </tr>\n",
       "    <tr>\n",
       "      <th>3185</th>\n",
       "      <td>Bird</td>\n",
       "      <td>Riparia riparia</td>\n",
       "      <td>Bank Swallow, Sand Martin</td>\n",
       "      <td>Species of Concern</td>\n",
       "    </tr>\n",
       "    <tr>\n",
       "      <th>226</th>\n",
       "      <td>Bird</td>\n",
       "      <td>Riparia riparia</td>\n",
       "      <td>Bank Swallow</td>\n",
       "      <td>Species of Concern</td>\n",
       "    </tr>\n",
       "    <tr>\n",
       "      <th>3029</th>\n",
       "      <td>Mammal</td>\n",
       "      <td>Taxidea taxus</td>\n",
       "      <td>American Badger, Badger</td>\n",
       "      <td>Species of Concern</td>\n",
       "    </tr>\n",
       "    <tr>\n",
       "      <th>4457</th>\n",
       "      <td>Mammal</td>\n",
       "      <td>Taxidea taxus</td>\n",
       "      <td>Badger</td>\n",
       "      <td>Species of Concern</td>\n",
       "    </tr>\n",
       "  </tbody>\n",
       "</table>\n",
       "</div>"
      ],
      "text/plain": [
       "     category                 scientific  \\\n",
       "8      Mammal                Canis lupus   \n",
       "4448   Mammal                Canis lupus   \n",
       "3020   Mammal                Canis lupus   \n",
       "3035   Mammal           Eptesicus fuscus   \n",
       "29     Mammal           Eptesicus fuscus   \n",
       "172      Bird                Gavia immer   \n",
       "3150     Bird                Gavia immer   \n",
       "30     Mammal  Lasionycteris noctivagans   \n",
       "3037   Mammal  Lasionycteris noctivagans   \n",
       "3039   Mammal        Myotis californicus   \n",
       "4465   Mammal        Myotis californicus   \n",
       "4467   Mammal           Myotis lucifugus   \n",
       "37     Mammal           Myotis lucifugus   \n",
       "3042   Mammal           Myotis lucifugus   \n",
       "4564     Bird      Nycticorax nycticorax   \n",
       "337      Bird      Nycticorax nycticorax   \n",
       "3081     Bird          Pandion haliaetus   \n",
       "104      Bird          Pandion haliaetus   \n",
       "3185     Bird            Riparia riparia   \n",
       "226      Bird            Riparia riparia   \n",
       "3029   Mammal              Taxidea taxus   \n",
       "4457   Mammal              Taxidea taxus   \n",
       "\n",
       "                                              nicknames              status  \n",
       "8                                             Gray Wolf          Endangered  \n",
       "4448                                    Gray Wolf, Wolf          Endangered  \n",
       "3020                                    Gray Wolf, Wolf         In Recovery  \n",
       "3035                       Big Brown Bat, Big Brown Bat  Species of Concern  \n",
       "29                                        Big Brown Bat  Species of Concern  \n",
       "172                                         Common Loon  Species of Concern  \n",
       "3150  Common Loon, Great Northern Diver, Great North...  Species of Concern  \n",
       "30                                    Silver-Haired Bat  Species of Concern  \n",
       "3037               Silver-Haired Bat, Silver-Haired Bat  Species of Concern  \n",
       "3039  California Myotis, California Myotis, Californ...  Species of Concern  \n",
       "4465                                  California Myotis  Species of Concern  \n",
       "4467                                Little Brown Myotis  Species of Concern  \n",
       "37                Little Brown Bat, Little Brown Myotis  Species of Concern  \n",
       "3042  Little Brown Bat, Little Brown Myotis, Little ...  Species of Concern  \n",
       "4564                          Black-Crowned Night Heron  Species of Concern  \n",
       "337                          Black-Crowned Night-Heron,  Species of Concern  \n",
       "3081                             Osprey, Western Osprey  Species of Concern  \n",
       "104                                              Osprey  Species of Concern  \n",
       "3185                          Bank Swallow, Sand Martin  Species of Concern  \n",
       "226                                        Bank Swallow  Species of Concern  \n",
       "3029                            American Badger, Badger  Species of Concern  \n",
       "4457                                             Badger  Species of Concern  "
      ]
     },
     "execution_count": 263,
     "metadata": {},
     "output_type": "execute_result"
    }
   ],
   "source": [
    "\n",
    "\n",
    "species1_nan_dup = species1_nan[species1_nan.duplicated(subset=['scientific'], keep=False)].\\\n",
    "                   sort_values(by='scientific')\n",
    "\n",
    "species1_nan_dup"
   ]
  },
  {
   "cell_type": "markdown",
   "metadata": {},
   "source": [
    "##### Some findings\n",
    "\n",
    "Duplicated values in the 'scientific_name' column is mostly due to different entries in the 'common_names' column.\n",
    "\n",
    "Most of the 'common_names' values for the same 'scientific_name' column is included in the other entry. For example, for *Pandion haliaetus* value in the 'scientific_name' column, there are two entries in the 'common_names' column: *Osprey* and *Osprey, Western Osprey*.\n",
    "\n",
    "Duplicated values for *Canis lupus* and *Myotis lucifugus* will be addressed individually because there are three entries each. "
   ]
  },
  {
   "cell_type": "code",
   "execution_count": 258,
   "metadata": {},
   "outputs": [
    {
     "data": {
      "text/html": [
       "<div>\n",
       "<style scoped>\n",
       "    .dataframe tbody tr th:only-of-type {\n",
       "        vertical-align: middle;\n",
       "    }\n",
       "\n",
       "    .dataframe tbody tr th {\n",
       "        vertical-align: top;\n",
       "    }\n",
       "\n",
       "    .dataframe thead th {\n",
       "        text-align: right;\n",
       "    }\n",
       "</style>\n",
       "<table border=\"1\" class=\"dataframe\">\n",
       "  <thead>\n",
       "    <tr style=\"text-align: right;\">\n",
       "      <th></th>\n",
       "      <th>category</th>\n",
       "      <th>scientific</th>\n",
       "      <th>nicknames</th>\n",
       "      <th>status</th>\n",
       "      <th>more_than_one_name</th>\n",
       "    </tr>\n",
       "  </thead>\n",
       "  <tbody>\n",
       "    <tr>\n",
       "      <th>count</th>\n",
       "      <td>22</td>\n",
       "      <td>22</td>\n",
       "      <td>22</td>\n",
       "      <td>22</td>\n",
       "      <td>22</td>\n",
       "    </tr>\n",
       "    <tr>\n",
       "      <th>unique</th>\n",
       "      <td>2</td>\n",
       "      <td>10</td>\n",
       "      <td>21</td>\n",
       "      <td>3</td>\n",
       "      <td>2</td>\n",
       "    </tr>\n",
       "    <tr>\n",
       "      <th>top</th>\n",
       "      <td>Mammal</td>\n",
       "      <td>Canis lupus</td>\n",
       "      <td>Gray Wolf, Wolf</td>\n",
       "      <td>Species of Concern</td>\n",
       "      <td>True</td>\n",
       "    </tr>\n",
       "    <tr>\n",
       "      <th>freq</th>\n",
       "      <td>14</td>\n",
       "      <td>3</td>\n",
       "      <td>2</td>\n",
       "      <td>19</td>\n",
       "      <td>12</td>\n",
       "    </tr>\n",
       "  </tbody>\n",
       "</table>\n",
       "</div>"
      ],
      "text/plain": [
       "       category   scientific        nicknames              status  \\\n",
       "count        22           22               22                  22   \n",
       "unique        2           10               21                   3   \n",
       "top      Mammal  Canis lupus  Gray Wolf, Wolf  Species of Concern   \n",
       "freq         14            3                2                  19   \n",
       "\n",
       "       more_than_one_name  \n",
       "count                  22  \n",
       "unique                  2  \n",
       "top                  True  \n",
       "freq                   12  "
      ]
     },
     "execution_count": 258,
     "metadata": {},
     "output_type": "execute_result"
    }
   ],
   "source": [
    "species1_nan_dup['more_than_one_name'] = species1_nan_dup['nicknames'].apply(lambda x: True if ',' in x else False)\n",
    "species1_nan_dup = species1_nan_dup.sort_values(by='more_than_one_name')\n",
    "species1_nan_dup.describe(include='all')"
   ]
  },
  {
   "cell_type": "code",
   "execution_count": 259,
   "metadata": {},
   "outputs": [
    {
     "data": {
      "text/plain": [
       "True     12\n",
       "False    10\n",
       "Name: more_than_one_name, dtype: int64"
      ]
     },
     "execution_count": 259,
     "metadata": {},
     "output_type": "execute_result"
    }
   ],
   "source": [
    "\n",
    "species1_nan_dup.more_than_one_name.value_counts()"
   ]
  },
  {
   "cell_type": "markdown",
   "metadata": {},
   "source": [
    "## 3.2 Inspecting the `observations` dataset\n",
    "\n",
    "In the `observations` dataset there are three columns: `scientific_name`, `park_name`, and `observations`.\n"
   ]
  },
  {
   "cell_type": "code",
   "execution_count": null,
   "metadata": {},
   "outputs": [],
   "source": [
    "observations.head(10)"
   ]
  },
  {
   "cell_type": "code",
   "execution_count": null,
   "metadata": {},
   "outputs": [],
   "source": [
    "observations1 = observations.rename(columns={'scientific_name': 'scientific', 'park_name': 'park'})\n",
    "print(observations1.info())"
   ]
  },
  {
   "cell_type": "code",
   "execution_count": null,
   "metadata": {},
   "outputs": [],
   "source": [
    "print(observations1.describe(include='all'))"
   ]
  },
  {
   "cell_type": "code",
   "execution_count": null,
   "metadata": {},
   "outputs": [],
   "source": [
    "print(observations1.scientific.duplicated().value_counts())"
   ]
  },
  {
   "cell_type": "code",
   "execution_count": null,
   "metadata": {},
   "outputs": [],
   "source": [
    "print(observations1.scientific.value_counts())"
   ]
  },
  {
   "cell_type": "code",
   "execution_count": null,
   "metadata": {},
   "outputs": [],
   "source": [
    "print(observations1.park.value_counts())"
   ]
  },
  {
   "cell_type": "markdown",
   "metadata": {},
   "source": [
    "#### Some findings\n",
    "\n",
    "There are 5541 different species spotted and 5824 entries for each park (Great Smoky Mountains National Park,\n",
    "Yosemite National Park, Bryce National Park, and Yellowstone National Park)."
   ]
  },
  {
   "cell_type": "markdown",
   "metadata": {},
   "source": [
    "### 3.2.1 Checking for duplicated scientific name values per park\n",
    "\n",
    "First, data will be split per park."
   ]
  },
  {
   "cell_type": "code",
   "execution_count": null,
   "metadata": {},
   "outputs": [],
   "source": [
    "smoky = observations1[observations1['park'] == 'Great Smoky Mountains National Park']\n",
    "smoky.sort_values(by='observations', ascending=False).head()"
   ]
  },
  {
   "cell_type": "code",
   "execution_count": null,
   "metadata": {},
   "outputs": [],
   "source": [
    "print(smoky.scientific.duplicated().value_counts())\n",
    "smoky_duplicated = smoky[smoky.duplicated(subset=['scientific'])]\n",
    "smoky_duplicated[smoky_duplicated.duplicated(subset=['scientific'], keep=False)].sort_values(by='scientific')"
   ]
  },
  {
   "cell_type": "code",
   "execution_count": null,
   "metadata": {},
   "outputs": [],
   "source": [
    "yosemite = observations1[observations1['park'] == 'Yosemite National Park']\n",
    "yosemite.sort_values(by='observations', ascending=False).head()"
   ]
  },
  {
   "cell_type": "code",
   "execution_count": null,
   "metadata": {},
   "outputs": [],
   "source": [
    "print(yosemite.scientific.duplicated().value_counts())\n",
    "yosemite_duplicated = yosemite[yosemite.duplicated(subset=['scientific'])]\n",
    "yosemite_duplicated[yosemite_duplicated.duplicated(subset=['scientific'], keep=False)].sort_values(by='scientific')"
   ]
  },
  {
   "cell_type": "code",
   "execution_count": null,
   "metadata": {},
   "outputs": [],
   "source": [
    "bryce = observations1[observations1['park'] == 'Bryce National Park']\n",
    "bryce.sort_values(by='observations', ascending=False).head()\n"
   ]
  },
  {
   "cell_type": "code",
   "execution_count": null,
   "metadata": {},
   "outputs": [],
   "source": [
    "print(bryce.scientific.duplicated().value_counts())\n",
    "bryce_duplicated = bryce[bryce.duplicated(subset=['scientific'])]\n",
    "bryce_duplicated[bryce_duplicated.duplicated(subset=['scientific'], keep=False)].sort_values(by='scientific')"
   ]
  },
  {
   "cell_type": "code",
   "execution_count": null,
   "metadata": {},
   "outputs": [],
   "source": [
    "yellowstone = observations1[observations1['park'] == 'Yellowstone National Park']\n",
    "yellowstone.sort_values(by='observations', ascending=False).head()"
   ]
  },
  {
   "cell_type": "code",
   "execution_count": null,
   "metadata": {},
   "outputs": [],
   "source": [
    "print(yellowstone.scientific.duplicated().value_counts())\n",
    "yellowstone_duplicated = yellowstone[yellowstone.duplicated(subset=['scientific'])]\n",
    "yellowstone_duplicated[yellowstone_duplicated.duplicated(subset=['scientific'], keep=False)].sort_values(by='scientific')"
   ]
  },
  {
   "cell_type": "code",
   "execution_count": null,
   "metadata": {},
   "outputs": [],
   "source": [
    "# Duplicated species observations per park\n",
    "smoky_dup_list = smoky_duplicated[smoky_duplicated.duplicated(subset=['scientific'], keep=False)]\\\n",
    ".sort_values(by='scientific', ascending=True)\n",
    "smoky_dup_list.scientific.unique()"
   ]
  },
  {
   "cell_type": "code",
   "execution_count": null,
   "metadata": {},
   "outputs": [],
   "source": [
    "yosemite_dup_list = yosemite_duplicated[yosemite_duplicated.duplicated(subset=['scientific'], keep=False)]\\\n",
    ".sort_values(by='scientific', ascending=True)\n",
    "yosemite_dup_list.scientific.unique()"
   ]
  },
  {
   "cell_type": "code",
   "execution_count": null,
   "metadata": {},
   "outputs": [],
   "source": [
    "bryce_dup_list = bryce_duplicated[bryce_duplicated.duplicated(subset=['scientific'], keep=False)]\\\n",
    ".sort_values(by='scientific', ascending=True)\n",
    "bryce_dup_list.scientific.unique()"
   ]
  },
  {
   "cell_type": "code",
   "execution_count": null,
   "metadata": {},
   "outputs": [],
   "source": [
    "yellowstone_dup_list = yellowstone_duplicated[yellowstone_duplicated.duplicated(subset=['scientific'], keep=False)]\\\n",
    ".sort_values(by='scientific', ascending=True)\n",
    "yellowstone_dup_list.scientific.unique()"
   ]
  },
  {
   "cell_type": "code",
   "execution_count": null,
   "metadata": {},
   "outputs": [],
   "source": [
    "species_dup_list = species_duplicated[species_duplicated.duplicated(subset=['scientific'], keep=False)]\\\n",
    ".sort_values(by='scientific', ascending=True)\n",
    "species_dup_list.scientific.unique()"
   ]
  },
  {
   "cell_type": "markdown",
   "metadata": {},
   "source": [
    "#### Some findings\n",
    "There are duplicated records for the species *'Canis lupus', 'Castor canadensis', 'Columba livia', 'Holcus lanatus', 'Hypochaeris radicata', 'Myotis lucifugus','Procyon lotor', 'Puma concolor', 'Streptopelia decaocto'* for all the four parks. \n",
    "\n",
    "Since the same species have duplicated values, it's unlikely that happened due to random circunstances.\n",
    "\n",
    "Those species are the same that have duplicated values in the *species* dataset. As seen above, duplicated values in the `scientific_name` column is due to different entries of `common_names` for the same species."
   ]
  },
  {
   "cell_type": "markdown",
   "metadata": {},
   "source": [
    "### 4. Distribution of conservation status for animals\n",
    "\n",
    "Under the Endangered Species Act (ESA) at-risk species are classified as endangered species and threatened species.\n",
    "\n",
    "An **endangered species** is any species in danger of extinction.\n",
    "\n",
    "A **threatened species** is any species which is likely to become endangered within the foreseeable future. \n",
    "\n",
    "Species designated as threatened or endangered are called **listed species** in that they are added to the federal lists of endangered and threatened wildlife and plants. Species must meet the definition of endangered and threatened under the Act.\n",
    "\n",
    "The National Park Service dataset lists at-risk species in parks and includes those under the Endangered Species Act, and also state, local, and tribal listed species.\n",
    "\n",
    "A **species of special concern** is any species that is particularly vulnerable, and could easily become endangered.\n",
    "\n",
    "An **in recovery species** is any species that is subjected to a recovery program in order to no longer require special protection."
   ]
  },
  {
   "cell_type": "markdown",
   "metadata": {},
   "source": [
    "##### Some findings\n",
    "\n",
    "There are 1021 records for the category animal ('Mammal', 'Bird', 'Reptile', 'Amphibian', and 'Fish') in the dataset.\n",
    "\n",
    "As seen below, `Bird` is the largest group, with 521 records."
   ]
  },
  {
   "cell_type": "code",
   "execution_count": null,
   "metadata": {},
   "outputs": [],
   "source": [
    "species_animals = species[species.category.str.contains('Plant') == False]\n",
    "print('Number of entries:', species_animals.category.count())\n",
    "species_animals.category.unique()"
   ]
  },
  {
   "cell_type": "code",
   "execution_count": null,
   "metadata": {},
   "outputs": [],
   "source": [
    "ax = sns.catplot(data=species_animals, x='category', kind='count')\n",
    "ax = ax.facet_axis(0,0)\n",
    "for i in ax.containers:\n",
    "    ax.bar_label(i,)"
   ]
  },
  {
   "cell_type": "markdown",
   "metadata": {},
   "source": [
    "#### 4.1 Dealing with duplicated data\n",
    "\n",
    "Most of duplicated rows for the same species was due to the common names recorded for the same `scientific_name` value recorded. The duplicated species are 'Canis lupus', 'Castor canadensis', 'Columba livia','Holcus lanatus', 'Hypochaeris radicata', 'Myotis lucifugus','Procyon lotor', 'Puma concolor', 'Streptopelia decaocto'.\n",
    "However, in the 'Canis lupus' case, there are two different for entries in the `conservation_status` column ('In recovery' and 'Endangered').\n"
   ]
  },
  {
   "cell_type": "code",
   "execution_count": null,
   "metadata": {},
   "outputs": [],
   "source": [
    "species_duplicated[species_duplicated.duplicated(subset=['scientific'], keep=False)].\\\n",
    "sort_values(by='scientific')\n"
   ]
  },
  {
   "cell_type": "code",
   "execution_count": null,
   "metadata": {},
   "outputs": [],
   "source": [
    "print(species[species['scientific_name'] == 'Canis lupus'])\n",
    "\n",
    "# species2 = species\n",
    "# species2.rename(columns={'scientific_name': 'scientific', 'common_names': 'nicknames'}, inplace=True)\n",
    "# print(species2[species2.scientific == 'Canis lupus'])\n",
    "# species2['More than one common name'] = species2.apply(lambda row: True if ', ' in row['nicknames']\\\n",
    "#                                              else False, axis=1)\n",
    "# species2.sort_values(by='More than one common name', inplace=True)\n",
    "# species2[species2.scientific == 'Canis lupus']\n"
   ]
  },
  {
   "cell_type": "markdown",
   "metadata": {},
   "source": [
    "#### 4.2 Handling missing data\n",
    "\n",
    "As seen before, most entries in the conservation status columns (about 97%) have missing data. For 5633 records, there are 191 species with information about its conservation status in the dataset.\n",
    "\n",
    "For the purpose of this topic, it's important to assess the distribution of missing data among animals category.\n"
   ]
  },
  {
   "cell_type": "code",
   "execution_count": null,
   "metadata": {},
   "outputs": [],
   "source": [
    "# Visualizing the distribution of missing conservation status data\n",
    "species_animal_null = species_animals.fillna(value='No data')\n",
    "species_animal_null.head(10)\n",
    "\n",
    "order=['Species of Concern','Threatened', 'Endangered', 'In Recovery', \"No data\"]\n",
    "\n",
    "plt.figure(figsize=(8,6))\n",
    "ax = sns.catplot(data=species_animal_null, x='conservation_status', kind='count', \\\n",
    "                 order= order)\n",
    "ax = ax.facet_axis(0,0)\n",
    "for i in ax.containers:\n",
    "    ax.bar_label(i,)\n",
    "axe = plt.subplot()\n",
    "axe.set_xticks(ticks=range(5))\n",
    "axe.set_xlabel(order)\n",
    "axe.set_xticklabels(labels = order, rotation=45)\n",
    "plt.title(\"Distribution of conservation status for animal including null values\")\n",
    "plt.show()\n",
    "plt.clf()\n"
   ]
  },
  {
   "cell_type": "markdown",
   "metadata": {},
   "source": [
    "##### Some findings\n",
    "\n",
    "Missing data outnumber other `conservation_status` values for all groups of animals as seen on the graphs below. \n",
    "\n",
    "Possilble causes for that are:\n",
    "- most species have not been included on the list;\n",
    "- those species' conservation status were not informed."
   ]
  },
  {
   "cell_type": "code",
   "execution_count": null,
   "metadata": {},
   "outputs": [],
   "source": [
    "g = sns.catplot(data=species_animal_null, x='conservation_status', col='category', col_wrap = 5,\\\n",
    "            kind='count', height=3, aspect=8/5, \\\n",
    "            order=['Species of Concern','Threatened', 'Endangered', 'In Recovery', \"No data\"])\n",
    "\n",
    "g.fig.tight_layout()\n",
    "g.set_xticklabels(labels=order, rotation=45)\n",
    "\n",
    "plt.show()\n",
    "plt.clf()"
   ]
  },
  {
   "cell_type": "code",
   "execution_count": null,
   "metadata": {},
   "outputs": [],
   "source": [
    "g = sns.catplot(data=species_animal_null, x='category', hue='conservation_status',\\\n",
    "            kind='count', height=4, aspect=13/5, legend_out=False)\n",
    "\n",
    "sns.move_legend(g, \"upper right\")\n",
    "plt.title(\"Distribution of missing values among animals\")\n",
    "plt.show()\n",
    "plt.clf()"
   ]
  },
  {
   "cell_type": "code",
   "execution_count": null,
   "metadata": {
    "scrolled": true
   },
   "outputs": [],
   "source": [
    "# Visualizing the distribution of conservation status\n",
    "\n",
    "plt.figure(figsize=(10,7))\n",
    "ax = sns.catplot(data=species_animals, x='conservation_status', kind='count', \\\n",
    "                 order=['Species of Concern','Threatened', 'Endangered', 'In Recovery'])\n",
    "ax.set_xticklabels(rotation=45)\n",
    "plt.title(\"Distribution of conservation status for animals\")\n",
    "plt.show()\n",
    "plt.clf()"
   ]
  },
  {
   "cell_type": "code",
   "execution_count": null,
   "metadata": {},
   "outputs": [],
   "source": [
    "animals = sns.catplot(data=species_animals, x='conservation_status', col='category', col_wrap = 2,\\\n",
    "                      kind='count', order=['Species of Concern','Threatened', 'Endangered', 'In Recovery'],\\\n",
    "                      height=3, aspect=13/6)\n",
    "plt.show()\n",
    "plt.clf()\n"
   ]
  },
  {
   "cell_type": "markdown",
   "metadata": {},
   "source": [
    "#### Some findings\n",
    "\n",
    "Most animals were listed as *species of concern* conservation status.\n",
    "\n"
   ]
  },
  {
   "cell_type": "markdown",
   "metadata": {},
   "source": [
    "## Which species were spotted the most at each park?"
   ]
  },
  {
   "cell_type": "markdown",
   "metadata": {},
   "source": [
    "## Selecting species with conservation status data"
   ]
  },
  {
   "cell_type": "code",
   "execution_count": null,
   "metadata": {},
   "outputs": [],
   "source": [
    "# merging\n",
    "\n",
    "conservation = species.merge(observations, on='scientific_name')\n",
    "conservation.head()\n",
    "conservation.info()\n",
    "print(conservation.duplicated(subset=['scientific_name']).value_counts())\n",
    "conservation['conservation_status'].isna().value_counts()"
   ]
  },
  {
   "cell_type": "code",
   "execution_count": null,
   "metadata": {},
   "outputs": [],
   "source": [
    "conservation1 = conservation[conservation['conservation_status'].notnull()]"
   ]
  },
  {
   "cell_type": "code",
   "execution_count": null,
   "metadata": {},
   "outputs": [],
   "source": [
    "conservation1.info()"
   ]
  },
  {
   "cell_type": "code",
   "execution_count": null,
   "metadata": {},
   "outputs": [],
   "source": [
    "conservation1.duplicated(subset=['scientific_name']).value_counts()"
   ]
  },
  {
   "cell_type": "code",
   "execution_count": null,
   "metadata": {},
   "outputs": [],
   "source": [
    "conservation1.head(10)"
   ]
  },
  {
   "cell_type": "code",
   "execution_count": null,
   "metadata": {},
   "outputs": [],
   "source": [
    "conservation1.groupby('scientific_name').sum('observations')"
   ]
  },
  {
   "cell_type": "markdown",
   "metadata": {},
   "source": [
    "- What is the distribution of `conservation_status` for animals?"
   ]
  },
  {
   "cell_type": "markdown",
   "metadata": {},
   "source": [
    "- Are the differences between species and their conservation status significant?"
   ]
  },
  {
   "cell_type": "markdown",
   "metadata": {},
   "source": [
    "- Are certain types of species more likely to be endangered?"
   ]
  }
 ],
 "metadata": {
  "celltoolbar": "Slideshow",
  "kernelspec": {
   "display_name": "Python 3 (ipykernel)",
   "language": "python",
   "name": "python3"
  },
  "language_info": {
   "codemirror_mode": {
    "name": "ipython",
    "version": 3
   },
   "file_extension": ".py",
   "mimetype": "text/x-python",
   "name": "python",
   "nbconvert_exporter": "python",
   "pygments_lexer": "ipython3",
   "version": "3.9.13"
  }
 },
 "nbformat": 4,
 "nbformat_minor": 4
}

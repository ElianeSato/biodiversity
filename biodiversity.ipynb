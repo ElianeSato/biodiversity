{
 "cells": [
  {
   "cell_type": "markdown",
   "metadata": {},
   "source": [
    "# Biodiversity Project\n",
    "\n",
    "This project is part of the Codecademy course \"Data Scientist: Natural Language Processing Career Path\".\n",
    "\n",
    "For this project, data from National Parks Service about endangered species in different parks will be interpreted in order to check any patterns to endangered species.\n",
    "\n",
    "### Goals\n",
    "\n",
    "The aim of the project is to investigate any patterns or themes to the types of species that become endangered and then assess the likeliness of becoming extinct.\n",
    "\n",
    "### Resources\n",
    "\n",
    "Data from National Parks Service:\n",
    "\n",
    "- observations.csv\n",
    "\n",
    "- species_info.csv\n",
    "\n",
    "For classification status:\n",
    "\n",
    "- nps.gov\n",
    "\n",
    "- fisheries.noaa.gov\n",
    "\n",
    "- wikipedia.org\n",
    "\n",
    "- maine.gov\n",
    "\n",
    "Other:\n",
    "\n",
    "- wikipedia.org\n",
    "\n",
    "### Analysis\n",
    "\n",
    "\n",
    "Some analysis of the data will intend to answer the following questions:\n",
    "\n",
    "- What is the distribution of `conservation_status` for animals?\n",
    "- Are certain types of species more likely to be endangered?\n",
    "- Are the differences between species and their conservation status significant?\n",
    "- Which species were spotted the most at each park?\n",
    "\n"
   ]
  },
  {
   "cell_type": "markdown",
   "metadata": {},
   "source": [
    "## 1. Importing Python Libraries\n",
    "\n",
    "This project will be using Seaborn and Matplotlib libraries to plot data. Also, this project will be using Pandas and Numpy for data manipulation.\n"
   ]
  },
  {
   "cell_type": "code",
   "execution_count": null,
   "metadata": {},
   "outputs": [],
   "source": [
    "import numpy as np\n",
    "import pandas as pd\n",
    "import seaborn as sns\n",
    "import matplotlib.pyplot as plt"
   ]
  },
  {
   "cell_type": "markdown",
   "metadata": {},
   "source": [
    "## 2. Loading the data\n"
   ]
  },
  {
   "cell_type": "code",
   "execution_count": null,
   "metadata": {},
   "outputs": [],
   "source": [
    "species = pd.read_csv(\"species_info.csv\")\n",
    "observations = pd.read_csv(\"observations.csv\")"
   ]
  },
  {
   "cell_type": "markdown",
   "metadata": {},
   "source": [
    "## 3. Distribution of the conservation status \n",
    "\n",
    "Conservation status values are in the `species` dataset.\n",
    "\n",
    "### 3.1 Inspecting the `species` dataset\n",
    "\n",
    "In the `species` dataset there are four columns: `category`,`scientific_name`,`common_names`, and `conservation_status`.\n",
    "\n",
    "The first five entries of the `conservation_status` columns have no data."
   ]
  },
  {
   "cell_type": "code",
   "execution_count": null,
   "metadata": {},
   "outputs": [],
   "source": [
    "print(species.columns)\n",
    "print(species.head(10))\n"
   ]
  },
  {
   "cell_type": "markdown",
   "metadata": {},
   "source": [
    "As seen below, most entries in the conservation status columns (about 97%) have missing data."
   ]
  },
  {
   "cell_type": "code",
   "execution_count": null,
   "metadata": {},
   "outputs": [],
   "source": [
    "print(species.info())"
   ]
  },
  {
   "cell_type": "code",
   "execution_count": null,
   "metadata": {},
   "outputs": [],
   "source": [
    "species.describe(include='all')"
   ]
  },
  {
   "cell_type": "markdown",
   "metadata": {},
   "source": [
    "### 3.1.1 Handling missing data\n",
    "\n",
    "Since there are 191 non-null values in the `conservation_status` column, it is crucial to tackle missing data. Despite the fact that there are 5824 rows, most of them have missing data for the conservation_status column."
   ]
  },
  {
   "cell_type": "code",
   "execution_count": null,
   "metadata": {},
   "outputs": [],
   "source": [
    "species.conservation_status.isna().value_counts()"
   ]
  },
  {
   "cell_type": "code",
   "execution_count": null,
   "metadata": {},
   "outputs": [],
   "source": [
    "species.conservation_status.value_counts()"
   ]
  },
  {
   "cell_type": "code",
   "execution_count": null,
   "metadata": {},
   "outputs": [],
   "source": [
    "# getting to know species that have a value for the conservation_status column\n",
    "species_conservation = species[species.conservation_status.notna()]\n",
    "species_conservation = species_conservation.rename(columns={'scientific_name': 'scientific', 'common_names': 'nicknames',\\\n",
    "                                     'conservation_status': 'status'})\n",
    "print(species_conservation.scientific.nunique())\n",
    "species_conservation.scientific.unique()\n"
   ]
  },
  {
   "cell_type": "code",
   "execution_count": null,
   "metadata": {},
   "outputs": [],
   "source": [
    "# getting to know species that have no value for the conservation_status column\n",
    "species_nan = species[species.conservation_status.isna()]\n",
    "species_nan = species_nan.rename(columns={'scientific_name': 'scientific', 'common_names': 'nicknames',\\\n",
    "                                     'conservation_status': 'status'})\n",
    "species_nan.head()\n",
    "species_nan.duplicated().value_counts()"
   ]
  },
  {
   "cell_type": "markdown",
   "metadata": {},
   "source": [
    "#### Some analysis\n",
    "\n",
    "Provided that the number of missing data is too high, listwise deletion is not an option in that it would reduce the sample size too much. Although, that will be required to assess the distribution of conservation status for animals.\n",
    "\n",
    "On the other hand, in spite of the `conservation_status` value is missing, information in other columns (category, scientific name, and common names) might be important to analyse the `observation` dataset."
   ]
  },
  {
   "cell_type": "markdown",
   "metadata": {},
   "source": [
    "### 3.1.2 Handling duplicated data\n",
    "\n",
    "Since each species has its own unique scientific name, the expected unique number should be the same of the number of rows (5824). However, there are 5541 unique values in the `scientific name`  column, which reveals the existence of duplicated entries. \n",
    "\n"
   ]
  },
  {
   "cell_type": "markdown",
   "metadata": {},
   "source": [
    "### 3.1.2.1 Inspecting `scientific_name` duplicated data"
   ]
  },
  {
   "cell_type": "code",
   "execution_count": null,
   "metadata": {},
   "outputs": [],
   "source": [
    "species1 = species.rename(columns={'scientific_name': 'scientific',  \n",
    "                        'common_names': 'nicknames', 'conservation_status':'status'})\n",
    "\n",
    "# checking duplicated rows\n",
    "print(\"Is there duplicated rows?\", species1.duplicated().unique()[0])\n",
    "\n",
    "#checking duplicated values in the scientific column\n",
    "\n",
    "species_dup_scientific = species1[species1.duplicated(subset=['scientific'], keep=False)].\\\n",
    "                     sort_values(by='scientific')\n",
    "\n",
    "species_dup_scientific.describe(include='all')"
   ]
  },
  {
   "cell_type": "code",
   "execution_count": null,
   "metadata": {},
   "outputs": [],
   "source": [
    "# duplicated values in the scientific_name column\n",
    "species_dup_scientific[species_dup_scientific.duplicated(subset=['scientific'], keep=False)].\\\n",
    "   sort_values(by='scientific')"
   ]
  },
  {
   "cell_type": "code",
   "execution_count": null,
   "metadata": {},
   "outputs": [],
   "source": [
    "# duplicated values in the scientific_name AND common_names columns\n",
    "species_dup_scientific[species_dup_scientific.duplicated(subset=['scientific', 'nicknames'], keep=False)]"
   ]
  },
  {
   "cell_type": "code",
   "execution_count": null,
   "metadata": {},
   "outputs": [],
   "source": [
    "species_dup_scientific[species_dup_scientific.duplicated(subset=['nicknames'], keep=False)]"
   ]
  },
  {
   "cell_type": "code",
   "execution_count": null,
   "metadata": {},
   "outputs": [],
   "source": [
    "species_dup_scientific[(species_dup_scientific.scientific == 'Silene vulgaris') |  \\\n",
    "                       (species_dup_scientific.nicknames == 'Bladder Campion') | \\\n",
    "                      (species_dup_scientific.scientific == 'Silene latifolia ssp. alba')]"
   ]
  },
  {
   "cell_type": "markdown",
   "metadata": {},
   "source": [
    "#### Some findings\n",
    "Unexpectadly, among 557 rows with duplicated values in the scientific_name column, there are 274 unique values. \n",
    "It turns out that most of duplicated rows for the same `scientific_name` was due to the `common_names` values recorded. For these `scientific_nam` duplicated values, there are at least two different records for the `common_name` column. For example, there are two entries for the `scientific_name` value 'Agrostis capillaris':\n",
    "- the first entry has 'Colonial Bent, Colonial Bentgrass' for the `common_name` column;\n",
    "- the second entry has 'Rhode Island Bent' for the `common_name` column.\n",
    "\n",
    "On the other hand, where there are duplicated values in the `scientific_name` column AND `common_names` column, there are different entries in the `conservation_status` column. In the 'Canis lupus' value case, there are two different values for `conservation_status` value ('In recovery' and 'Endangered').\n",
    "\n",
    "There is a single case of `common_names` value 'Bladder Campion' which has two different entries in the `scientific_name` value: 'Silene latifolia ssp. alba' and 'Silene vulgaris'. Each one has two different entries in the `common_names` column."
   ]
  },
  {
   "cell_type": "markdown",
   "metadata": {},
   "source": [
    "### 3.1.2.2 Inspecting `common_names` duplicated data\n",
    "\n",
    "Common names refer to the usual name of species. Conversely to scientific name, a common name often applies to multiple species."
   ]
  },
  {
   "cell_type": "code",
   "execution_count": null,
   "metadata": {},
   "outputs": [],
   "source": [
    "#checking duplicated values in the common_names column\n",
    "\n",
    "species_dup_nicknames = species1[species1.duplicated(subset=['nicknames'], keep=False)].\\\n",
    "                     sort_values(by='nicknames')\n",
    "\n",
    "species_dup_nicknames.describe(include='all')\n"
   ]
  },
  {
   "cell_type": "code",
   "execution_count": null,
   "metadata": {},
   "outputs": [],
   "source": [
    "# Getting to know duplicate data in the scientific_name column AND nicknames column\n",
    "\n",
    "species_dup_nicknames[species_dup_nicknames.duplicated(subset=['scientific'], keep=False)]"
   ]
  },
  {
   "cell_type": "code",
   "execution_count": null,
   "metadata": {},
   "outputs": [],
   "source": [
    "# Getting to know duplicated data in the common_names column\n",
    "species_dup_nicknames"
   ]
  },
  {
   "cell_type": "code",
   "execution_count": null,
   "metadata": {},
   "outputs": [],
   "source": [
    "species_dup_nicknames[species_dup_nicknames['nicknames'] == 'Brachythecium Moss']"
   ]
  },
  {
   "cell_type": "code",
   "execution_count": null,
   "metadata": {
    "scrolled": true
   },
   "outputs": [],
   "source": [
    "# Getting to know duplicated data over than two entries in the common_names column\n",
    "spe_dup_nick_over2 = species_dup_nicknames[species_dup_nicknames.duplicated(subset=['nicknames'], keep = False)]\n",
    "spe_dup_nick_over2 = spe_dup_nick_over2.groupby('nicknames').count().reset_index().sort_values(by='category')\n",
    "spe_dup_nick_over2.rename(columns={'category': 'counts'}, inplace=True)\n",
    "spe_dup_nick_over2 = spe_dup_nick_over2[spe_dup_nick_over2.counts > 2].sort_values(by='counts', ascending=False)\n",
    "spe_dup_nick_over2.describe(include='all')\n"
   ]
  },
  {
   "cell_type": "markdown",
   "metadata": {},
   "source": [
    "##### Some findings\n",
    "\n",
    "There are 568 duplicated values in the `common_names` column, most of them due to the common name designates two different species. \n",
    "\n",
    "Among these, there are 41 `common_names` values given to more than two differente species, v.g, *'Brachythecium Moss'* common name was given to seven different species: 'Brachythecium rutabulum', 'Brachythecium oxycladon', 'Brachythecium oedipodium', 'Brachythecium digastrum', 'Brachythecium rivulare', 'Brachythecium salebrosum', and 'Brachythecium plumosum'.\n",
    "\n",
    "There are two cases of duplicated data in the `scientific_name`column AND `common_names` column, with different `conservation_status` values."
   ]
  },
  {
   "cell_type": "markdown",
   "metadata": {},
   "source": [
    "### 3.1.2.3 Removing duplicated data\n",
    "\n",
    "Detected duplicated data in the `scientific_name` column of `species` dataset, they must be removed in order to assess the conservation status distribution correctly."
   ]
  },
  {
   "cell_type": "code",
   "execution_count": null,
   "metadata": {},
   "outputs": [],
   "source": [
    "# removing rows with missing values in the 'conservation_status' column\n",
    "\n",
    "species1_nan = species1.dropna()\n",
    "species1_nan.describe(include='all')\n",
    "  \n",
    "    "
   ]
  },
  {
   "cell_type": "code",
   "execution_count": null,
   "metadata": {},
   "outputs": [],
   "source": [
    "# checking duplicated values\n",
    "\n",
    "species1_nan[species1_nan.duplicated(subset=['scientific'], keep=False)].sort_values(by='scientific')"
   ]
  },
  {
   "cell_type": "markdown",
   "metadata": {},
   "source": [
    "##### Some findings\n",
    "\n",
    "Duplicated values in the 'scientific_name' column is mostly due to different entries in the 'common_names' column.\n",
    "\n",
    "Most of the 'common_names' values for the same 'scientific_name' column is included in the other entry. For example, for *Pandion haliaetus* value in the 'scientific_name' column, there are two entries in the 'common_names' column: *Osprey* and *Osprey, Western Osprey*.\n",
    "\n",
    "Duplicated values for *Canis lupus* and *Myotis lucifugus* will be addressed individually because there are three entries each. "
   ]
  },
  {
   "cell_type": "code",
   "execution_count": null,
   "metadata": {},
   "outputs": [],
   "source": [
    "species1_nan['more_than_one_name'] = species1_nan.nicknames.apply(lambda x: True if ',' in x else False)\n"
   ]
  },
  {
   "cell_type": "markdown",
   "metadata": {},
   "source": [
    "## 3.2 Inspecting the `observations` dataset\n",
    "\n",
    "In the `observations` dataset there are three columns: `scientific_name`, `park_name`, and `observations`.\n"
   ]
  },
  {
   "cell_type": "code",
   "execution_count": null,
   "metadata": {},
   "outputs": [],
   "source": [
    "observations.head(10)"
   ]
  },
  {
   "cell_type": "code",
   "execution_count": null,
   "metadata": {},
   "outputs": [],
   "source": [
    "observations1 = observations.rename(columns={'scientific_name': 'scientific', 'park_name': 'park'})\n",
    "print(observations1.info())"
   ]
  },
  {
   "cell_type": "code",
   "execution_count": null,
   "metadata": {},
   "outputs": [],
   "source": [
    "print(observations1.describe(include='all'))"
   ]
  },
  {
   "cell_type": "code",
   "execution_count": null,
   "metadata": {},
   "outputs": [],
   "source": [
    "print(observations1.scientific.duplicated().value_counts())"
   ]
  },
  {
   "cell_type": "code",
   "execution_count": null,
   "metadata": {},
   "outputs": [],
   "source": [
    "print(observations1.scientific.value_counts())"
   ]
  },
  {
   "cell_type": "code",
   "execution_count": null,
   "metadata": {},
   "outputs": [],
   "source": [
    "print(observations1.park.value_counts())"
   ]
  },
  {
   "cell_type": "markdown",
   "metadata": {},
   "source": [
    "#### Some findings\n",
    "\n",
    "There are 5541 different species spotted and 5824 entries for each park (Great Smoky Mountains National Park,\n",
    "Yosemite National Park, Bryce National Park, and Yellowstone National Park)."
   ]
  },
  {
   "cell_type": "markdown",
   "metadata": {},
   "source": [
    "### 3.2.1 Checking for duplicated scientific name values per park\n",
    "\n",
    "First, data will be split per park."
   ]
  },
  {
   "cell_type": "code",
   "execution_count": null,
   "metadata": {},
   "outputs": [],
   "source": [
    "smoky = observations1[observations1['park'] == 'Great Smoky Mountains National Park']\n",
    "smoky.sort_values(by='observations', ascending=False).head()"
   ]
  },
  {
   "cell_type": "code",
   "execution_count": null,
   "metadata": {},
   "outputs": [],
   "source": [
    "print(smoky.scientific.duplicated().value_counts())\n",
    "smoky_duplicated = smoky[smoky.duplicated(subset=['scientific'])]\n",
    "smoky_duplicated[smoky_duplicated.duplicated(subset=['scientific'], keep=False)].sort_values(by='scientific')"
   ]
  },
  {
   "cell_type": "code",
   "execution_count": null,
   "metadata": {},
   "outputs": [],
   "source": [
    "yosemite = observations1[observations1['park'] == 'Yosemite National Park']\n",
    "yosemite.sort_values(by='observations', ascending=False).head()"
   ]
  },
  {
   "cell_type": "code",
   "execution_count": null,
   "metadata": {},
   "outputs": [],
   "source": [
    "print(yosemite.scientific.duplicated().value_counts())\n",
    "yosemite_duplicated = yosemite[yosemite.duplicated(subset=['scientific'])]\n",
    "yosemite_duplicated[yosemite_duplicated.duplicated(subset=['scientific'], keep=False)].sort_values(by='scientific')"
   ]
  },
  {
   "cell_type": "code",
   "execution_count": null,
   "metadata": {},
   "outputs": [],
   "source": [
    "bryce = observations1[observations1['park'] == 'Bryce National Park']\n",
    "bryce.sort_values(by='observations', ascending=False).head()\n"
   ]
  },
  {
   "cell_type": "code",
   "execution_count": null,
   "metadata": {},
   "outputs": [],
   "source": [
    "print(bryce.scientific.duplicated().value_counts())\n",
    "bryce_duplicated = bryce[bryce.duplicated(subset=['scientific'])]\n",
    "bryce_duplicated[bryce_duplicated.duplicated(subset=['scientific'], keep=False)].sort_values(by='scientific')"
   ]
  },
  {
   "cell_type": "code",
   "execution_count": null,
   "metadata": {},
   "outputs": [],
   "source": [
    "yellowstone = observations1[observations1['park'] == 'Yellowstone National Park']\n",
    "yellowstone.sort_values(by='observations', ascending=False).head()"
   ]
  },
  {
   "cell_type": "code",
   "execution_count": null,
   "metadata": {},
   "outputs": [],
   "source": [
    "print(yellowstone.scientific.duplicated().value_counts())\n",
    "yellowstone_duplicated = yellowstone[yellowstone.duplicated(subset=['scientific'])]\n",
    "yellowstone_duplicated[yellowstone_duplicated.duplicated(subset=['scientific'], keep=False)].sort_values(by='scientific')"
   ]
  },
  {
   "cell_type": "code",
   "execution_count": null,
   "metadata": {},
   "outputs": [],
   "source": [
    "# Duplicated species observations per park\n",
    "smoky_dup_list = smoky_duplicated[smoky_duplicated.duplicated(subset=['scientific'], keep=False)]\\\n",
    ".sort_values(by='scientific', ascending=True)\n",
    "smoky_dup_list.scientific.unique()"
   ]
  },
  {
   "cell_type": "code",
   "execution_count": null,
   "metadata": {},
   "outputs": [],
   "source": [
    "yosemite_dup_list = yosemite_duplicated[yosemite_duplicated.duplicated(subset=['scientific'], keep=False)]\\\n",
    ".sort_values(by='scientific', ascending=True)\n",
    "yosemite_dup_list.scientific.unique()"
   ]
  },
  {
   "cell_type": "code",
   "execution_count": null,
   "metadata": {},
   "outputs": [],
   "source": [
    "bryce_dup_list = bryce_duplicated[bryce_duplicated.duplicated(subset=['scientific'], keep=False)]\\\n",
    ".sort_values(by='scientific', ascending=True)\n",
    "bryce_dup_list.scientific.unique()"
   ]
  },
  {
   "cell_type": "code",
   "execution_count": null,
   "metadata": {},
   "outputs": [],
   "source": [
    "yellowstone_dup_list = yellowstone_duplicated[yellowstone_duplicated.duplicated(subset=['scientific'], keep=False)]\\\n",
    ".sort_values(by='scientific', ascending=True)\n",
    "yellowstone_dup_list.scientific.unique()"
   ]
  },
  {
   "cell_type": "code",
   "execution_count": null,
   "metadata": {},
   "outputs": [],
   "source": [
    "species_dup_list = species_duplicated[species_duplicated.duplicated(subset=['scientific'], keep=False)]\\\n",
    ".sort_values(by='scientific', ascending=True)\n",
    "species_dup_list.scientific.unique()"
   ]
  },
  {
   "cell_type": "markdown",
   "metadata": {},
   "source": [
    "#### Some findings\n",
    "There are duplicated records for the species *'Canis lupus', 'Castor canadensis', 'Columba livia', 'Holcus lanatus', 'Hypochaeris radicata', 'Myotis lucifugus','Procyon lotor', 'Puma concolor', 'Streptopelia decaocto'* for all the four parks. \n",
    "\n",
    "Since the same species have duplicated values, it's unlikely that happened due to random circunstances.\n",
    "\n",
    "Those species are the same that have duplicated values in the *species* dataset. As seen above, duplicated values in the `scientific_name` column is due to different entries of `common_names` for the same species."
   ]
  },
  {
   "cell_type": "markdown",
   "metadata": {},
   "source": [
    "### 4. Distribution of conservation status for animals\n",
    "\n",
    "Under the Endangered Species Act (ESA) at-risk species are classified as endangered species and threatened species.\n",
    "\n",
    "An **endangered species** is any species in danger of extinction.\n",
    "\n",
    "A **threatened species** is any species which is likely to become endangered within the foreseeable future. \n",
    "\n",
    "Species designated as threatened or endangered are called **listed species** in that they are added to the federal lists of endangered and threatened wildlife and plants. Species must meet the definition of endangered and threatened under the Act.\n",
    "\n",
    "The National Park Service dataset lists at-risk species in parks and includes those under the Endangered Species Act, and also state, local, and tribal listed species.\n",
    "\n",
    "A **species of special concern** is any species that is particularly vulnerable, and could easily become endangered.\n",
    "\n",
    "An **in recovery species** is any species that is subjected to a recovery program in order to no longer require special protection."
   ]
  },
  {
   "cell_type": "markdown",
   "metadata": {},
   "source": [
    "##### Some findings\n",
    "\n",
    "There are 1021 records for the category animal ('Mammal', 'Bird', 'Reptile', 'Amphibian', and 'Fish') in the dataset.\n",
    "\n",
    "As seen below, `Bird` is the largest group, with 521 records."
   ]
  },
  {
   "cell_type": "code",
   "execution_count": null,
   "metadata": {},
   "outputs": [],
   "source": [
    "species_animals = species[species.category.str.contains('Plant') == False]\n",
    "print('Number of entries:', species_animals.category.count())\n",
    "species_animals.category.unique()"
   ]
  },
  {
   "cell_type": "code",
   "execution_count": null,
   "metadata": {},
   "outputs": [],
   "source": [
    "ax = sns.catplot(data=species_animals, x='category', kind='count')\n",
    "ax = ax.facet_axis(0,0)\n",
    "for i in ax.containers:\n",
    "    ax.bar_label(i,)"
   ]
  },
  {
   "cell_type": "markdown",
   "metadata": {},
   "source": [
    "#### 4.1 Dealing with duplicated data\n",
    "\n",
    "Most of duplicated rows for the same species was due to the common names recorded for the same `scientific_name` value recorded. The duplicated species are 'Canis lupus', 'Castor canadensis', 'Columba livia','Holcus lanatus', 'Hypochaeris radicata', 'Myotis lucifugus','Procyon lotor', 'Puma concolor', 'Streptopelia decaocto'.\n",
    "However, in the 'Canis lupus' case, there are two different for entries in the `conservation_status` column ('In recovery' and 'Endangered').\n"
   ]
  },
  {
   "cell_type": "code",
   "execution_count": null,
   "metadata": {},
   "outputs": [],
   "source": [
    "species_duplicated[species_duplicated.duplicated(subset=['scientific'], keep=False)].\\\n",
    "sort_values(by='scientific')\n"
   ]
  },
  {
   "cell_type": "code",
   "execution_count": null,
   "metadata": {},
   "outputs": [],
   "source": [
    "print(species[species['scientific_name'] == 'Canis lupus'])\n",
    "\n",
    "# species2 = species\n",
    "# species2.rename(columns={'scientific_name': 'scientific', 'common_names': 'nicknames'}, inplace=True)\n",
    "# print(species2[species2.scientific == 'Canis lupus'])\n",
    "# species2['More than one common name'] = species2.apply(lambda row: True if ', ' in row['nicknames']\\\n",
    "#                                              else False, axis=1)\n",
    "# species2.sort_values(by='More than one common name', inplace=True)\n",
    "# species2[species2.scientific == 'Canis lupus']\n"
   ]
  },
  {
   "cell_type": "markdown",
   "metadata": {},
   "source": [
    "#### 4.2 Handling missing data\n",
    "\n",
    "As seen before, most entries in the conservation status columns (about 97%) have missing data. For 5633 records, there are 191 species with information about its conservation status in the dataset.\n",
    "\n",
    "For the purpose of this topic, it's important to assess the distribution of missing data among animals category.\n"
   ]
  },
  {
   "cell_type": "code",
   "execution_count": null,
   "metadata": {},
   "outputs": [],
   "source": [
    "# Visualizing the distribution of missing conservation status data\n",
    "species_animal_null = species_animals.fillna(value='No data')\n",
    "species_animal_null.head(10)\n",
    "\n",
    "order=['Species of Concern','Threatened', 'Endangered', 'In Recovery', \"No data\"]\n",
    "\n",
    "plt.figure(figsize=(8,6))\n",
    "ax = sns.catplot(data=species_animal_null, x='conservation_status', kind='count', \\\n",
    "                 order= order)\n",
    "ax = ax.facet_axis(0,0)\n",
    "for i in ax.containers:\n",
    "    ax.bar_label(i,)\n",
    "axe = plt.subplot()\n",
    "axe.set_xticks(ticks=range(5))\n",
    "axe.set_xlabel(order)\n",
    "axe.set_xticklabels(labels = order, rotation=45)\n",
    "plt.title(\"Distribution of conservation status for animal including null values\")\n",
    "plt.show()\n",
    "plt.clf()\n"
   ]
  },
  {
   "cell_type": "markdown",
   "metadata": {},
   "source": [
    "##### Some findings\n",
    "\n",
    "Missing data outnumber other `conservation_status` values for all groups of animals as seen on the graphs below. \n",
    "\n",
    "Possilble causes for that are:\n",
    "- most species have not been included on the list;\n",
    "- those species' conservation status were not informed."
   ]
  },
  {
   "cell_type": "code",
   "execution_count": null,
   "metadata": {},
   "outputs": [],
   "source": [
    "g = sns.catplot(data=species_animal_null, x='conservation_status', col='category', col_wrap = 5,\\\n",
    "            kind='count', height=3, aspect=8/5, \\\n",
    "            order=['Species of Concern','Threatened', 'Endangered', 'In Recovery', \"No data\"])\n",
    "\n",
    "g.fig.tight_layout()\n",
    "g.set_xticklabels(labels=order, rotation=45)\n",
    "\n",
    "plt.show()\n",
    "plt.clf()"
   ]
  },
  {
   "cell_type": "code",
   "execution_count": null,
   "metadata": {},
   "outputs": [],
   "source": [
    "g = sns.catplot(data=species_animal_null, x='category', hue='conservation_status',\\\n",
    "            kind='count', height=4, aspect=13/5, legend_out=False)\n",
    "\n",
    "sns.move_legend(g, \"upper right\")\n",
    "plt.title(\"Distribution of missing values among animals\")\n",
    "plt.show()\n",
    "plt.clf()"
   ]
  },
  {
   "cell_type": "code",
   "execution_count": null,
   "metadata": {
    "scrolled": true
   },
   "outputs": [],
   "source": [
    "# Visualizing the distribution of conservation status\n",
    "\n",
    "plt.figure(figsize=(10,7))\n",
    "ax = sns.catplot(data=species_animals, x='conservation_status', kind='count', \\\n",
    "                 order=['Species of Concern','Threatened', 'Endangered', 'In Recovery'])\n",
    "ax.set_xticklabels(rotation=45)\n",
    "plt.title(\"Distribution of conservation status for animals\")\n",
    "plt.show()\n",
    "plt.clf()"
   ]
  },
  {
   "cell_type": "code",
   "execution_count": null,
   "metadata": {},
   "outputs": [],
   "source": [
    "animals = sns.catplot(data=species_animals, x='conservation_status', col='category', col_wrap = 2,\\\n",
    "                      kind='count', order=['Species of Concern','Threatened', 'Endangered', 'In Recovery'],\\\n",
    "                      height=3, aspect=13/6)\n",
    "plt.show()\n",
    "plt.clf()\n"
   ]
  },
  {
   "cell_type": "markdown",
   "metadata": {},
   "source": [
    "#### Some findings\n",
    "\n",
    "Most animals were listed as *species of concern* conservation status.\n",
    "\n"
   ]
  },
  {
   "cell_type": "markdown",
   "metadata": {},
   "source": [
    "## Which species were spotted the most at each park?"
   ]
  },
  {
   "cell_type": "markdown",
   "metadata": {},
   "source": [
    "## Selecting species with conservation status data"
   ]
  },
  {
   "cell_type": "code",
   "execution_count": null,
   "metadata": {},
   "outputs": [],
   "source": [
    "# merging\n",
    "\n",
    "conservation = species.merge(observations, on='scientific_name')\n",
    "conservation.head()\n",
    "conservation.info()\n",
    "print(conservation.duplicated(subset=['scientific_name']).value_counts())\n",
    "conservation['conservation_status'].isna().value_counts()"
   ]
  },
  {
   "cell_type": "code",
   "execution_count": null,
   "metadata": {},
   "outputs": [],
   "source": [
    "conservation1 = conservation[conservation['conservation_status'].notnull()]"
   ]
  },
  {
   "cell_type": "code",
   "execution_count": null,
   "metadata": {},
   "outputs": [],
   "source": [
    "conservation1.info()"
   ]
  },
  {
   "cell_type": "code",
   "execution_count": null,
   "metadata": {},
   "outputs": [],
   "source": [
    "conservation1.duplicated(subset=['scientific_name']).value_counts()"
   ]
  },
  {
   "cell_type": "code",
   "execution_count": null,
   "metadata": {},
   "outputs": [],
   "source": [
    "conservation1.head(10)"
   ]
  },
  {
   "cell_type": "code",
   "execution_count": null,
   "metadata": {},
   "outputs": [],
   "source": [
    "conservation1.groupby('scientific_name').sum('observations')"
   ]
  },
  {
   "cell_type": "markdown",
   "metadata": {},
   "source": [
    "- What is the distribution of `conservation_status` for animals?"
   ]
  },
  {
   "cell_type": "markdown",
   "metadata": {},
   "source": [
    "- Are the differences between species and their conservation status significant?"
   ]
  },
  {
   "cell_type": "markdown",
   "metadata": {},
   "source": [
    "- Are certain types of species more likely to be endangered?"
   ]
  }
 ],
 "metadata": {
  "celltoolbar": "Slideshow",
  "kernelspec": {
   "display_name": "Python 3 (ipykernel)",
   "language": "python",
   "name": "python3"
  },
  "language_info": {
   "codemirror_mode": {
    "name": "ipython",
    "version": 3
   },
   "file_extension": ".py",
   "mimetype": "text/x-python",
   "name": "python",
   "nbconvert_exporter": "python",
   "pygments_lexer": "ipython3",
   "version": "3.9.13"
  }
 },
 "nbformat": 4,
 "nbformat_minor": 4
}

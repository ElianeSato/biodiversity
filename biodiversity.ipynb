{
 "cells": [
  {
   "cell_type": "markdown",
   "metadata": {},
   "source": [
    "# Biodiversity Project\n",
    "\n",
    "This project is part of the Codecademy course \"Data Scientist: Natural Language Processing Career Path\".\n",
    "\n",
    "For this project, data from National Parks Service about endangered species in different parks will be interpreted in order to check any patterns to endangered species.\n",
    "\n",
    "### Goals\n",
    "\n",
    "The aim of the project is to investigate any patterns or themes to the types of species that become endangered and then assess the likeliness of becoming extinct.\n",
    "\n",
    "### Resources\n",
    "\n",
    "Data from National Parks Service:\n",
    "\n",
    "- observations.csv\n",
    "\n",
    "- species_info.csv\n",
    "\n",
    "For classification status:\n",
    "\n",
    "- nps.gov\n",
    "\n",
    "- fisheries.noaa.gov\n",
    "\n",
    "- wikipedia.org\n",
    "\n",
    "- maine.gov\n",
    "\n",
    "### Analysis\n",
    "\n",
    "\n",
    "Some analysis of the data will intend to answer the following questions:\n",
    "\n",
    "- What is the distribution of `conservation_status` for animals?\n",
    "- Are certain types of species more likely to be endangered?\n",
    "- Are the differences between species and their conservation status significant?\n",
    "- Which species were spotted the most at each park?\n",
    "\n"
   ]
  },
  {
   "cell_type": "markdown",
   "metadata": {},
   "source": [
    "## 1. Importing Python Libraries\n",
    "\n",
    "This project will be using Seaborn and Matplotlib libraries to plot data. Also, this project will be using Pandas and Numpy for data manipulation.\n"
   ]
  },
  {
   "cell_type": "code",
   "execution_count": 1,
   "metadata": {},
   "outputs": [],
   "source": [
    "import numpy as np\n",
    "import pandas as pd\n",
    "import seaborn as sns\n",
    "import matplotlib.pyplot as plt"
   ]
  },
  {
   "cell_type": "markdown",
   "metadata": {},
   "source": [
    "## 2. Loading the data\n"
   ]
  },
  {
   "cell_type": "code",
   "execution_count": 2,
   "metadata": {},
   "outputs": [],
   "source": [
    "species = pd.read_csv(\"species_info.csv\")\n",
    "observations = pd.read_csv(\"observations.csv\")"
   ]
  },
  {
   "cell_type": "markdown",
   "metadata": {},
   "source": [
    "## 3. Diagnosing the \\'tideness\\' of the data\n",
    "\n",
    "### 3.1 Inspecting the `species` dataset\n",
    "\n",
    "In the `species` dataset there are four columns: `category`,`scientific_name`,`common_names`, and `conservation_status`.\n",
    "\n",
    "The first five entries of the `conservation_status` columns have no data."
   ]
  },
  {
   "cell_type": "code",
   "execution_count": 3,
   "metadata": {},
   "outputs": [
    {
     "name": "stdout",
     "output_type": "stream",
     "text": [
      "Index(['category', 'scientific_name', 'common_names', 'conservation_status'], dtype='object')\n",
      "  category                scientific_name  \\\n",
      "0   Mammal  Clethrionomys gapperi gapperi   \n",
      "1   Mammal                      Bos bison   \n",
      "2   Mammal                     Bos taurus   \n",
      "3   Mammal                     Ovis aries   \n",
      "4   Mammal                 Cervus elaphus   \n",
      "5   Mammal         Odocoileus virginianus   \n",
      "6   Mammal                     Sus scrofa   \n",
      "7   Mammal                  Canis latrans   \n",
      "8   Mammal                    Canis lupus   \n",
      "9   Mammal                    Canis rufus   \n",
      "\n",
      "                                        common_names conservation_status  \n",
      "0                           Gapper's Red-Backed Vole                 NaN  \n",
      "1                              American Bison, Bison                 NaN  \n",
      "2  Aurochs, Aurochs, Domestic Cattle (Feral), Dom...                 NaN  \n",
      "3  Domestic Sheep, Mouflon, Red Sheep, Sheep (Feral)                 NaN  \n",
      "4                                      Wapiti Or Elk                 NaN  \n",
      "5                                  White-Tailed Deer                 NaN  \n",
      "6                                Feral Hog, Wild Pig                 NaN  \n",
      "7                                             Coyote  Species of Concern  \n",
      "8                                          Gray Wolf          Endangered  \n",
      "9                                           Red Wolf          Endangered  \n"
     ]
    }
   ],
   "source": [
    "print(species.columns)\n",
    "print(species.head(10))\n"
   ]
  },
  {
   "cell_type": "markdown",
   "metadata": {},
   "source": [
    "As seen below, most entries in the conservation status columns (about 97%) have missing data."
   ]
  },
  {
   "cell_type": "code",
   "execution_count": 4,
   "metadata": {},
   "outputs": [
    {
     "name": "stdout",
     "output_type": "stream",
     "text": [
      "<class 'pandas.core.frame.DataFrame'>\n",
      "RangeIndex: 5824 entries, 0 to 5823\n",
      "Data columns (total 4 columns):\n",
      " #   Column               Non-Null Count  Dtype \n",
      "---  ------               --------------  ----- \n",
      " 0   category             5824 non-null   object\n",
      " 1   scientific_name      5824 non-null   object\n",
      " 2   common_names         5824 non-null   object\n",
      " 3   conservation_status  191 non-null    object\n",
      "dtypes: object(4)\n",
      "memory usage: 182.1+ KB\n",
      "None\n"
     ]
    }
   ],
   "source": [
    "print(species.info())"
   ]
  },
  {
   "cell_type": "code",
   "execution_count": 5,
   "metadata": {},
   "outputs": [
    {
     "data": {
      "text/html": [
       "<div>\n",
       "<style scoped>\n",
       "    .dataframe tbody tr th:only-of-type {\n",
       "        vertical-align: middle;\n",
       "    }\n",
       "\n",
       "    .dataframe tbody tr th {\n",
       "        vertical-align: top;\n",
       "    }\n",
       "\n",
       "    .dataframe thead th {\n",
       "        text-align: right;\n",
       "    }\n",
       "</style>\n",
       "<table border=\"1\" class=\"dataframe\">\n",
       "  <thead>\n",
       "    <tr style=\"text-align: right;\">\n",
       "      <th></th>\n",
       "      <th>category</th>\n",
       "      <th>scientific_name</th>\n",
       "      <th>common_names</th>\n",
       "      <th>conservation_status</th>\n",
       "    </tr>\n",
       "  </thead>\n",
       "  <tbody>\n",
       "    <tr>\n",
       "      <th>count</th>\n",
       "      <td>5824</td>\n",
       "      <td>5824</td>\n",
       "      <td>5824</td>\n",
       "      <td>191</td>\n",
       "    </tr>\n",
       "    <tr>\n",
       "      <th>unique</th>\n",
       "      <td>7</td>\n",
       "      <td>5541</td>\n",
       "      <td>5504</td>\n",
       "      <td>4</td>\n",
       "    </tr>\n",
       "    <tr>\n",
       "      <th>top</th>\n",
       "      <td>Vascular Plant</td>\n",
       "      <td>Castor canadensis</td>\n",
       "      <td>Brachythecium Moss</td>\n",
       "      <td>Species of Concern</td>\n",
       "    </tr>\n",
       "    <tr>\n",
       "      <th>freq</th>\n",
       "      <td>4470</td>\n",
       "      <td>3</td>\n",
       "      <td>7</td>\n",
       "      <td>161</td>\n",
       "    </tr>\n",
       "  </tbody>\n",
       "</table>\n",
       "</div>"
      ],
      "text/plain": [
       "              category    scientific_name        common_names  \\\n",
       "count             5824               5824                5824   \n",
       "unique               7               5541                5504   \n",
       "top     Vascular Plant  Castor canadensis  Brachythecium Moss   \n",
       "freq              4470                  3                   7   \n",
       "\n",
       "       conservation_status  \n",
       "count                  191  \n",
       "unique                   4  \n",
       "top     Species of Concern  \n",
       "freq                   161  "
      ]
     },
     "execution_count": 5,
     "metadata": {},
     "output_type": "execute_result"
    }
   ],
   "source": [
    "species.describe(include='all')"
   ]
  },
  {
   "cell_type": "markdown",
   "metadata": {},
   "source": [
    "### 3.1.1 Handling missing data\n",
    "\n",
    "Since there are 191 non-null values in the `conservation_status` column, it is crucial to tackle missing data. "
   ]
  },
  {
   "cell_type": "code",
   "execution_count": 6,
   "metadata": {},
   "outputs": [
    {
     "data": {
      "text/plain": [
       "True     5633\n",
       "False     191\n",
       "Name: conservation_status, dtype: int64"
      ]
     },
     "execution_count": 6,
     "metadata": {},
     "output_type": "execute_result"
    }
   ],
   "source": [
    "species.conservation_status.isna().value_counts()"
   ]
  },
  {
   "cell_type": "code",
   "execution_count": 7,
   "metadata": {},
   "outputs": [
    {
     "data": {
      "text/plain": [
       "Species of Concern    161\n",
       "Endangered             16\n",
       "Threatened             10\n",
       "In Recovery             4\n",
       "Name: conservation_status, dtype: int64"
      ]
     },
     "execution_count": 7,
     "metadata": {},
     "output_type": "execute_result"
    }
   ],
   "source": [
    "species.conservation_status.value_counts()"
   ]
  },
  {
   "cell_type": "markdown",
   "metadata": {},
   "source": [
    "#### Some findings\n",
    "\n",
    "Despite the fact that there are 5824 rows, most of them have missing data for the `conservation_status` column.\n"
   ]
  },
  {
   "cell_type": "code",
   "execution_count": 8,
   "metadata": {},
   "outputs": [
    {
     "data": {
      "text/plain": [
       "8                     Canis lupus\n",
       "29               Eptesicus fuscus\n",
       "30      Lasionycteris noctivagans\n",
       "37               Myotis lucifugus\n",
       "104             Pandion haliaetus\n",
       "172                   Gavia immer\n",
       "226               Riparia riparia\n",
       "337         Nycticorax nycticorax\n",
       "3020                  Canis lupus\n",
       "3029                Taxidea taxus\n",
       "3035             Eptesicus fuscus\n",
       "3037    Lasionycteris noctivagans\n",
       "3039          Myotis californicus\n",
       "Name: scientific, dtype: object"
      ]
     },
     "execution_count": 8,
     "metadata": {},
     "output_type": "execute_result"
    }
   ],
   "source": [
    "# getting to know species that have a value for the conservation_status column\n",
    "species_conservation = species[species.conservation_status.notna()]\n",
    "species_conservation = species_conservation.rename(columns={'scientific_name': 'scientific', 'common_names': 'nicknames',\\\n",
    "                                     'conservation_status': 'status'})\n",
    "species_conservation.head()\n",
    "species_conservation.scientific.duplicated().value_counts()\n",
    "species_conservation.scientific[species_conservation.duplicated(subset=['scientific'], keep=False)].head(13)"
   ]
  },
  {
   "cell_type": "code",
   "execution_count": 9,
   "metadata": {},
   "outputs": [
    {
     "data": {
      "text/plain": [
       "False    5633\n",
       "dtype: int64"
      ]
     },
     "execution_count": 9,
     "metadata": {},
     "output_type": "execute_result"
    }
   ],
   "source": [
    "# getting to know species that have no value for the conservation_status column\n",
    "species_nan = species[species.conservation_status.isna()]\n",
    "species_nan = species_nan.rename(columns={'scientific_name': 'scientific', 'common_names': 'nicknames',\\\n",
    "                                     'conservation_status': 'status'})\n",
    "species_nan.head()\n",
    "species_nan.duplicated().value_counts()"
   ]
  },
  {
   "cell_type": "markdown",
   "metadata": {},
   "source": [
    "#### Some analysis\n",
    "\n",
    "Provided that the number of missing data is too high, listwise deletion is not an option in that it would reduce the sample size too much. Although, that will be required to assess the distribution of conservation status for animals.\n",
    "\n",
    "On the other hand, in spite of the `conservation_status` value is missing, information in other columns (category, scientific name, and common names) is important to analyse the `observation` dataset."
   ]
  },
  {
   "cell_type": "markdown",
   "metadata": {},
   "source": [
    "### 3.1.2 Checking duplicated data\n",
    "\n",
    "Since each species has its own unique scientific name, the expected unique number should be the same of the number of rows (5824). However, there are 5541 unique values in the `scientific name`  column, which suggests there might be some duplicated entries. "
   ]
  },
  {
   "cell_type": "code",
   "execution_count": 10,
   "metadata": {},
   "outputs": [
    {
     "name": "stdout",
     "output_type": "stream",
     "text": [
      "[False]\n",
      "            category            scientific  \\\n",
      "5553  Vascular Plant   Agrostis capillaris   \n",
      "5554  Vascular Plant     Agrostis gigantea   \n",
      "4178  Vascular Plant    Agrostis mertensii   \n",
      "5556  Vascular Plant       Agrostis scabra   \n",
      "4182  Vascular Plant  Agrostis stolonifera   \n",
      "...              ...                   ...   \n",
      "3231            Bird      Vireo solitarius   \n",
      "5640  Vascular Plant      Vulpia bromoides   \n",
      "5643  Vascular Plant         Vulpia myuros   \n",
      "4290  Vascular Plant      Vulpia octoflora   \n",
      "3347  Vascular Plant          Zizia aptera   \n",
      "\n",
      "                                              nicknames status  \n",
      "5553                  Colonial Bent, Colonial Bentgrass    NaN  \n",
      "5554                Black Bent, Redtop, Water Bentgrass    NaN  \n",
      "4178               Arctic Bentgrass, Northern Bentgrass    NaN  \n",
      "5556           Rough Bent, Rough Bentgrass, Ticklegrass    NaN  \n",
      "4182  Carpet Bentgrass, Creeping Bent, Creeping Bent...    NaN  \n",
      "...                                                 ...    ...  \n",
      "3231                                  Blue-Headed Vireo    NaN  \n",
      "5640  Brome Fescue, Brome Six-Weeks Grass, Desert Fe...    NaN  \n",
      "5643  Foxtail Fescue, Rattail Fescue, Rat-Tail Fescu...    NaN  \n",
      "4290  Eight-Flower Six-Weeks Grass, Pullout Grass, S...    NaN  \n",
      "3347  Heartleaf Alexanders, Heart-Leaf Alexanders, M...    NaN  \n",
      "\n",
      "[283 rows x 4 columns]\n"
     ]
    },
    {
     "data": {
      "text/plain": [
       "category        6\n",
       "scientific    274\n",
       "nicknames     282\n",
       "status          4\n",
       "dtype: int64"
      ]
     },
     "execution_count": 10,
     "metadata": {},
     "output_type": "execute_result"
    }
   ],
   "source": [
    "species1 = species.rename(columns={'scientific_name': 'scientific',  \n",
    "                        'common_names': 'nicknames', 'conservation_status':'status'})\n",
    "# checking duplicated rows\n",
    "print(species1.duplicated().unique())\n",
    "\n",
    "#checking duplicated values in the scientific column\n",
    "print(species1[species1.duplicated(subset = ['scientific'])].sort_values(by='scientific'))\n",
    "species1[species1.duplicated(subset=['scientific'])].nunique()\n"
   ]
  },
  {
   "cell_type": "markdown",
   "metadata": {},
   "source": [
    "#### Some findings\n",
    "Unexpectadly, among rows with duplicated values in the scientific name column, there are 274 unique values for 283 rows. So, 9 values are not unique."
   ]
  },
  {
   "cell_type": "code",
   "execution_count": 11,
   "metadata": {},
   "outputs": [
    {
     "name": "stdout",
     "output_type": "stream",
     "text": [
      "5553    Agrostis capillaris\n",
      "2132    Agrostis capillaris\n",
      "2134      Agrostis gigantea\n",
      "5554      Agrostis gigantea\n",
      "4178     Agrostis mertensii\n",
      "               ...         \n",
      "5643          Vulpia myuros\n",
      "2331       Vulpia octoflora\n",
      "4290       Vulpia octoflora\n",
      "3347           Zizia aptera\n",
      "632            Zizia aptera\n",
      "Name: scientific, Length: 557, dtype: object\n"
     ]
    }
   ],
   "source": [
    "# Getting to know duplicated values in the scientific name column\n",
    "species_duplicated_sci = species1['scientific']\n",
    "print(species_duplicated_sci[species_duplicated_sci.duplicated(keep=False)].sort_values())\n"
   ]
  },
  {
   "cell_type": "code",
   "execution_count": 12,
   "metadata": {},
   "outputs": [
    {
     "data": {
      "text/html": [
       "<div>\n",
       "<style scoped>\n",
       "    .dataframe tbody tr th:only-of-type {\n",
       "        vertical-align: middle;\n",
       "    }\n",
       "\n",
       "    .dataframe tbody tr th {\n",
       "        vertical-align: top;\n",
       "    }\n",
       "\n",
       "    .dataframe thead th {\n",
       "        text-align: right;\n",
       "    }\n",
       "</style>\n",
       "<table border=\"1\" class=\"dataframe\">\n",
       "  <thead>\n",
       "    <tr style=\"text-align: right;\">\n",
       "      <th></th>\n",
       "      <th>category</th>\n",
       "      <th>scientific</th>\n",
       "      <th>nicknames</th>\n",
       "      <th>status</th>\n",
       "    </tr>\n",
       "  </thead>\n",
       "  <tbody>\n",
       "    <tr>\n",
       "      <th>3020</th>\n",
       "      <td>Mammal</td>\n",
       "      <td>Canis lupus</td>\n",
       "      <td>Gray Wolf, Wolf</td>\n",
       "      <td>In Recovery</td>\n",
       "    </tr>\n",
       "    <tr>\n",
       "      <th>4448</th>\n",
       "      <td>Mammal</td>\n",
       "      <td>Canis lupus</td>\n",
       "      <td>Gray Wolf, Wolf</td>\n",
       "      <td>Endangered</td>\n",
       "    </tr>\n",
       "    <tr>\n",
       "      <th>4475</th>\n",
       "      <td>Mammal</td>\n",
       "      <td>Castor canadensis</td>\n",
       "      <td>Beaver</td>\n",
       "      <td>NaN</td>\n",
       "    </tr>\n",
       "    <tr>\n",
       "      <th>3050</th>\n",
       "      <td>Mammal</td>\n",
       "      <td>Castor canadensis</td>\n",
       "      <td>American Beaver</td>\n",
       "      <td>NaN</td>\n",
       "    </tr>\n",
       "    <tr>\n",
       "      <th>4513</th>\n",
       "      <td>Bird</td>\n",
       "      <td>Columba livia</td>\n",
       "      <td>Rock Pigeon</td>\n",
       "      <td>NaN</td>\n",
       "    </tr>\n",
       "    <tr>\n",
       "      <th>3138</th>\n",
       "      <td>Bird</td>\n",
       "      <td>Columba livia</td>\n",
       "      <td>Common Pigeon, Rock Dove, Rock Pigeon</td>\n",
       "      <td>NaN</td>\n",
       "    </tr>\n",
       "    <tr>\n",
       "      <th>4236</th>\n",
       "      <td>Vascular Plant</td>\n",
       "      <td>Holcus lanatus</td>\n",
       "      <td>Common Velvetgrass, Yorkshire-Fog</td>\n",
       "      <td>NaN</td>\n",
       "    </tr>\n",
       "    <tr>\n",
       "      <th>5600</th>\n",
       "      <td>Vascular Plant</td>\n",
       "      <td>Holcus lanatus</td>\n",
       "      <td>Common Velvetgrass, Velvetgrass, Yorkshire Fog</td>\n",
       "      <td>NaN</td>\n",
       "    </tr>\n",
       "    <tr>\n",
       "      <th>3488</th>\n",
       "      <td>Vascular Plant</td>\n",
       "      <td>Hypochaeris radicata</td>\n",
       "      <td>Spotted Cats-Ear, Hairy Cats-Ear, Gosmore</td>\n",
       "      <td>NaN</td>\n",
       "    </tr>\n",
       "    <tr>\n",
       "      <th>4799</th>\n",
       "      <td>Vascular Plant</td>\n",
       "      <td>Hypochaeris radicata</td>\n",
       "      <td>Common Cat's-Ear, False Dandelion, Frogbit, Go...</td>\n",
       "      <td>NaN</td>\n",
       "    </tr>\n",
       "    <tr>\n",
       "      <th>3042</th>\n",
       "      <td>Mammal</td>\n",
       "      <td>Myotis lucifugus</td>\n",
       "      <td>Little Brown Bat, Little Brown Myotis, Little ...</td>\n",
       "      <td>Species of Concern</td>\n",
       "    </tr>\n",
       "    <tr>\n",
       "      <th>4467</th>\n",
       "      <td>Mammal</td>\n",
       "      <td>Myotis lucifugus</td>\n",
       "      <td>Little Brown Myotis</td>\n",
       "      <td>Species of Concern</td>\n",
       "    </tr>\n",
       "    <tr>\n",
       "      <th>4459</th>\n",
       "      <td>Mammal</td>\n",
       "      <td>Procyon lotor</td>\n",
       "      <td>Raccoon</td>\n",
       "      <td>NaN</td>\n",
       "    </tr>\n",
       "    <tr>\n",
       "      <th>3030</th>\n",
       "      <td>Mammal</td>\n",
       "      <td>Procyon lotor</td>\n",
       "      <td>Common Raccoon, Northern Raccoon, Raccoon</td>\n",
       "      <td>NaN</td>\n",
       "    </tr>\n",
       "    <tr>\n",
       "      <th>4451</th>\n",
       "      <td>Mammal</td>\n",
       "      <td>Puma concolor</td>\n",
       "      <td>Mountain Lion</td>\n",
       "      <td>NaN</td>\n",
       "    </tr>\n",
       "    <tr>\n",
       "      <th>3022</th>\n",
       "      <td>Mammal</td>\n",
       "      <td>Puma concolor</td>\n",
       "      <td>Cougar, Mountain Lion, Puma</td>\n",
       "      <td>NaN</td>\n",
       "    </tr>\n",
       "    <tr>\n",
       "      <th>4514</th>\n",
       "      <td>Bird</td>\n",
       "      <td>Streptopelia decaocto</td>\n",
       "      <td>Eurasian Collared Dove</td>\n",
       "      <td>NaN</td>\n",
       "    </tr>\n",
       "    <tr>\n",
       "      <th>3140</th>\n",
       "      <td>Bird</td>\n",
       "      <td>Streptopelia decaocto</td>\n",
       "      <td>Eurasian Collared Dove, Eurasian Collared-Dove</td>\n",
       "      <td>NaN</td>\n",
       "    </tr>\n",
       "  </tbody>\n",
       "</table>\n",
       "</div>"
      ],
      "text/plain": [
       "            category             scientific  \\\n",
       "3020          Mammal            Canis lupus   \n",
       "4448          Mammal            Canis lupus   \n",
       "4475          Mammal      Castor canadensis   \n",
       "3050          Mammal      Castor canadensis   \n",
       "4513            Bird          Columba livia   \n",
       "3138            Bird          Columba livia   \n",
       "4236  Vascular Plant         Holcus lanatus   \n",
       "5600  Vascular Plant         Holcus lanatus   \n",
       "3488  Vascular Plant   Hypochaeris radicata   \n",
       "4799  Vascular Plant   Hypochaeris radicata   \n",
       "3042          Mammal       Myotis lucifugus   \n",
       "4467          Mammal       Myotis lucifugus   \n",
       "4459          Mammal          Procyon lotor   \n",
       "3030          Mammal          Procyon lotor   \n",
       "4451          Mammal          Puma concolor   \n",
       "3022          Mammal          Puma concolor   \n",
       "4514            Bird  Streptopelia decaocto   \n",
       "3140            Bird  Streptopelia decaocto   \n",
       "\n",
       "                                              nicknames              status  \n",
       "3020                                    Gray Wolf, Wolf         In Recovery  \n",
       "4448                                    Gray Wolf, Wolf          Endangered  \n",
       "4475                                             Beaver                 NaN  \n",
       "3050                                    American Beaver                 NaN  \n",
       "4513                                        Rock Pigeon                 NaN  \n",
       "3138              Common Pigeon, Rock Dove, Rock Pigeon                 NaN  \n",
       "4236                  Common Velvetgrass, Yorkshire-Fog                 NaN  \n",
       "5600     Common Velvetgrass, Velvetgrass, Yorkshire Fog                 NaN  \n",
       "3488          Spotted Cats-Ear, Hairy Cats-Ear, Gosmore                 NaN  \n",
       "4799  Common Cat's-Ear, False Dandelion, Frogbit, Go...                 NaN  \n",
       "3042  Little Brown Bat, Little Brown Myotis, Little ...  Species of Concern  \n",
       "4467                                Little Brown Myotis  Species of Concern  \n",
       "4459                                            Raccoon                 NaN  \n",
       "3030          Common Raccoon, Northern Raccoon, Raccoon                 NaN  \n",
       "4451                                      Mountain Lion                 NaN  \n",
       "3022                        Cougar, Mountain Lion, Puma                 NaN  \n",
       "4514                             Eurasian Collared Dove                 NaN  \n",
       "3140     Eurasian Collared Dove, Eurasian Collared-Dove                 NaN  "
      ]
     },
     "execution_count": 12,
     "metadata": {},
     "output_type": "execute_result"
    }
   ],
   "source": [
    "# Getting to know rows which value for scientific name is duplicated\n",
    "species_duplicated = species1[species1.duplicated(subset=['scientific'])]\n",
    "species_duplicated[species_duplicated.duplicated(subset=['scientific'], keep=False)].sort_values(by='scientific')"
   ]
  },
  {
   "cell_type": "code",
   "execution_count": 13,
   "metadata": {},
   "outputs": [
    {
     "data": {
      "text/plain": [
       "array(['Canis lupus', 'Castor canadensis', 'Columba livia',\n",
       "       'Holcus lanatus', 'Hypochaeris radicata', 'Myotis lucifugus',\n",
       "       'Procyon lotor', 'Puma concolor', 'Streptopelia decaocto'],\n",
       "      dtype=object)"
      ]
     },
     "execution_count": 13,
     "metadata": {},
     "output_type": "execute_result"
    }
   ],
   "source": [
    "species_dup_list = species_duplicated[species_duplicated.duplicated(subset=['scientific'], keep=False)]\\\n",
    ".sort_values(by='scientific', ascending=True)\n",
    "species_dup_list.scientific.unique()"
   ]
  },
  {
   "cell_type": "markdown",
   "metadata": {},
   "source": [
    "#### Some findings\n",
    "It turns out that most of duplicated rows for the same species was due to the common names recorded. For these `scientific_name` duplicated values, there are two different records for the `common_names` that outnumber the other row. For example, there are two entries for the `scientific_name` value *'Puma concolor'*:\n",
    "- the first entry has 'Mountain Lion' for the `common_name` column;\n",
    "- the second entry has 'Cougar, Mountain Lion, Puma' for the `common_name` column.\n",
    "\n",
    "The duplicated species are *'Canis lupus', 'Castor canadensis', 'Columba livia','Holcus lanatus', 'Hypochaeris radicata', 'Myotis lucifugus','Procyon lotor', 'Puma concolor', 'Streptopelia decaocto'*.\n",
    "\n",
    "In the *Canis lupus* case, there are two different for `conservation_status` value ('In recovery' and 'Endangered').\n",
    "\n"
   ]
  },
  {
   "cell_type": "markdown",
   "metadata": {},
   "source": [
    "## 3.2 Inspecting the `observations` dataset\n",
    "\n",
    "In the `observations` dataset there are three columns: `scientific_name`, `park_name`, and `observations`.\n"
   ]
  },
  {
   "cell_type": "code",
   "execution_count": 14,
   "metadata": {},
   "outputs": [
    {
     "data": {
      "text/html": [
       "<div>\n",
       "<style scoped>\n",
       "    .dataframe tbody tr th:only-of-type {\n",
       "        vertical-align: middle;\n",
       "    }\n",
       "\n",
       "    .dataframe tbody tr th {\n",
       "        vertical-align: top;\n",
       "    }\n",
       "\n",
       "    .dataframe thead th {\n",
       "        text-align: right;\n",
       "    }\n",
       "</style>\n",
       "<table border=\"1\" class=\"dataframe\">\n",
       "  <thead>\n",
       "    <tr style=\"text-align: right;\">\n",
       "      <th></th>\n",
       "      <th>scientific_name</th>\n",
       "      <th>park_name</th>\n",
       "      <th>observations</th>\n",
       "    </tr>\n",
       "  </thead>\n",
       "  <tbody>\n",
       "    <tr>\n",
       "      <th>0</th>\n",
       "      <td>Vicia benghalensis</td>\n",
       "      <td>Great Smoky Mountains National Park</td>\n",
       "      <td>68</td>\n",
       "    </tr>\n",
       "    <tr>\n",
       "      <th>1</th>\n",
       "      <td>Neovison vison</td>\n",
       "      <td>Great Smoky Mountains National Park</td>\n",
       "      <td>77</td>\n",
       "    </tr>\n",
       "    <tr>\n",
       "      <th>2</th>\n",
       "      <td>Prunus subcordata</td>\n",
       "      <td>Yosemite National Park</td>\n",
       "      <td>138</td>\n",
       "    </tr>\n",
       "    <tr>\n",
       "      <th>3</th>\n",
       "      <td>Abutilon theophrasti</td>\n",
       "      <td>Bryce National Park</td>\n",
       "      <td>84</td>\n",
       "    </tr>\n",
       "    <tr>\n",
       "      <th>4</th>\n",
       "      <td>Githopsis specularioides</td>\n",
       "      <td>Great Smoky Mountains National Park</td>\n",
       "      <td>85</td>\n",
       "    </tr>\n",
       "    <tr>\n",
       "      <th>5</th>\n",
       "      <td>Elymus virginicus var. virginicus</td>\n",
       "      <td>Yosemite National Park</td>\n",
       "      <td>112</td>\n",
       "    </tr>\n",
       "    <tr>\n",
       "      <th>6</th>\n",
       "      <td>Spizella pusilla</td>\n",
       "      <td>Yellowstone National Park</td>\n",
       "      <td>228</td>\n",
       "    </tr>\n",
       "    <tr>\n",
       "      <th>7</th>\n",
       "      <td>Elymus multisetus</td>\n",
       "      <td>Great Smoky Mountains National Park</td>\n",
       "      <td>39</td>\n",
       "    </tr>\n",
       "    <tr>\n",
       "      <th>8</th>\n",
       "      <td>Lysimachia quadrifolia</td>\n",
       "      <td>Yosemite National Park</td>\n",
       "      <td>168</td>\n",
       "    </tr>\n",
       "    <tr>\n",
       "      <th>9</th>\n",
       "      <td>Diphyscium cumberlandianum</td>\n",
       "      <td>Yellowstone National Park</td>\n",
       "      <td>250</td>\n",
       "    </tr>\n",
       "  </tbody>\n",
       "</table>\n",
       "</div>"
      ],
      "text/plain": [
       "                     scientific_name                            park_name  \\\n",
       "0                 Vicia benghalensis  Great Smoky Mountains National Park   \n",
       "1                     Neovison vison  Great Smoky Mountains National Park   \n",
       "2                  Prunus subcordata               Yosemite National Park   \n",
       "3               Abutilon theophrasti                  Bryce National Park   \n",
       "4           Githopsis specularioides  Great Smoky Mountains National Park   \n",
       "5  Elymus virginicus var. virginicus               Yosemite National Park   \n",
       "6                   Spizella pusilla            Yellowstone National Park   \n",
       "7                  Elymus multisetus  Great Smoky Mountains National Park   \n",
       "8             Lysimachia quadrifolia               Yosemite National Park   \n",
       "9         Diphyscium cumberlandianum            Yellowstone National Park   \n",
       "\n",
       "   observations  \n",
       "0            68  \n",
       "1            77  \n",
       "2           138  \n",
       "3            84  \n",
       "4            85  \n",
       "5           112  \n",
       "6           228  \n",
       "7            39  \n",
       "8           168  \n",
       "9           250  "
      ]
     },
     "execution_count": 14,
     "metadata": {},
     "output_type": "execute_result"
    }
   ],
   "source": [
    "observations.head(10)"
   ]
  },
  {
   "cell_type": "code",
   "execution_count": 15,
   "metadata": {},
   "outputs": [
    {
     "name": "stdout",
     "output_type": "stream",
     "text": [
      "<class 'pandas.core.frame.DataFrame'>\n",
      "RangeIndex: 23296 entries, 0 to 23295\n",
      "Data columns (total 3 columns):\n",
      " #   Column        Non-Null Count  Dtype \n",
      "---  ------        --------------  ----- \n",
      " 0   scientific    23296 non-null  object\n",
      " 1   park          23296 non-null  object\n",
      " 2   observations  23296 non-null  int64 \n",
      "dtypes: int64(1), object(2)\n",
      "memory usage: 546.1+ KB\n",
      "None\n"
     ]
    }
   ],
   "source": [
    "observations1 = observations.rename(columns={'scientific_name': 'scientific', 'park_name': 'park'})\n",
    "print(observations1.info())"
   ]
  },
  {
   "cell_type": "code",
   "execution_count": 16,
   "metadata": {},
   "outputs": [
    {
     "name": "stdout",
     "output_type": "stream",
     "text": [
      "              scientific                                 park  observations\n",
      "count              23296                                23296  23296.000000\n",
      "unique              5541                                    4           NaN\n",
      "top     Myotis lucifugus  Great Smoky Mountains National Park           NaN\n",
      "freq                  12                                 5824           NaN\n",
      "mean                 NaN                                  NaN    142.287904\n",
      "std                  NaN                                  NaN     69.890532\n",
      "min                  NaN                                  NaN      9.000000\n",
      "25%                  NaN                                  NaN     86.000000\n",
      "50%                  NaN                                  NaN    124.000000\n",
      "75%                  NaN                                  NaN    195.000000\n",
      "max                  NaN                                  NaN    321.000000\n"
     ]
    }
   ],
   "source": [
    "print(observations1.describe(include='all'))"
   ]
  },
  {
   "cell_type": "code",
   "execution_count": 17,
   "metadata": {},
   "outputs": [
    {
     "name": "stdout",
     "output_type": "stream",
     "text": [
      "True     17755\n",
      "False     5541\n",
      "Name: scientific, dtype: int64\n"
     ]
    }
   ],
   "source": [
    "print(observations1.scientific.duplicated().value_counts())"
   ]
  },
  {
   "cell_type": "code",
   "execution_count": 18,
   "metadata": {},
   "outputs": [
    {
     "name": "stdout",
     "output_type": "stream",
     "text": [
      "Myotis lucifugus                        12\n",
      "Puma concolor                           12\n",
      "Hypochaeris radicata                    12\n",
      "Holcus lanatus                          12\n",
      "Streptopelia decaocto                   12\n",
      "                                        ..\n",
      "Packera dimorphophylla var. paysonii     4\n",
      "Smilax bona-nox                          4\n",
      "Chondestes grammacus                     4\n",
      "Leymus triticoides                       4\n",
      "Dichanthelium depauperatum               4\n",
      "Name: scientific, Length: 5541, dtype: int64\n"
     ]
    }
   ],
   "source": [
    "print(observations1.scientific.value_counts())"
   ]
  },
  {
   "cell_type": "code",
   "execution_count": 19,
   "metadata": {},
   "outputs": [
    {
     "name": "stdout",
     "output_type": "stream",
     "text": [
      "Great Smoky Mountains National Park    5824\n",
      "Yosemite National Park                 5824\n",
      "Bryce National Park                    5824\n",
      "Yellowstone National Park              5824\n",
      "Name: park, dtype: int64\n"
     ]
    }
   ],
   "source": [
    "print(observations1.park.value_counts())"
   ]
  },
  {
   "cell_type": "markdown",
   "metadata": {},
   "source": [
    "#### Some findings\n",
    "\n",
    "There are 5541 different species spotted and 5824 entries for each park (Great Smoky Mountains National Park,\n",
    "Yosemite National Park, Bryce National Park, and Yellowstone National Park)."
   ]
  },
  {
   "cell_type": "markdown",
   "metadata": {},
   "source": [
    "### 3.2.1 Checking for duplicated scientific name values per park\n",
    "\n",
    "First, data will be split per park."
   ]
  },
  {
   "cell_type": "code",
   "execution_count": 20,
   "metadata": {},
   "outputs": [
    {
     "data": {
      "text/html": [
       "<div>\n",
       "<style scoped>\n",
       "    .dataframe tbody tr th:only-of-type {\n",
       "        vertical-align: middle;\n",
       "    }\n",
       "\n",
       "    .dataframe tbody tr th {\n",
       "        vertical-align: top;\n",
       "    }\n",
       "\n",
       "    .dataframe thead th {\n",
       "        text-align: right;\n",
       "    }\n",
       "</style>\n",
       "<table border=\"1\" class=\"dataframe\">\n",
       "  <thead>\n",
       "    <tr style=\"text-align: right;\">\n",
       "      <th></th>\n",
       "      <th>scientific</th>\n",
       "      <th>park</th>\n",
       "      <th>observations</th>\n",
       "    </tr>\n",
       "  </thead>\n",
       "  <tbody>\n",
       "    <tr>\n",
       "      <th>8840</th>\n",
       "      <td>Sonchus asper ssp. asper</td>\n",
       "      <td>Great Smoky Mountains National Park</td>\n",
       "      <td>147</td>\n",
       "    </tr>\n",
       "    <tr>\n",
       "      <th>11487</th>\n",
       "      <td>Lespedeza violacea</td>\n",
       "      <td>Great Smoky Mountains National Park</td>\n",
       "      <td>146</td>\n",
       "    </tr>\n",
       "    <tr>\n",
       "      <th>20231</th>\n",
       "      <td>Botrychium dissectum</td>\n",
       "      <td>Great Smoky Mountains National Park</td>\n",
       "      <td>144</td>\n",
       "    </tr>\n",
       "    <tr>\n",
       "      <th>11847</th>\n",
       "      <td>Festuca subulata</td>\n",
       "      <td>Great Smoky Mountains National Park</td>\n",
       "      <td>141</td>\n",
       "    </tr>\n",
       "    <tr>\n",
       "      <th>17366</th>\n",
       "      <td>Branta hutchinsii</td>\n",
       "      <td>Great Smoky Mountains National Park</td>\n",
       "      <td>139</td>\n",
       "    </tr>\n",
       "  </tbody>\n",
       "</table>\n",
       "</div>"
      ],
      "text/plain": [
       "                     scientific                                 park  \\\n",
       "8840   Sonchus asper ssp. asper  Great Smoky Mountains National Park   \n",
       "11487        Lespedeza violacea  Great Smoky Mountains National Park   \n",
       "20231      Botrychium dissectum  Great Smoky Mountains National Park   \n",
       "11847          Festuca subulata  Great Smoky Mountains National Park   \n",
       "17366         Branta hutchinsii  Great Smoky Mountains National Park   \n",
       "\n",
       "       observations  \n",
       "8840            147  \n",
       "11487           146  \n",
       "20231           144  \n",
       "11847           141  \n",
       "17366           139  "
      ]
     },
     "execution_count": 20,
     "metadata": {},
     "output_type": "execute_result"
    }
   ],
   "source": [
    "smoky = observations1[observations1['park'] == 'Great Smoky Mountains National Park']\n",
    "smoky.sort_values(by='observations', ascending=False).head()"
   ]
  },
  {
   "cell_type": "code",
   "execution_count": 21,
   "metadata": {},
   "outputs": [
    {
     "name": "stdout",
     "output_type": "stream",
     "text": [
      "False    5541\n",
      "True      283\n",
      "Name: scientific, dtype: int64\n"
     ]
    },
    {
     "data": {
      "text/html": [
       "<div>\n",
       "<style scoped>\n",
       "    .dataframe tbody tr th:only-of-type {\n",
       "        vertical-align: middle;\n",
       "    }\n",
       "\n",
       "    .dataframe tbody tr th {\n",
       "        vertical-align: top;\n",
       "    }\n",
       "\n",
       "    .dataframe thead th {\n",
       "        text-align: right;\n",
       "    }\n",
       "</style>\n",
       "<table border=\"1\" class=\"dataframe\">\n",
       "  <thead>\n",
       "    <tr style=\"text-align: right;\">\n",
       "      <th></th>\n",
       "      <th>scientific</th>\n",
       "      <th>park</th>\n",
       "      <th>observations</th>\n",
       "    </tr>\n",
       "  </thead>\n",
       "  <tbody>\n",
       "    <tr>\n",
       "      <th>17756</th>\n",
       "      <td>Canis lupus</td>\n",
       "      <td>Great Smoky Mountains National Park</td>\n",
       "      <td>14</td>\n",
       "    </tr>\n",
       "    <tr>\n",
       "      <th>20353</th>\n",
       "      <td>Canis lupus</td>\n",
       "      <td>Great Smoky Mountains National Park</td>\n",
       "      <td>30</td>\n",
       "    </tr>\n",
       "    <tr>\n",
       "      <th>3792</th>\n",
       "      <td>Castor canadensis</td>\n",
       "      <td>Great Smoky Mountains National Park</td>\n",
       "      <td>62</td>\n",
       "    </tr>\n",
       "    <tr>\n",
       "      <th>19563</th>\n",
       "      <td>Castor canadensis</td>\n",
       "      <td>Great Smoky Mountains National Park</td>\n",
       "      <td>86</td>\n",
       "    </tr>\n",
       "    <tr>\n",
       "      <th>13448</th>\n",
       "      <td>Columba livia</td>\n",
       "      <td>Great Smoky Mountains National Park</td>\n",
       "      <td>91</td>\n",
       "    </tr>\n",
       "    <tr>\n",
       "      <th>12700</th>\n",
       "      <td>Columba livia</td>\n",
       "      <td>Great Smoky Mountains National Park</td>\n",
       "      <td>34</td>\n",
       "    </tr>\n",
       "    <tr>\n",
       "      <th>19577</th>\n",
       "      <td>Holcus lanatus</td>\n",
       "      <td>Great Smoky Mountains National Park</td>\n",
       "      <td>74</td>\n",
       "    </tr>\n",
       "    <tr>\n",
       "      <th>19218</th>\n",
       "      <td>Holcus lanatus</td>\n",
       "      <td>Great Smoky Mountains National Park</td>\n",
       "      <td>77</td>\n",
       "    </tr>\n",
       "    <tr>\n",
       "      <th>1519</th>\n",
       "      <td>Hypochaeris radicata</td>\n",
       "      <td>Great Smoky Mountains National Park</td>\n",
       "      <td>73</td>\n",
       "    </tr>\n",
       "    <tr>\n",
       "      <th>22139</th>\n",
       "      <td>Hypochaeris radicata</td>\n",
       "      <td>Great Smoky Mountains National Park</td>\n",
       "      <td>65</td>\n",
       "    </tr>\n",
       "    <tr>\n",
       "      <th>8308</th>\n",
       "      <td>Myotis lucifugus</td>\n",
       "      <td>Great Smoky Mountains National Park</td>\n",
       "      <td>59</td>\n",
       "    </tr>\n",
       "    <tr>\n",
       "      <th>11395</th>\n",
       "      <td>Myotis lucifugus</td>\n",
       "      <td>Great Smoky Mountains National Park</td>\n",
       "      <td>58</td>\n",
       "    </tr>\n",
       "    <tr>\n",
       "      <th>13829</th>\n",
       "      <td>Procyon lotor</td>\n",
       "      <td>Great Smoky Mountains National Park</td>\n",
       "      <td>63</td>\n",
       "    </tr>\n",
       "    <tr>\n",
       "      <th>7677</th>\n",
       "      <td>Procyon lotor</td>\n",
       "      <td>Great Smoky Mountains National Park</td>\n",
       "      <td>84</td>\n",
       "    </tr>\n",
       "    <tr>\n",
       "      <th>16551</th>\n",
       "      <td>Puma concolor</td>\n",
       "      <td>Great Smoky Mountains National Park</td>\n",
       "      <td>112</td>\n",
       "    </tr>\n",
       "    <tr>\n",
       "      <th>6660</th>\n",
       "      <td>Puma concolor</td>\n",
       "      <td>Great Smoky Mountains National Park</td>\n",
       "      <td>48</td>\n",
       "    </tr>\n",
       "    <tr>\n",
       "      <th>14699</th>\n",
       "      <td>Streptopelia decaocto</td>\n",
       "      <td>Great Smoky Mountains National Park</td>\n",
       "      <td>110</td>\n",
       "    </tr>\n",
       "    <tr>\n",
       "      <th>10107</th>\n",
       "      <td>Streptopelia decaocto</td>\n",
       "      <td>Great Smoky Mountains National Park</td>\n",
       "      <td>72</td>\n",
       "    </tr>\n",
       "  </tbody>\n",
       "</table>\n",
       "</div>"
      ],
      "text/plain": [
       "                  scientific                                 park  \\\n",
       "17756            Canis lupus  Great Smoky Mountains National Park   \n",
       "20353            Canis lupus  Great Smoky Mountains National Park   \n",
       "3792       Castor canadensis  Great Smoky Mountains National Park   \n",
       "19563      Castor canadensis  Great Smoky Mountains National Park   \n",
       "13448          Columba livia  Great Smoky Mountains National Park   \n",
       "12700          Columba livia  Great Smoky Mountains National Park   \n",
       "19577         Holcus lanatus  Great Smoky Mountains National Park   \n",
       "19218         Holcus lanatus  Great Smoky Mountains National Park   \n",
       "1519    Hypochaeris radicata  Great Smoky Mountains National Park   \n",
       "22139   Hypochaeris radicata  Great Smoky Mountains National Park   \n",
       "8308        Myotis lucifugus  Great Smoky Mountains National Park   \n",
       "11395       Myotis lucifugus  Great Smoky Mountains National Park   \n",
       "13829          Procyon lotor  Great Smoky Mountains National Park   \n",
       "7677           Procyon lotor  Great Smoky Mountains National Park   \n",
       "16551          Puma concolor  Great Smoky Mountains National Park   \n",
       "6660           Puma concolor  Great Smoky Mountains National Park   \n",
       "14699  Streptopelia decaocto  Great Smoky Mountains National Park   \n",
       "10107  Streptopelia decaocto  Great Smoky Mountains National Park   \n",
       "\n",
       "       observations  \n",
       "17756            14  \n",
       "20353            30  \n",
       "3792             62  \n",
       "19563            86  \n",
       "13448            91  \n",
       "12700            34  \n",
       "19577            74  \n",
       "19218            77  \n",
       "1519             73  \n",
       "22139            65  \n",
       "8308             59  \n",
       "11395            58  \n",
       "13829            63  \n",
       "7677             84  \n",
       "16551           112  \n",
       "6660             48  \n",
       "14699           110  \n",
       "10107            72  "
      ]
     },
     "execution_count": 21,
     "metadata": {},
     "output_type": "execute_result"
    }
   ],
   "source": [
    "print(smoky.scientific.duplicated().value_counts())\n",
    "smoky_duplicated = smoky[smoky.duplicated(subset=['scientific'])]\n",
    "smoky_duplicated[smoky_duplicated.duplicated(subset=['scientific'], keep=False)].sort_values(by='scientific')"
   ]
  },
  {
   "cell_type": "code",
   "execution_count": 22,
   "metadata": {},
   "outputs": [
    {
     "data": {
      "text/html": [
       "<div>\n",
       "<style scoped>\n",
       "    .dataframe tbody tr th:only-of-type {\n",
       "        vertical-align: middle;\n",
       "    }\n",
       "\n",
       "    .dataframe tbody tr th {\n",
       "        vertical-align: top;\n",
       "    }\n",
       "\n",
       "    .dataframe thead th {\n",
       "        text-align: right;\n",
       "    }\n",
       "</style>\n",
       "<table border=\"1\" class=\"dataframe\">\n",
       "  <thead>\n",
       "    <tr style=\"text-align: right;\">\n",
       "      <th></th>\n",
       "      <th>scientific</th>\n",
       "      <th>park</th>\n",
       "      <th>observations</th>\n",
       "    </tr>\n",
       "  </thead>\n",
       "  <tbody>\n",
       "    <tr>\n",
       "      <th>6682</th>\n",
       "      <td>Ivesia shockleyi var. shockleyi</td>\n",
       "      <td>Yosemite National Park</td>\n",
       "      <td>223</td>\n",
       "    </tr>\n",
       "    <tr>\n",
       "      <th>12527</th>\n",
       "      <td>Lipocarpha micrantha</td>\n",
       "      <td>Yosemite National Park</td>\n",
       "      <td>222</td>\n",
       "    </tr>\n",
       "    <tr>\n",
       "      <th>22161</th>\n",
       "      <td>Artemisia arbuscula ssp. arbuscula</td>\n",
       "      <td>Yosemite National Park</td>\n",
       "      <td>219</td>\n",
       "    </tr>\n",
       "    <tr>\n",
       "      <th>1607</th>\n",
       "      <td>Trillium rugelii</td>\n",
       "      <td>Yosemite National Park</td>\n",
       "      <td>219</td>\n",
       "    </tr>\n",
       "    <tr>\n",
       "      <th>16763</th>\n",
       "      <td>Castilleja pallescens</td>\n",
       "      <td>Yosemite National Park</td>\n",
       "      <td>214</td>\n",
       "    </tr>\n",
       "  </tbody>\n",
       "</table>\n",
       "</div>"
      ],
      "text/plain": [
       "                               scientific                    park  \\\n",
       "6682      Ivesia shockleyi var. shockleyi  Yosemite National Park   \n",
       "12527                Lipocarpha micrantha  Yosemite National Park   \n",
       "22161  Artemisia arbuscula ssp. arbuscula  Yosemite National Park   \n",
       "1607                     Trillium rugelii  Yosemite National Park   \n",
       "16763               Castilleja pallescens  Yosemite National Park   \n",
       "\n",
       "       observations  \n",
       "6682            223  \n",
       "12527           222  \n",
       "22161           219  \n",
       "1607            219  \n",
       "16763           214  "
      ]
     },
     "execution_count": 22,
     "metadata": {},
     "output_type": "execute_result"
    }
   ],
   "source": [
    "yosemite = observations1[observations1['park'] == 'Yosemite National Park']\n",
    "yosemite.sort_values(by='observations', ascending=False).head()"
   ]
  },
  {
   "cell_type": "code",
   "execution_count": 23,
   "metadata": {},
   "outputs": [
    {
     "name": "stdout",
     "output_type": "stream",
     "text": [
      "False    5541\n",
      "True      283\n",
      "Name: scientific, dtype: int64\n"
     ]
    },
    {
     "data": {
      "text/html": [
       "<div>\n",
       "<style scoped>\n",
       "    .dataframe tbody tr th:only-of-type {\n",
       "        vertical-align: middle;\n",
       "    }\n",
       "\n",
       "    .dataframe tbody tr th {\n",
       "        vertical-align: top;\n",
       "    }\n",
       "\n",
       "    .dataframe thead th {\n",
       "        text-align: right;\n",
       "    }\n",
       "</style>\n",
       "<table border=\"1\" class=\"dataframe\">\n",
       "  <thead>\n",
       "    <tr style=\"text-align: right;\">\n",
       "      <th></th>\n",
       "      <th>scientific</th>\n",
       "      <th>park</th>\n",
       "      <th>observations</th>\n",
       "    </tr>\n",
       "  </thead>\n",
       "  <tbody>\n",
       "    <tr>\n",
       "      <th>19987</th>\n",
       "      <td>Canis lupus</td>\n",
       "      <td>Yosemite National Park</td>\n",
       "      <td>44</td>\n",
       "    </tr>\n",
       "    <tr>\n",
       "      <th>19330</th>\n",
       "      <td>Canis lupus</td>\n",
       "      <td>Yosemite National Park</td>\n",
       "      <td>117</td>\n",
       "    </tr>\n",
       "    <tr>\n",
       "      <th>14391</th>\n",
       "      <td>Castor canadensis</td>\n",
       "      <td>Yosemite National Park</td>\n",
       "      <td>191</td>\n",
       "    </tr>\n",
       "    <tr>\n",
       "      <th>19997</th>\n",
       "      <td>Castor canadensis</td>\n",
       "      <td>Yosemite National Park</td>\n",
       "      <td>161</td>\n",
       "    </tr>\n",
       "    <tr>\n",
       "      <th>10468</th>\n",
       "      <td>Columba livia</td>\n",
       "      <td>Yosemite National Park</td>\n",
       "      <td>144</td>\n",
       "    </tr>\n",
       "    <tr>\n",
       "      <th>17928</th>\n",
       "      <td>Columba livia</td>\n",
       "      <td>Yosemite National Park</td>\n",
       "      <td>137</td>\n",
       "    </tr>\n",
       "    <tr>\n",
       "      <th>6277</th>\n",
       "      <td>Holcus lanatus</td>\n",
       "      <td>Yosemite National Park</td>\n",
       "      <td>179</td>\n",
       "    </tr>\n",
       "    <tr>\n",
       "      <th>8335</th>\n",
       "      <td>Holcus lanatus</td>\n",
       "      <td>Yosemite National Park</td>\n",
       "      <td>138</td>\n",
       "    </tr>\n",
       "    <tr>\n",
       "      <th>1539</th>\n",
       "      <td>Hypochaeris radicata</td>\n",
       "      <td>Yosemite National Park</td>\n",
       "      <td>172</td>\n",
       "    </tr>\n",
       "    <tr>\n",
       "      <th>9681</th>\n",
       "      <td>Hypochaeris radicata</td>\n",
       "      <td>Yosemite National Park</td>\n",
       "      <td>176</td>\n",
       "    </tr>\n",
       "    <tr>\n",
       "      <th>16038</th>\n",
       "      <td>Myotis lucifugus</td>\n",
       "      <td>Yosemite National Park</td>\n",
       "      <td>138</td>\n",
       "    </tr>\n",
       "    <tr>\n",
       "      <th>13611</th>\n",
       "      <td>Myotis lucifugus</td>\n",
       "      <td>Yosemite National Park</td>\n",
       "      <td>134</td>\n",
       "    </tr>\n",
       "    <tr>\n",
       "      <th>13497</th>\n",
       "      <td>Procyon lotor</td>\n",
       "      <td>Yosemite National Park</td>\n",
       "      <td>154</td>\n",
       "    </tr>\n",
       "    <tr>\n",
       "      <th>20809</th>\n",
       "      <td>Procyon lotor</td>\n",
       "      <td>Yosemite National Park</td>\n",
       "      <td>133</td>\n",
       "    </tr>\n",
       "    <tr>\n",
       "      <th>17631</th>\n",
       "      <td>Puma concolor</td>\n",
       "      <td>Yosemite National Park</td>\n",
       "      <td>122</td>\n",
       "    </tr>\n",
       "    <tr>\n",
       "      <th>9298</th>\n",
       "      <td>Puma concolor</td>\n",
       "      <td>Yosemite National Park</td>\n",
       "      <td>165</td>\n",
       "    </tr>\n",
       "    <tr>\n",
       "      <th>14942</th>\n",
       "      <td>Streptopelia decaocto</td>\n",
       "      <td>Yosemite National Park</td>\n",
       "      <td>183</td>\n",
       "    </tr>\n",
       "    <tr>\n",
       "      <th>18854</th>\n",
       "      <td>Streptopelia decaocto</td>\n",
       "      <td>Yosemite National Park</td>\n",
       "      <td>150</td>\n",
       "    </tr>\n",
       "  </tbody>\n",
       "</table>\n",
       "</div>"
      ],
      "text/plain": [
       "                  scientific                    park  observations\n",
       "19987            Canis lupus  Yosemite National Park            44\n",
       "19330            Canis lupus  Yosemite National Park           117\n",
       "14391      Castor canadensis  Yosemite National Park           191\n",
       "19997      Castor canadensis  Yosemite National Park           161\n",
       "10468          Columba livia  Yosemite National Park           144\n",
       "17928          Columba livia  Yosemite National Park           137\n",
       "6277          Holcus lanatus  Yosemite National Park           179\n",
       "8335          Holcus lanatus  Yosemite National Park           138\n",
       "1539    Hypochaeris radicata  Yosemite National Park           172\n",
       "9681    Hypochaeris radicata  Yosemite National Park           176\n",
       "16038       Myotis lucifugus  Yosemite National Park           138\n",
       "13611       Myotis lucifugus  Yosemite National Park           134\n",
       "13497          Procyon lotor  Yosemite National Park           154\n",
       "20809          Procyon lotor  Yosemite National Park           133\n",
       "17631          Puma concolor  Yosemite National Park           122\n",
       "9298           Puma concolor  Yosemite National Park           165\n",
       "14942  Streptopelia decaocto  Yosemite National Park           183\n",
       "18854  Streptopelia decaocto  Yosemite National Park           150"
      ]
     },
     "execution_count": 23,
     "metadata": {},
     "output_type": "execute_result"
    }
   ],
   "source": [
    "print(yosemite.scientific.duplicated().value_counts())\n",
    "yosemite_duplicated = yosemite[yosemite.duplicated(subset=['scientific'])]\n",
    "yosemite_duplicated[yosemite_duplicated.duplicated(subset=['scientific'], keep=False)].sort_values(by='scientific')"
   ]
  },
  {
   "cell_type": "code",
   "execution_count": 24,
   "metadata": {},
   "outputs": [
    {
     "data": {
      "text/html": [
       "<div>\n",
       "<style scoped>\n",
       "    .dataframe tbody tr th:only-of-type {\n",
       "        vertical-align: middle;\n",
       "    }\n",
       "\n",
       "    .dataframe tbody tr th {\n",
       "        vertical-align: top;\n",
       "    }\n",
       "\n",
       "    .dataframe thead th {\n",
       "        text-align: right;\n",
       "    }\n",
       "</style>\n",
       "<table border=\"1\" class=\"dataframe\">\n",
       "  <thead>\n",
       "    <tr style=\"text-align: right;\">\n",
       "      <th></th>\n",
       "      <th>scientific</th>\n",
       "      <th>park</th>\n",
       "      <th>observations</th>\n",
       "    </tr>\n",
       "  </thead>\n",
       "  <tbody>\n",
       "    <tr>\n",
       "      <th>13138</th>\n",
       "      <td>Valerianella radiata</td>\n",
       "      <td>Bryce National Park</td>\n",
       "      <td>176</td>\n",
       "    </tr>\n",
       "    <tr>\n",
       "      <th>19536</th>\n",
       "      <td>Melilotus indica</td>\n",
       "      <td>Bryce National Park</td>\n",
       "      <td>173</td>\n",
       "    </tr>\n",
       "    <tr>\n",
       "      <th>18228</th>\n",
       "      <td>Ericameria bloomeri</td>\n",
       "      <td>Bryce National Park</td>\n",
       "      <td>172</td>\n",
       "    </tr>\n",
       "    <tr>\n",
       "      <th>11089</th>\n",
       "      <td>Martes americana</td>\n",
       "      <td>Bryce National Park</td>\n",
       "      <td>167</td>\n",
       "    </tr>\n",
       "    <tr>\n",
       "      <th>4075</th>\n",
       "      <td>Draba oligosperma</td>\n",
       "      <td>Bryce National Park</td>\n",
       "      <td>167</td>\n",
       "    </tr>\n",
       "  </tbody>\n",
       "</table>\n",
       "</div>"
      ],
      "text/plain": [
       "                 scientific                 park  observations\n",
       "13138  Valerianella radiata  Bryce National Park           176\n",
       "19536      Melilotus indica  Bryce National Park           173\n",
       "18228   Ericameria bloomeri  Bryce National Park           172\n",
       "11089      Martes americana  Bryce National Park           167\n",
       "4075      Draba oligosperma  Bryce National Park           167"
      ]
     },
     "execution_count": 24,
     "metadata": {},
     "output_type": "execute_result"
    }
   ],
   "source": [
    "bryce = observations1[observations1['park'] == 'Bryce National Park']\n",
    "bryce.sort_values(by='observations', ascending=False).head()\n"
   ]
  },
  {
   "cell_type": "code",
   "execution_count": 25,
   "metadata": {},
   "outputs": [
    {
     "name": "stdout",
     "output_type": "stream",
     "text": [
      "False    5541\n",
      "True      283\n",
      "Name: scientific, dtype: int64\n"
     ]
    },
    {
     "data": {
      "text/html": [
       "<div>\n",
       "<style scoped>\n",
       "    .dataframe tbody tr th:only-of-type {\n",
       "        vertical-align: middle;\n",
       "    }\n",
       "\n",
       "    .dataframe tbody tr th {\n",
       "        vertical-align: top;\n",
       "    }\n",
       "\n",
       "    .dataframe thead th {\n",
       "        text-align: right;\n",
       "    }\n",
       "</style>\n",
       "<table border=\"1\" class=\"dataframe\">\n",
       "  <thead>\n",
       "    <tr style=\"text-align: right;\">\n",
       "      <th></th>\n",
       "      <th>scientific</th>\n",
       "      <th>park</th>\n",
       "      <th>observations</th>\n",
       "    </tr>\n",
       "  </thead>\n",
       "  <tbody>\n",
       "    <tr>\n",
       "      <th>9884</th>\n",
       "      <td>Canis lupus</td>\n",
       "      <td>Bryce National Park</td>\n",
       "      <td>74</td>\n",
       "    </tr>\n",
       "    <tr>\n",
       "      <th>7346</th>\n",
       "      <td>Canis lupus</td>\n",
       "      <td>Bryce National Park</td>\n",
       "      <td>29</td>\n",
       "    </tr>\n",
       "    <tr>\n",
       "      <th>16654</th>\n",
       "      <td>Castor canadensis</td>\n",
       "      <td>Bryce National Park</td>\n",
       "      <td>103</td>\n",
       "    </tr>\n",
       "    <tr>\n",
       "      <th>13825</th>\n",
       "      <td>Castor canadensis</td>\n",
       "      <td>Bryce National Park</td>\n",
       "      <td>105</td>\n",
       "    </tr>\n",
       "    <tr>\n",
       "      <th>3441</th>\n",
       "      <td>Columba livia</td>\n",
       "      <td>Bryce National Park</td>\n",
       "      <td>96</td>\n",
       "    </tr>\n",
       "    <tr>\n",
       "      <th>6968</th>\n",
       "      <td>Columba livia</td>\n",
       "      <td>Bryce National Park</td>\n",
       "      <td>108</td>\n",
       "    </tr>\n",
       "    <tr>\n",
       "      <th>8405</th>\n",
       "      <td>Holcus lanatus</td>\n",
       "      <td>Bryce National Park</td>\n",
       "      <td>117</td>\n",
       "    </tr>\n",
       "    <tr>\n",
       "      <th>8561</th>\n",
       "      <td>Holcus lanatus</td>\n",
       "      <td>Bryce National Park</td>\n",
       "      <td>96</td>\n",
       "    </tr>\n",
       "    <tr>\n",
       "      <th>16381</th>\n",
       "      <td>Hypochaeris radicata</td>\n",
       "      <td>Bryce National Park</td>\n",
       "      <td>86</td>\n",
       "    </tr>\n",
       "    <tr>\n",
       "      <th>17537</th>\n",
       "      <td>Hypochaeris radicata</td>\n",
       "      <td>Bryce National Park</td>\n",
       "      <td>103</td>\n",
       "    </tr>\n",
       "    <tr>\n",
       "      <th>10759</th>\n",
       "      <td>Myotis lucifugus</td>\n",
       "      <td>Bryce National Park</td>\n",
       "      <td>108</td>\n",
       "    </tr>\n",
       "    <tr>\n",
       "      <th>15865</th>\n",
       "      <td>Myotis lucifugus</td>\n",
       "      <td>Bryce National Park</td>\n",
       "      <td>87</td>\n",
       "    </tr>\n",
       "    <tr>\n",
       "      <th>18181</th>\n",
       "      <td>Procyon lotor</td>\n",
       "      <td>Bryce National Park</td>\n",
       "      <td>77</td>\n",
       "    </tr>\n",
       "    <tr>\n",
       "      <th>6183</th>\n",
       "      <td>Procyon lotor</td>\n",
       "      <td>Bryce National Park</td>\n",
       "      <td>81</td>\n",
       "    </tr>\n",
       "    <tr>\n",
       "      <th>10388</th>\n",
       "      <td>Puma concolor</td>\n",
       "      <td>Bryce National Park</td>\n",
       "      <td>128</td>\n",
       "    </tr>\n",
       "    <tr>\n",
       "      <th>18321</th>\n",
       "      <td>Puma concolor</td>\n",
       "      <td>Bryce National Park</td>\n",
       "      <td>91</td>\n",
       "    </tr>\n",
       "    <tr>\n",
       "      <th>8072</th>\n",
       "      <td>Streptopelia decaocto</td>\n",
       "      <td>Bryce National Park</td>\n",
       "      <td>121</td>\n",
       "    </tr>\n",
       "    <tr>\n",
       "      <th>4515</th>\n",
       "      <td>Streptopelia decaocto</td>\n",
       "      <td>Bryce National Park</td>\n",
       "      <td>88</td>\n",
       "    </tr>\n",
       "  </tbody>\n",
       "</table>\n",
       "</div>"
      ],
      "text/plain": [
       "                  scientific                 park  observations\n",
       "9884             Canis lupus  Bryce National Park            74\n",
       "7346             Canis lupus  Bryce National Park            29\n",
       "16654      Castor canadensis  Bryce National Park           103\n",
       "13825      Castor canadensis  Bryce National Park           105\n",
       "3441           Columba livia  Bryce National Park            96\n",
       "6968           Columba livia  Bryce National Park           108\n",
       "8405          Holcus lanatus  Bryce National Park           117\n",
       "8561          Holcus lanatus  Bryce National Park            96\n",
       "16381   Hypochaeris radicata  Bryce National Park            86\n",
       "17537   Hypochaeris radicata  Bryce National Park           103\n",
       "10759       Myotis lucifugus  Bryce National Park           108\n",
       "15865       Myotis lucifugus  Bryce National Park            87\n",
       "18181          Procyon lotor  Bryce National Park            77\n",
       "6183           Procyon lotor  Bryce National Park            81\n",
       "10388          Puma concolor  Bryce National Park           128\n",
       "18321          Puma concolor  Bryce National Park            91\n",
       "8072   Streptopelia decaocto  Bryce National Park           121\n",
       "4515   Streptopelia decaocto  Bryce National Park            88"
      ]
     },
     "execution_count": 25,
     "metadata": {},
     "output_type": "execute_result"
    }
   ],
   "source": [
    "print(bryce.scientific.duplicated().value_counts())\n",
    "bryce_duplicated = bryce[bryce.duplicated(subset=['scientific'])]\n",
    "bryce_duplicated[bryce_duplicated.duplicated(subset=['scientific'], keep=False)].sort_values(by='scientific')"
   ]
  },
  {
   "cell_type": "code",
   "execution_count": 26,
   "metadata": {},
   "outputs": [
    {
     "data": {
      "text/html": [
       "<div>\n",
       "<style scoped>\n",
       "    .dataframe tbody tr th:only-of-type {\n",
       "        vertical-align: middle;\n",
       "    }\n",
       "\n",
       "    .dataframe tbody tr th {\n",
       "        vertical-align: top;\n",
       "    }\n",
       "\n",
       "    .dataframe thead th {\n",
       "        text-align: right;\n",
       "    }\n",
       "</style>\n",
       "<table border=\"1\" class=\"dataframe\">\n",
       "  <thead>\n",
       "    <tr style=\"text-align: right;\">\n",
       "      <th></th>\n",
       "      <th>scientific</th>\n",
       "      <th>park</th>\n",
       "      <th>observations</th>\n",
       "    </tr>\n",
       "  </thead>\n",
       "  <tbody>\n",
       "    <tr>\n",
       "      <th>11281</th>\n",
       "      <td>Lycopodium tristachyum</td>\n",
       "      <td>Yellowstone National Park</td>\n",
       "      <td>321</td>\n",
       "    </tr>\n",
       "    <tr>\n",
       "      <th>1168</th>\n",
       "      <td>Castilleja miniata</td>\n",
       "      <td>Yellowstone National Park</td>\n",
       "      <td>317</td>\n",
       "    </tr>\n",
       "    <tr>\n",
       "      <th>20734</th>\n",
       "      <td>Cryptantha fendleri</td>\n",
       "      <td>Yellowstone National Park</td>\n",
       "      <td>316</td>\n",
       "    </tr>\n",
       "    <tr>\n",
       "      <th>8749</th>\n",
       "      <td>Dracocephalum parviflorum</td>\n",
       "      <td>Yellowstone National Park</td>\n",
       "      <td>316</td>\n",
       "    </tr>\n",
       "    <tr>\n",
       "      <th>7112</th>\n",
       "      <td>Bidens tripartita</td>\n",
       "      <td>Yellowstone National Park</td>\n",
       "      <td>314</td>\n",
       "    </tr>\n",
       "  </tbody>\n",
       "</table>\n",
       "</div>"
      ],
      "text/plain": [
       "                      scientific                       park  observations\n",
       "11281     Lycopodium tristachyum  Yellowstone National Park           321\n",
       "1168          Castilleja miniata  Yellowstone National Park           317\n",
       "20734        Cryptantha fendleri  Yellowstone National Park           316\n",
       "8749   Dracocephalum parviflorum  Yellowstone National Park           316\n",
       "7112           Bidens tripartita  Yellowstone National Park           314"
      ]
     },
     "execution_count": 26,
     "metadata": {},
     "output_type": "execute_result"
    }
   ],
   "source": [
    "yellowstone = observations1[observations1['park'] == 'Yellowstone National Park']\n",
    "yellowstone.sort_values(by='observations', ascending=False).head()"
   ]
  },
  {
   "cell_type": "code",
   "execution_count": 27,
   "metadata": {},
   "outputs": [
    {
     "name": "stdout",
     "output_type": "stream",
     "text": [
      "False    5541\n",
      "True      283\n",
      "Name: scientific, dtype: int64\n"
     ]
    },
    {
     "data": {
      "text/html": [
       "<div>\n",
       "<style scoped>\n",
       "    .dataframe tbody tr th:only-of-type {\n",
       "        vertical-align: middle;\n",
       "    }\n",
       "\n",
       "    .dataframe tbody tr th {\n",
       "        vertical-align: top;\n",
       "    }\n",
       "\n",
       "    .dataframe thead th {\n",
       "        text-align: right;\n",
       "    }\n",
       "</style>\n",
       "<table border=\"1\" class=\"dataframe\">\n",
       "  <thead>\n",
       "    <tr style=\"text-align: right;\">\n",
       "      <th></th>\n",
       "      <th>scientific</th>\n",
       "      <th>park</th>\n",
       "      <th>observations</th>\n",
       "    </tr>\n",
       "  </thead>\n",
       "  <tbody>\n",
       "    <tr>\n",
       "      <th>13427</th>\n",
       "      <td>Canis lupus</td>\n",
       "      <td>Yellowstone National Park</td>\n",
       "      <td>203</td>\n",
       "    </tr>\n",
       "    <tr>\n",
       "      <th>10907</th>\n",
       "      <td>Canis lupus</td>\n",
       "      <td>Yellowstone National Park</td>\n",
       "      <td>67</td>\n",
       "    </tr>\n",
       "    <tr>\n",
       "      <th>9811</th>\n",
       "      <td>Castor canadensis</td>\n",
       "      <td>Yellowstone National Park</td>\n",
       "      <td>256</td>\n",
       "    </tr>\n",
       "    <tr>\n",
       "      <th>13025</th>\n",
       "      <td>Castor canadensis</td>\n",
       "      <td>Yellowstone National Park</td>\n",
       "      <td>264</td>\n",
       "    </tr>\n",
       "    <tr>\n",
       "      <th>11193</th>\n",
       "      <td>Columba livia</td>\n",
       "      <td>Yellowstone National Park</td>\n",
       "      <td>239</td>\n",
       "    </tr>\n",
       "    <tr>\n",
       "      <th>10688</th>\n",
       "      <td>Columba livia</td>\n",
       "      <td>Yellowstone National Park</td>\n",
       "      <td>232</td>\n",
       "    </tr>\n",
       "    <tr>\n",
       "      <th>15829</th>\n",
       "      <td>Holcus lanatus</td>\n",
       "      <td>Yellowstone National Park</td>\n",
       "      <td>256</td>\n",
       "    </tr>\n",
       "    <tr>\n",
       "      <th>20640</th>\n",
       "      <td>Holcus lanatus</td>\n",
       "      <td>Yellowstone National Park</td>\n",
       "      <td>287</td>\n",
       "    </tr>\n",
       "    <tr>\n",
       "      <th>13317</th>\n",
       "      <td>Hypochaeris radicata</td>\n",
       "      <td>Yellowstone National Park</td>\n",
       "      <td>262</td>\n",
       "    </tr>\n",
       "    <tr>\n",
       "      <th>22333</th>\n",
       "      <td>Hypochaeris radicata</td>\n",
       "      <td>Yellowstone National Park</td>\n",
       "      <td>220</td>\n",
       "    </tr>\n",
       "    <tr>\n",
       "      <th>16384</th>\n",
       "      <td>Myotis lucifugus</td>\n",
       "      <td>Yellowstone National Park</td>\n",
       "      <td>207</td>\n",
       "    </tr>\n",
       "    <tr>\n",
       "      <th>12562</th>\n",
       "      <td>Myotis lucifugus</td>\n",
       "      <td>Yellowstone National Park</td>\n",
       "      <td>233</td>\n",
       "    </tr>\n",
       "    <tr>\n",
       "      <th>7751</th>\n",
       "      <td>Procyon lotor</td>\n",
       "      <td>Yellowstone National Park</td>\n",
       "      <td>249</td>\n",
       "    </tr>\n",
       "    <tr>\n",
       "      <th>7370</th>\n",
       "      <td>Procyon lotor</td>\n",
       "      <td>Yellowstone National Park</td>\n",
       "      <td>256</td>\n",
       "    </tr>\n",
       "    <tr>\n",
       "      <th>9605</th>\n",
       "      <td>Puma concolor</td>\n",
       "      <td>Yellowstone National Park</td>\n",
       "      <td>240</td>\n",
       "    </tr>\n",
       "    <tr>\n",
       "      <th>15676</th>\n",
       "      <td>Puma concolor</td>\n",
       "      <td>Yellowstone National Park</td>\n",
       "      <td>270</td>\n",
       "    </tr>\n",
       "    <tr>\n",
       "      <th>10643</th>\n",
       "      <td>Streptopelia decaocto</td>\n",
       "      <td>Yellowstone National Park</td>\n",
       "      <td>261</td>\n",
       "    </tr>\n",
       "    <tr>\n",
       "      <th>8710</th>\n",
       "      <td>Streptopelia decaocto</td>\n",
       "      <td>Yellowstone National Park</td>\n",
       "      <td>255</td>\n",
       "    </tr>\n",
       "  </tbody>\n",
       "</table>\n",
       "</div>"
      ],
      "text/plain": [
       "                  scientific                       park  observations\n",
       "13427            Canis lupus  Yellowstone National Park           203\n",
       "10907            Canis lupus  Yellowstone National Park            67\n",
       "9811       Castor canadensis  Yellowstone National Park           256\n",
       "13025      Castor canadensis  Yellowstone National Park           264\n",
       "11193          Columba livia  Yellowstone National Park           239\n",
       "10688          Columba livia  Yellowstone National Park           232\n",
       "15829         Holcus lanatus  Yellowstone National Park           256\n",
       "20640         Holcus lanatus  Yellowstone National Park           287\n",
       "13317   Hypochaeris radicata  Yellowstone National Park           262\n",
       "22333   Hypochaeris radicata  Yellowstone National Park           220\n",
       "16384       Myotis lucifugus  Yellowstone National Park           207\n",
       "12562       Myotis lucifugus  Yellowstone National Park           233\n",
       "7751           Procyon lotor  Yellowstone National Park           249\n",
       "7370           Procyon lotor  Yellowstone National Park           256\n",
       "9605           Puma concolor  Yellowstone National Park           240\n",
       "15676          Puma concolor  Yellowstone National Park           270\n",
       "10643  Streptopelia decaocto  Yellowstone National Park           261\n",
       "8710   Streptopelia decaocto  Yellowstone National Park           255"
      ]
     },
     "execution_count": 27,
     "metadata": {},
     "output_type": "execute_result"
    }
   ],
   "source": [
    "print(yellowstone.scientific.duplicated().value_counts())\n",
    "yellowstone_duplicated = yellowstone[yellowstone.duplicated(subset=['scientific'])]\n",
    "yellowstone_duplicated[yellowstone_duplicated.duplicated(subset=['scientific'], keep=False)].sort_values(by='scientific')"
   ]
  },
  {
   "cell_type": "code",
   "execution_count": 28,
   "metadata": {},
   "outputs": [
    {
     "data": {
      "text/plain": [
       "array(['Canis lupus', 'Castor canadensis', 'Columba livia',\n",
       "       'Holcus lanatus', 'Hypochaeris radicata', 'Myotis lucifugus',\n",
       "       'Procyon lotor', 'Puma concolor', 'Streptopelia decaocto'],\n",
       "      dtype=object)"
      ]
     },
     "execution_count": 28,
     "metadata": {},
     "output_type": "execute_result"
    }
   ],
   "source": [
    "# Duplicated species observations per park\n",
    "smoky_dup_list = smoky_duplicated[smoky_duplicated.duplicated(subset=['scientific'], keep=False)]\\\n",
    ".sort_values(by='scientific', ascending=True)\n",
    "smoky_dup_list.scientific.unique()"
   ]
  },
  {
   "cell_type": "code",
   "execution_count": 29,
   "metadata": {},
   "outputs": [
    {
     "data": {
      "text/plain": [
       "array(['Canis lupus', 'Castor canadensis', 'Columba livia',\n",
       "       'Holcus lanatus', 'Hypochaeris radicata', 'Myotis lucifugus',\n",
       "       'Procyon lotor', 'Puma concolor', 'Streptopelia decaocto'],\n",
       "      dtype=object)"
      ]
     },
     "execution_count": 29,
     "metadata": {},
     "output_type": "execute_result"
    }
   ],
   "source": [
    "yosemite_dup_list = yosemite_duplicated[yosemite_duplicated.duplicated(subset=['scientific'], keep=False)]\\\n",
    ".sort_values(by='scientific', ascending=True)\n",
    "yosemite_dup_list.scientific.unique()"
   ]
  },
  {
   "cell_type": "code",
   "execution_count": 30,
   "metadata": {},
   "outputs": [
    {
     "data": {
      "text/plain": [
       "array(['Canis lupus', 'Castor canadensis', 'Columba livia',\n",
       "       'Holcus lanatus', 'Hypochaeris radicata', 'Myotis lucifugus',\n",
       "       'Procyon lotor', 'Puma concolor', 'Streptopelia decaocto'],\n",
       "      dtype=object)"
      ]
     },
     "execution_count": 30,
     "metadata": {},
     "output_type": "execute_result"
    }
   ],
   "source": [
    "bryce_dup_list = bryce_duplicated[bryce_duplicated.duplicated(subset=['scientific'], keep=False)]\\\n",
    ".sort_values(by='scientific', ascending=True)\n",
    "bryce_dup_list.scientific.unique()"
   ]
  },
  {
   "cell_type": "code",
   "execution_count": 31,
   "metadata": {},
   "outputs": [
    {
     "data": {
      "text/plain": [
       "array(['Canis lupus', 'Castor canadensis', 'Columba livia',\n",
       "       'Holcus lanatus', 'Hypochaeris radicata', 'Myotis lucifugus',\n",
       "       'Procyon lotor', 'Puma concolor', 'Streptopelia decaocto'],\n",
       "      dtype=object)"
      ]
     },
     "execution_count": 31,
     "metadata": {},
     "output_type": "execute_result"
    }
   ],
   "source": [
    "yellowstone_dup_list = yellowstone_duplicated[yellowstone_duplicated.duplicated(subset=['scientific'], keep=False)]\\\n",
    ".sort_values(by='scientific', ascending=True)\n",
    "yellowstone_dup_list.scientific.unique()"
   ]
  },
  {
   "cell_type": "code",
   "execution_count": 32,
   "metadata": {},
   "outputs": [
    {
     "data": {
      "text/plain": [
       "array(['Canis lupus', 'Castor canadensis', 'Columba livia',\n",
       "       'Holcus lanatus', 'Hypochaeris radicata', 'Myotis lucifugus',\n",
       "       'Procyon lotor', 'Puma concolor', 'Streptopelia decaocto'],\n",
       "      dtype=object)"
      ]
     },
     "execution_count": 32,
     "metadata": {},
     "output_type": "execute_result"
    }
   ],
   "source": [
    "species_dup_list = species_duplicated[species_duplicated.duplicated(subset=['scientific'], keep=False)]\\\n",
    ".sort_values(by='scientific', ascending=True)\n",
    "species_dup_list.scientific.unique()"
   ]
  },
  {
   "cell_type": "markdown",
   "metadata": {},
   "source": [
    "#### Some findings\n",
    "There are duplicated records for the species *'Canis lupus', 'Castor canadensis', 'Columba livia', 'Holcus lanatus', 'Hypochaeris radicata', 'Myotis lucifugus','Procyon lotor', 'Puma concolor', 'Streptopelia decaocto'* for all the four parks. \n",
    "\n",
    "Since the same species have duplicated values, it's unlikely that happened due to random circunstances.\n",
    "\n",
    "It turns out that those species are the same that have duplicated values in the *species* dataset. As seen above, duplicated values in the `scientific_name` column is due to different entries of `common_names` for the same species."
   ]
  },
  {
   "cell_type": "markdown",
   "metadata": {},
   "source": [
    "### 4. Distribution of conservation status for animals\n",
    "\n",
    "Under the Endangered Species Act (ESA) endangered species are classified as endangered species and threatened species.\n",
    "\n",
    "An **endangered species** is any species in danger of extinction.\n",
    "\n",
    "A **threatened species** is any species which is likely to become endangered within the foreseeable future. \n",
    "\n",
    "Species designated as threatened or endangered are called **listed species** in that they are added to the federal lists of endangered and threatened wildlife and plants. Species must meet the definition of endangered and threatened under the Act.\n",
    "\n",
    "The National Park Service dataset lists at-risk species in parks and includes those under the Endangered Species Act, and also state, local, and tribal listed species.\n",
    "\n",
    "A **species of special concern** is any species that is particularly vulnerable, and could easily become endangered.\n",
    "\n",
    "An **in recovery species** is any species that is subjected to a recovery program in order to no longer require special protection."
   ]
  },
  {
   "cell_type": "markdown",
   "metadata": {},
   "source": [
    "##### Some findings\n",
    "\n",
    "There are 1021 records for the category animal ('Mammal', 'Bird', 'Reptile', 'Amphibian', and 'Fish') in the dataset.\n",
    "\n",
    "As seen below, `Bird` is the largest group, with 521 records."
   ]
  },
  {
   "cell_type": "code",
   "execution_count": 33,
   "metadata": {},
   "outputs": [
    {
     "name": "stdout",
     "output_type": "stream",
     "text": [
      "Number of entries: 1021\n"
     ]
    },
    {
     "data": {
      "text/plain": [
       "array(['Mammal', 'Bird', 'Reptile', 'Amphibian', 'Fish'], dtype=object)"
      ]
     },
     "execution_count": 33,
     "metadata": {},
     "output_type": "execute_result"
    }
   ],
   "source": [
    "species_animals = species[species.category.str.contains('Plant') == False]\n",
    "print('Number of entries:', species_animals.category.count())\n",
    "species_animals.category.unique()"
   ]
  },
  {
   "cell_type": "code",
   "execution_count": 34,
   "metadata": {},
   "outputs": [
    {
     "data": {
      "image/png": "[encoded data removed]",
      "text/plain": [
       "<Figure size 500x500 with 1 Axes>"
      ]
     },
     "metadata": {},
     "output_type": "display_data"
    }
   ],
   "source": [
    "ax = sns.catplot(data=species_animals, x='category', kind='count')\n",
    "ax = ax.facet_axis(0,0)\n",
    "for i in ax.containers:\n",
    "    ax.bar_label(i,)"
   ]
  },
  {
   "cell_type": "markdown",
   "metadata": {},
   "source": [
    "#### 4.1 Handling missing data\n",
    "\n",
    "As seen before, most entries in the conservation status columns (about 97%) have missing data. For 5633 records, there are 191 species with information about its conservation status in the dataset.\n",
    "\n",
    "For the purpose of this topic, it's important to assess the distribution of missing data among animals category.\n"
   ]
  },
  {
   "cell_type": "code",
   "execution_count": 35,
   "metadata": {},
   "outputs": [
    {
     "ename": "AttributeError",
     "evalue": "'AxesSubplot' object has no attribute 'set_axis_labels'",
     "output_type": "error",
     "traceback": [
      "\u001b[0;31m---------------------------------------------------------------------------\u001b[0m",
      "\u001b[0;31mAttributeError\u001b[0m                            Traceback (most recent call last)",
      "Input \u001b[0;32mIn [35]\u001b[0m, in \u001b[0;36m<cell line: 11>\u001b[0;34m()\u001b[0m\n\u001b[1;32m      9\u001b[0m \u001b[38;5;28;01mfor\u001b[39;00m i \u001b[38;5;129;01min\u001b[39;00m ax\u001b[38;5;241m.\u001b[39mcontainers:\n\u001b[1;32m     10\u001b[0m     ax\u001b[38;5;241m.\u001b[39mbar_label(i,)\n\u001b[0;32m---> 11\u001b[0m \u001b[43max\u001b[49m\u001b[38;5;241;43m.\u001b[39;49m\u001b[43mset_axis_labels\u001b[49m()\n\u001b[1;32m     12\u001b[0m ax\u001b[38;5;241m.\u001b[39mset_xticklabels(rotation\u001b[38;5;241m=\u001b[39m\u001b[38;5;241m45\u001b[39m)\n\u001b[1;32m     13\u001b[0m plt\u001b[38;5;241m.\u001b[39mtitle(\u001b[38;5;124m\"\u001b[39m\u001b[38;5;124mDistribution of conservation status for animal with null values\u001b[39m\u001b[38;5;124m\"\u001b[39m)\n",
      "\u001b[0;31mAttributeError\u001b[0m: 'AxesSubplot' object has no attribute 'set_axis_labels'"
     ]
    }
   ],
   "source": [
    "# Visualizing the distribution of missing conservation status data\n",
    "species_animal_null = species_animals.fillna(value='No data')\n",
    "species_animal_null.head(10)\n",
    "\n",
    "plt.figure(figsize=(10,7))\n",
    "ax = sns.catplot(data=species_animal_null, x='conservation_status', kind='count', \\\n",
    "                 order=['Species of Concern','Threatened', 'Endangered', 'In Recovery', \"No data\"])\n",
    "ax = ax.facet_axis(0,0)\n",
    "for i in ax.containers:\n",
    "    ax.bar_label(i,)\n",
    "ax.set_axis_labels()\n",
    "ax.set_xticklabels(rotation=45)\n",
    "plt.title(\"Distribution of conservation status for animal with null values\")\n",
    "plt.show()\n",
    "plt.clf()"
   ]
  },
  {
   "cell_type": "code",
   "execution_count": null,
   "metadata": {},
   "outputs": [],
   "source": [
    "sns.catplot(data=species_animal_null, x='conservation_status', col='category', col_wrap = 2,\\\n",
    "            kind='count', height=3, aspect=13/6, \\\n",
    "            order=['Species of Concern','Threatened', 'Endangered', 'In Recovery', \"No data\"])\n",
    "plt.show()\n",
    "plt.clf()"
   ]
  },
  {
   "cell_type": "code",
   "execution_count": null,
   "metadata": {},
   "outputs": [],
   "source": [
    "# Visualizing the distribution of conservation status\n",
    "\n",
    "plt.figure(figsize=(10,7))\n",
    "ax = sns.catplot(data=species_animals, x='conservation_status', kind='count', \\\n",
    "                 order=['Species of Concern','Threatened', 'Endangered', 'In Recovery'])\n",
    "ax.set_xticklabels(rotation=45)\n",
    "plt.title(\"Distribution of conservation status for animals\")\n",
    "plt.show()\n",
    "plt.clf()"
   ]
  },
  {
   "cell_type": "code",
   "execution_count": null,
   "metadata": {},
   "outputs": [],
   "source": [
    "animals = sns.catplot(data=species_animals, x='conservation_status', col='category', col_wrap = 2,\\\n",
    "                      kind='count', order=['Species of Concern','Threatened', 'Endangered', 'In Recovery'],\\\n",
    "                      height=3, aspect=13/6)\n",
    "plt.show()\n",
    "plt.clf()\n"
   ]
  },
  {
   "cell_type": "markdown",
   "metadata": {},
   "source": [
    "#### Some findings\n",
    "\n",
    "Most animals were listed as *species of concern* conservation status.\n",
    "\n"
   ]
  },
  {
   "cell_type": "markdown",
   "metadata": {},
   "source": [
    "## Which species were spotted the most at each park?"
   ]
  },
  {
   "cell_type": "markdown",
   "metadata": {},
   "source": [
    "## Selecting species with conservation status data"
   ]
  },
  {
   "cell_type": "code",
   "execution_count": null,
   "metadata": {},
   "outputs": [],
   "source": [
    "# merging\n",
    "\n",
    "conservation = species.merge(observations, on='scientific_name')\n",
    "conservation.head()\n",
    "conservation.info()\n",
    "print(conservation.duplicated(subset=['scientific_name']).value_counts())\n",
    "conservation['conservation_status'].isna().value_counts()"
   ]
  },
  {
   "cell_type": "code",
   "execution_count": null,
   "metadata": {},
   "outputs": [],
   "source": [
    "conservation1 = conservation[conservation['conservation_status'].notnull()]"
   ]
  },
  {
   "cell_type": "code",
   "execution_count": null,
   "metadata": {},
   "outputs": [],
   "source": [
    "conservation1.info()"
   ]
  },
  {
   "cell_type": "code",
   "execution_count": null,
   "metadata": {},
   "outputs": [],
   "source": [
    "conservation1.duplicated(subset=['scientific_name']).value_counts()"
   ]
  },
  {
   "cell_type": "code",
   "execution_count": null,
   "metadata": {},
   "outputs": [],
   "source": [
    "conservation1.head(10)"
   ]
  },
  {
   "cell_type": "code",
   "execution_count": null,
   "metadata": {},
   "outputs": [],
   "source": [
    "conservation1.groupby('scientific_name').sum('observations')"
   ]
  },
  {
   "cell_type": "markdown",
   "metadata": {},
   "source": [
    "- What is the distribution of `conservation_status` for animals?"
   ]
  },
  {
   "cell_type": "markdown",
   "metadata": {},
   "source": [
    "- Are the differences between species and their conservation status significant?"
   ]
  },
  {
   "cell_type": "markdown",
   "metadata": {},
   "source": [
    "- Are certain types of species more likely to be endangered?"
   ]
  }
 ],
 "metadata": {
  "celltoolbar": "Slideshow",
  "kernelspec": {
   "display_name": "Python 3 (ipykernel)",
   "language": "python",
   "name": "python3"
  },
  "language_info": {
   "codemirror_mode": {
    "name": "ipython",
    "version": 3
   },
   "file_extension": ".py",
   "mimetype": "text/x-python",
   "name": "python",
   "nbconvert_exporter": "python",
   "pygments_lexer": "ipython3",
   "version": "3.9.13"
  }
 },
 "nbformat": 4,
 "nbformat_minor": 4
}
